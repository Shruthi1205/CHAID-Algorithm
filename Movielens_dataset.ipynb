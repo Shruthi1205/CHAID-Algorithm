{
 "cells": [
  {
   "cell_type": "code",
   "execution_count": 1,
   "id": "8b1daace",
   "metadata": {
    "execution": {
     "iopub.execute_input": "2022-01-07T01:50:03.044781Z",
     "iopub.status.busy": "2022-01-07T01:50:03.043771Z",
     "iopub.status.idle": "2022-01-07T01:50:03.047342Z",
     "shell.execute_reply": "2022-01-07T01:50:03.047834Z",
     "shell.execute_reply.started": "2022-01-07T01:47:11.163851Z"
    },
    "papermill": {
     "duration": 0.04213,
     "end_time": "2022-01-07T01:50:03.048146",
     "exception": false,
     "start_time": "2022-01-07T01:50:03.006016",
     "status": "completed"
    },
    "tags": []
   },
   "outputs": [],
   "source": [
    "import pandas as pd"
   ]
  },
  {
   "cell_type": "code",
   "execution_count": 2,
   "id": "cc5a1d42",
   "metadata": {
    "execution": {
     "iopub.execute_input": "2022-01-07T01:50:03.106689Z",
     "iopub.status.busy": "2022-01-07T01:50:03.104495Z",
     "iopub.status.idle": "2022-01-07T01:50:03.109287Z",
     "shell.execute_reply": "2022-01-07T01:50:03.108711Z",
     "shell.execute_reply.started": "2022-01-07T01:47:11.171505Z"
    },
    "papermill": {
     "duration": 0.033846,
     "end_time": "2022-01-07T01:50:03.109424",
     "exception": false,
     "start_time": "2022-01-07T01:50:03.075578",
     "status": "completed"
    },
    "tags": []
   },
   "outputs": [],
   "source": [
    "movies_cols = ['MovieID','Title','Genres']\n",
    "ratings_cols = ['UserID','MovieID','Rating','Timestamp']\n",
    "users_cols = ['UserID','Gender','Age','Occupation','Zip-code']"
   ]
  },
  {
   "cell_type": "code",
   "execution_count": 3,
   "id": "e2ceee1f",
   "metadata": {
    "execution": {
     "iopub.execute_input": "2022-01-07T01:50:03.167239Z",
     "iopub.status.busy": "2022-01-07T01:50:03.166576Z",
     "iopub.status.idle": "2022-01-07T01:50:10.396684Z",
     "shell.execute_reply": "2022-01-07T01:50:10.396081Z",
     "shell.execute_reply.started": "2022-01-07T01:47:11.186049Z"
    },
    "papermill": {
     "duration": 7.261604,
     "end_time": "2022-01-07T01:50:10.396850",
     "exception": false,
     "start_time": "2022-01-07T01:50:03.135246",
     "status": "completed"
    },
    "tags": []
   },
   "outputs": [
    {
     "name": "stderr",
     "output_type": "stream",
     "text": [
      "C:\\Users\\Shruthi\\AppData\\Local\\Temp\\ipykernel_8716\\4193178243.py:2: ParserWarning: Falling back to the 'python' engine because the 'c' engine does not support regex separators (separators > 1 char and different from '\\s+' are interpreted as regex); you can avoid this warning by specifying engine='python'.\n",
      "  movies = pd.read_csv(r\"C:\\Users\\Shruthi\\Downloads\\movies.dat\", sep = '::',header = None, names = movies_cols, encoding = 'latin 1')\n",
      "C:\\Users\\Shruthi\\AppData\\Local\\Temp\\ipykernel_8716\\4193178243.py:5: ParserWarning: Falling back to the 'python' engine because the 'c' engine does not support regex separators (separators > 1 char and different from '\\s+' are interpreted as regex); you can avoid this warning by specifying engine='python'.\n",
      "  ratings = pd.read_csv(r'C:\\Users\\Shruthi\\Downloads\\ratings.dat\\ratings.dat',sep = '::', header = None, names = ratings_cols)\n",
      "C:\\Users\\Shruthi\\AppData\\Local\\Temp\\ipykernel_8716\\4193178243.py:8: ParserWarning: Falling back to the 'python' engine because the 'c' engine does not support regex separators (separators > 1 char and different from '\\s+' are interpreted as regex); you can avoid this warning by specifying engine='python'.\n",
      "  users = pd.read_csv(r\"C:\\Users\\Shruthi\\Downloads\\users.dat\",sep = '::', header = None, names = users_cols)\n"
     ]
    }
   ],
   "source": [
    "# DataSet 1\n",
    "movies = pd.read_csv(r\"C:\\Users\\Shruthi\\Downloads\\movies.dat\", sep = '::',header = None, names = movies_cols, encoding = 'latin 1')\n",
    "                     \n",
    "# DataSet 2\n",
    "ratings = pd.read_csv(r'C:\\Users\\Shruthi\\Downloads\\ratings.dat\\ratings.dat',sep = '::', header = None, names = ratings_cols)\n",
    "                     \n",
    "# DataSet 3\n",
    "users = pd.read_csv(r\"C:\\Users\\Shruthi\\Downloads\\users.dat\",sep = '::', header = None, names = users_cols)\n",
    "                   "
   ]
  },
  {
   "cell_type": "code",
   "execution_count": 4,
   "id": "3e0d0089",
   "metadata": {
    "execution": {
     "iopub.execute_input": "2022-01-07T01:50:10.459508Z",
     "iopub.status.busy": "2022-01-07T01:50:10.458442Z",
     "iopub.status.idle": "2022-01-07T01:50:10.469824Z",
     "shell.execute_reply": "2022-01-07T01:50:10.470360Z",
     "shell.execute_reply.started": "2022-01-07T01:47:18.522567Z"
    },
    "papermill": {
     "duration": 0.04687,
     "end_time": "2022-01-07T01:50:10.470541",
     "exception": false,
     "start_time": "2022-01-07T01:50:10.423671",
     "status": "completed"
    },
    "tags": []
   },
   "outputs": [
    {
     "data": {
      "text/html": [
       "<div>\n",
       "<style scoped>\n",
       "    .dataframe tbody tr th:only-of-type {\n",
       "        vertical-align: middle;\n",
       "    }\n",
       "\n",
       "    .dataframe tbody tr th {\n",
       "        vertical-align: top;\n",
       "    }\n",
       "\n",
       "    .dataframe thead th {\n",
       "        text-align: right;\n",
       "    }\n",
       "</style>\n",
       "<table border=\"1\" class=\"dataframe\">\n",
       "  <thead>\n",
       "    <tr style=\"text-align: right;\">\n",
       "      <th></th>\n",
       "      <th>MovieID</th>\n",
       "      <th>Title</th>\n",
       "      <th>Genres</th>\n",
       "    </tr>\n",
       "  </thead>\n",
       "  <tbody>\n",
       "    <tr>\n",
       "      <th>0</th>\n",
       "      <td>1</td>\n",
       "      <td>Toy Story (1995)</td>\n",
       "      <td>Animation|Children's|Comedy</td>\n",
       "    </tr>\n",
       "    <tr>\n",
       "      <th>1</th>\n",
       "      <td>2</td>\n",
       "      <td>Jumanji (1995)</td>\n",
       "      <td>Adventure|Children's|Fantasy</td>\n",
       "    </tr>\n",
       "    <tr>\n",
       "      <th>2</th>\n",
       "      <td>3</td>\n",
       "      <td>Grumpier Old Men (1995)</td>\n",
       "      <td>Comedy|Romance</td>\n",
       "    </tr>\n",
       "    <tr>\n",
       "      <th>3</th>\n",
       "      <td>4</td>\n",
       "      <td>Waiting to Exhale (1995)</td>\n",
       "      <td>Comedy|Drama</td>\n",
       "    </tr>\n",
       "    <tr>\n",
       "      <th>4</th>\n",
       "      <td>5</td>\n",
       "      <td>Father of the Bride Part II (1995)</td>\n",
       "      <td>Comedy</td>\n",
       "    </tr>\n",
       "  </tbody>\n",
       "</table>\n",
       "</div>"
      ],
      "text/plain": [
       "   MovieID                               Title                        Genres\n",
       "0        1                    Toy Story (1995)   Animation|Children's|Comedy\n",
       "1        2                      Jumanji (1995)  Adventure|Children's|Fantasy\n",
       "2        3             Grumpier Old Men (1995)                Comedy|Romance\n",
       "3        4            Waiting to Exhale (1995)                  Comedy|Drama\n",
       "4        5  Father of the Bride Part II (1995)                        Comedy"
      ]
     },
     "execution_count": 4,
     "metadata": {},
     "output_type": "execute_result"
    }
   ],
   "source": [
    "movies.head()"
   ]
  },
  {
   "cell_type": "code",
   "execution_count": 5,
   "id": "26412c2f",
   "metadata": {
    "execution": {
     "iopub.execute_input": "2022-01-07T01:50:10.533336Z",
     "iopub.status.busy": "2022-01-07T01:50:10.526611Z",
     "iopub.status.idle": "2022-01-07T01:50:10.536335Z",
     "shell.execute_reply": "2022-01-07T01:50:10.536819Z",
     "shell.execute_reply.started": "2022-01-07T01:47:18.544633Z"
    },
    "papermill": {
     "duration": 0.039645,
     "end_time": "2022-01-07T01:50:10.536996",
     "exception": false,
     "start_time": "2022-01-07T01:50:10.497351",
     "status": "completed"
    },
    "tags": []
   },
   "outputs": [
    {
     "data": {
      "text/html": [
       "<div>\n",
       "<style scoped>\n",
       "    .dataframe tbody tr th:only-of-type {\n",
       "        vertical-align: middle;\n",
       "    }\n",
       "\n",
       "    .dataframe tbody tr th {\n",
       "        vertical-align: top;\n",
       "    }\n",
       "\n",
       "    .dataframe thead th {\n",
       "        text-align: right;\n",
       "    }\n",
       "</style>\n",
       "<table border=\"1\" class=\"dataframe\">\n",
       "  <thead>\n",
       "    <tr style=\"text-align: right;\">\n",
       "      <th></th>\n",
       "      <th>UserID</th>\n",
       "      <th>MovieID</th>\n",
       "      <th>Rating</th>\n",
       "      <th>Timestamp</th>\n",
       "    </tr>\n",
       "  </thead>\n",
       "  <tbody>\n",
       "    <tr>\n",
       "      <th>0</th>\n",
       "      <td>1</td>\n",
       "      <td>1193</td>\n",
       "      <td>5</td>\n",
       "      <td>978300760</td>\n",
       "    </tr>\n",
       "    <tr>\n",
       "      <th>1</th>\n",
       "      <td>1</td>\n",
       "      <td>661</td>\n",
       "      <td>3</td>\n",
       "      <td>978302109</td>\n",
       "    </tr>\n",
       "    <tr>\n",
       "      <th>2</th>\n",
       "      <td>1</td>\n",
       "      <td>914</td>\n",
       "      <td>3</td>\n",
       "      <td>978301968</td>\n",
       "    </tr>\n",
       "    <tr>\n",
       "      <th>3</th>\n",
       "      <td>1</td>\n",
       "      <td>3408</td>\n",
       "      <td>4</td>\n",
       "      <td>978300275</td>\n",
       "    </tr>\n",
       "    <tr>\n",
       "      <th>4</th>\n",
       "      <td>1</td>\n",
       "      <td>2355</td>\n",
       "      <td>5</td>\n",
       "      <td>978824291</td>\n",
       "    </tr>\n",
       "  </tbody>\n",
       "</table>\n",
       "</div>"
      ],
      "text/plain": [
       "   UserID  MovieID  Rating  Timestamp\n",
       "0       1     1193       5  978300760\n",
       "1       1      661       3  978302109\n",
       "2       1      914       3  978301968\n",
       "3       1     3408       4  978300275\n",
       "4       1     2355       5  978824291"
      ]
     },
     "execution_count": 5,
     "metadata": {},
     "output_type": "execute_result"
    }
   ],
   "source": [
    "ratings.head()"
   ]
  },
  {
   "cell_type": "code",
   "execution_count": 6,
   "id": "d9cb33de",
   "metadata": {
    "execution": {
     "iopub.execute_input": "2022-01-07T01:50:10.595049Z",
     "iopub.status.busy": "2022-01-07T01:50:10.594397Z",
     "iopub.status.idle": "2022-01-07T01:50:10.603920Z",
     "shell.execute_reply": "2022-01-07T01:50:10.604434Z",
     "shell.execute_reply.started": "2022-01-07T01:47:18.555213Z"
    },
    "papermill": {
     "duration": 0.040211,
     "end_time": "2022-01-07T01:50:10.604628",
     "exception": false,
     "start_time": "2022-01-07T01:50:10.564417",
     "status": "completed"
    },
    "tags": []
   },
   "outputs": [
    {
     "data": {
      "text/html": [
       "<div>\n",
       "<style scoped>\n",
       "    .dataframe tbody tr th:only-of-type {\n",
       "        vertical-align: middle;\n",
       "    }\n",
       "\n",
       "    .dataframe tbody tr th {\n",
       "        vertical-align: top;\n",
       "    }\n",
       "\n",
       "    .dataframe thead th {\n",
       "        text-align: right;\n",
       "    }\n",
       "</style>\n",
       "<table border=\"1\" class=\"dataframe\">\n",
       "  <thead>\n",
       "    <tr style=\"text-align: right;\">\n",
       "      <th></th>\n",
       "      <th>UserID</th>\n",
       "      <th>Gender</th>\n",
       "      <th>Age</th>\n",
       "      <th>Occupation</th>\n",
       "      <th>Zip-code</th>\n",
       "    </tr>\n",
       "  </thead>\n",
       "  <tbody>\n",
       "    <tr>\n",
       "      <th>0</th>\n",
       "      <td>1</td>\n",
       "      <td>F</td>\n",
       "      <td>1</td>\n",
       "      <td>10</td>\n",
       "      <td>48067</td>\n",
       "    </tr>\n",
       "    <tr>\n",
       "      <th>1</th>\n",
       "      <td>2</td>\n",
       "      <td>M</td>\n",
       "      <td>56</td>\n",
       "      <td>16</td>\n",
       "      <td>70072</td>\n",
       "    </tr>\n",
       "    <tr>\n",
       "      <th>2</th>\n",
       "      <td>3</td>\n",
       "      <td>M</td>\n",
       "      <td>25</td>\n",
       "      <td>15</td>\n",
       "      <td>55117</td>\n",
       "    </tr>\n",
       "    <tr>\n",
       "      <th>3</th>\n",
       "      <td>4</td>\n",
       "      <td>M</td>\n",
       "      <td>45</td>\n",
       "      <td>7</td>\n",
       "      <td>02460</td>\n",
       "    </tr>\n",
       "    <tr>\n",
       "      <th>4</th>\n",
       "      <td>5</td>\n",
       "      <td>M</td>\n",
       "      <td>25</td>\n",
       "      <td>20</td>\n",
       "      <td>55455</td>\n",
       "    </tr>\n",
       "  </tbody>\n",
       "</table>\n",
       "</div>"
      ],
      "text/plain": [
       "   UserID Gender  Age  Occupation Zip-code\n",
       "0       1      F    1          10    48067\n",
       "1       2      M   56          16    70072\n",
       "2       3      M   25          15    55117\n",
       "3       4      M   45           7    02460\n",
       "4       5      M   25          20    55455"
      ]
     },
     "execution_count": 6,
     "metadata": {},
     "output_type": "execute_result"
    }
   ],
   "source": [
    "users.head()"
   ]
  },
  {
   "cell_type": "code",
   "execution_count": 7,
   "id": "26c72097",
   "metadata": {},
   "outputs": [
    {
     "data": {
      "text/html": [
       "<div>\n",
       "<style scoped>\n",
       "    .dataframe tbody tr th:only-of-type {\n",
       "        vertical-align: middle;\n",
       "    }\n",
       "\n",
       "    .dataframe tbody tr th {\n",
       "        vertical-align: top;\n",
       "    }\n",
       "\n",
       "    .dataframe thead th {\n",
       "        text-align: right;\n",
       "    }\n",
       "</style>\n",
       "<table border=\"1\" class=\"dataframe\">\n",
       "  <thead>\n",
       "    <tr style=\"text-align: right;\">\n",
       "      <th></th>\n",
       "      <th>MovieID</th>\n",
       "    </tr>\n",
       "  </thead>\n",
       "  <tbody>\n",
       "    <tr>\n",
       "      <th>count</th>\n",
       "      <td>3883.000000</td>\n",
       "    </tr>\n",
       "    <tr>\n",
       "      <th>mean</th>\n",
       "      <td>1986.049446</td>\n",
       "    </tr>\n",
       "    <tr>\n",
       "      <th>std</th>\n",
       "      <td>1146.778349</td>\n",
       "    </tr>\n",
       "    <tr>\n",
       "      <th>min</th>\n",
       "      <td>1.000000</td>\n",
       "    </tr>\n",
       "    <tr>\n",
       "      <th>25%</th>\n",
       "      <td>982.500000</td>\n",
       "    </tr>\n",
       "    <tr>\n",
       "      <th>50%</th>\n",
       "      <td>2010.000000</td>\n",
       "    </tr>\n",
       "    <tr>\n",
       "      <th>75%</th>\n",
       "      <td>2980.500000</td>\n",
       "    </tr>\n",
       "    <tr>\n",
       "      <th>max</th>\n",
       "      <td>3952.000000</td>\n",
       "    </tr>\n",
       "  </tbody>\n",
       "</table>\n",
       "</div>"
      ],
      "text/plain": [
       "           MovieID\n",
       "count  3883.000000\n",
       "mean   1986.049446\n",
       "std    1146.778349\n",
       "min       1.000000\n",
       "25%     982.500000\n",
       "50%    2010.000000\n",
       "75%    2980.500000\n",
       "max    3952.000000"
      ]
     },
     "execution_count": 7,
     "metadata": {},
     "output_type": "execute_result"
    }
   ],
   "source": [
    "movies.describe()"
   ]
  },
  {
   "cell_type": "code",
   "execution_count": 8,
   "id": "3c78ef95",
   "metadata": {},
   "outputs": [
    {
     "data": {
      "text/html": [
       "<div>\n",
       "<style scoped>\n",
       "    .dataframe tbody tr th:only-of-type {\n",
       "        vertical-align: middle;\n",
       "    }\n",
       "\n",
       "    .dataframe tbody tr th {\n",
       "        vertical-align: top;\n",
       "    }\n",
       "\n",
       "    .dataframe thead th {\n",
       "        text-align: right;\n",
       "    }\n",
       "</style>\n",
       "<table border=\"1\" class=\"dataframe\">\n",
       "  <thead>\n",
       "    <tr style=\"text-align: right;\">\n",
       "      <th></th>\n",
       "      <th>UserID</th>\n",
       "      <th>MovieID</th>\n",
       "      <th>Rating</th>\n",
       "      <th>Timestamp</th>\n",
       "    </tr>\n",
       "  </thead>\n",
       "  <tbody>\n",
       "    <tr>\n",
       "      <th>count</th>\n",
       "      <td>1.000209e+06</td>\n",
       "      <td>1.000209e+06</td>\n",
       "      <td>1.000209e+06</td>\n",
       "      <td>1.000209e+06</td>\n",
       "    </tr>\n",
       "    <tr>\n",
       "      <th>mean</th>\n",
       "      <td>3.024512e+03</td>\n",
       "      <td>1.865540e+03</td>\n",
       "      <td>3.581564e+00</td>\n",
       "      <td>9.722437e+08</td>\n",
       "    </tr>\n",
       "    <tr>\n",
       "      <th>std</th>\n",
       "      <td>1.728413e+03</td>\n",
       "      <td>1.096041e+03</td>\n",
       "      <td>1.117102e+00</td>\n",
       "      <td>1.215256e+07</td>\n",
       "    </tr>\n",
       "    <tr>\n",
       "      <th>min</th>\n",
       "      <td>1.000000e+00</td>\n",
       "      <td>1.000000e+00</td>\n",
       "      <td>1.000000e+00</td>\n",
       "      <td>9.567039e+08</td>\n",
       "    </tr>\n",
       "    <tr>\n",
       "      <th>25%</th>\n",
       "      <td>1.506000e+03</td>\n",
       "      <td>1.030000e+03</td>\n",
       "      <td>3.000000e+00</td>\n",
       "      <td>9.653026e+08</td>\n",
       "    </tr>\n",
       "    <tr>\n",
       "      <th>50%</th>\n",
       "      <td>3.070000e+03</td>\n",
       "      <td>1.835000e+03</td>\n",
       "      <td>4.000000e+00</td>\n",
       "      <td>9.730180e+08</td>\n",
       "    </tr>\n",
       "    <tr>\n",
       "      <th>75%</th>\n",
       "      <td>4.476000e+03</td>\n",
       "      <td>2.770000e+03</td>\n",
       "      <td>4.000000e+00</td>\n",
       "      <td>9.752209e+08</td>\n",
       "    </tr>\n",
       "    <tr>\n",
       "      <th>max</th>\n",
       "      <td>6.040000e+03</td>\n",
       "      <td>3.952000e+03</td>\n",
       "      <td>5.000000e+00</td>\n",
       "      <td>1.046455e+09</td>\n",
       "    </tr>\n",
       "  </tbody>\n",
       "</table>\n",
       "</div>"
      ],
      "text/plain": [
       "             UserID       MovieID        Rating     Timestamp\n",
       "count  1.000209e+06  1.000209e+06  1.000209e+06  1.000209e+06\n",
       "mean   3.024512e+03  1.865540e+03  3.581564e+00  9.722437e+08\n",
       "std    1.728413e+03  1.096041e+03  1.117102e+00  1.215256e+07\n",
       "min    1.000000e+00  1.000000e+00  1.000000e+00  9.567039e+08\n",
       "25%    1.506000e+03  1.030000e+03  3.000000e+00  9.653026e+08\n",
       "50%    3.070000e+03  1.835000e+03  4.000000e+00  9.730180e+08\n",
       "75%    4.476000e+03  2.770000e+03  4.000000e+00  9.752209e+08\n",
       "max    6.040000e+03  3.952000e+03  5.000000e+00  1.046455e+09"
      ]
     },
     "execution_count": 8,
     "metadata": {},
     "output_type": "execute_result"
    }
   ],
   "source": [
    "ratings.describe()"
   ]
  },
  {
   "cell_type": "code",
   "execution_count": 9,
   "id": "e2699176",
   "metadata": {},
   "outputs": [
    {
     "data": {
      "text/html": [
       "<div>\n",
       "<style scoped>\n",
       "    .dataframe tbody tr th:only-of-type {\n",
       "        vertical-align: middle;\n",
       "    }\n",
       "\n",
       "    .dataframe tbody tr th {\n",
       "        vertical-align: top;\n",
       "    }\n",
       "\n",
       "    .dataframe thead th {\n",
       "        text-align: right;\n",
       "    }\n",
       "</style>\n",
       "<table border=\"1\" class=\"dataframe\">\n",
       "  <thead>\n",
       "    <tr style=\"text-align: right;\">\n",
       "      <th></th>\n",
       "      <th>UserID</th>\n",
       "      <th>Age</th>\n",
       "      <th>Occupation</th>\n",
       "    </tr>\n",
       "  </thead>\n",
       "  <tbody>\n",
       "    <tr>\n",
       "      <th>count</th>\n",
       "      <td>6040.000000</td>\n",
       "      <td>6040.000000</td>\n",
       "      <td>6040.000000</td>\n",
       "    </tr>\n",
       "    <tr>\n",
       "      <th>mean</th>\n",
       "      <td>3020.500000</td>\n",
       "      <td>30.639238</td>\n",
       "      <td>8.146854</td>\n",
       "    </tr>\n",
       "    <tr>\n",
       "      <th>std</th>\n",
       "      <td>1743.742145</td>\n",
       "      <td>12.895962</td>\n",
       "      <td>6.329511</td>\n",
       "    </tr>\n",
       "    <tr>\n",
       "      <th>min</th>\n",
       "      <td>1.000000</td>\n",
       "      <td>1.000000</td>\n",
       "      <td>0.000000</td>\n",
       "    </tr>\n",
       "    <tr>\n",
       "      <th>25%</th>\n",
       "      <td>1510.750000</td>\n",
       "      <td>25.000000</td>\n",
       "      <td>3.000000</td>\n",
       "    </tr>\n",
       "    <tr>\n",
       "      <th>50%</th>\n",
       "      <td>3020.500000</td>\n",
       "      <td>25.000000</td>\n",
       "      <td>7.000000</td>\n",
       "    </tr>\n",
       "    <tr>\n",
       "      <th>75%</th>\n",
       "      <td>4530.250000</td>\n",
       "      <td>35.000000</td>\n",
       "      <td>14.000000</td>\n",
       "    </tr>\n",
       "    <tr>\n",
       "      <th>max</th>\n",
       "      <td>6040.000000</td>\n",
       "      <td>56.000000</td>\n",
       "      <td>20.000000</td>\n",
       "    </tr>\n",
       "  </tbody>\n",
       "</table>\n",
       "</div>"
      ],
      "text/plain": [
       "            UserID          Age   Occupation\n",
       "count  6040.000000  6040.000000  6040.000000\n",
       "mean   3020.500000    30.639238     8.146854\n",
       "std    1743.742145    12.895962     6.329511\n",
       "min       1.000000     1.000000     0.000000\n",
       "25%    1510.750000    25.000000     3.000000\n",
       "50%    3020.500000    25.000000     7.000000\n",
       "75%    4530.250000    35.000000    14.000000\n",
       "max    6040.000000    56.000000    20.000000"
      ]
     },
     "execution_count": 9,
     "metadata": {},
     "output_type": "execute_result"
    }
   ],
   "source": [
    "users.describe()"
   ]
  },
  {
   "cell_type": "code",
   "execution_count": 10,
   "id": "1232e3ed",
   "metadata": {},
   "outputs": [
    {
     "data": {
      "text/plain": [
       "MovieID     int64\n",
       "Title      object\n",
       "Genres     object\n",
       "dtype: object"
      ]
     },
     "execution_count": 10,
     "metadata": {},
     "output_type": "execute_result"
    }
   ],
   "source": [
    "movies.dtypes"
   ]
  },
  {
   "cell_type": "code",
   "execution_count": 11,
   "id": "ebcede1d",
   "metadata": {},
   "outputs": [
    {
     "data": {
      "text/plain": [
       "UserID       int64\n",
       "MovieID      int64\n",
       "Rating       int64\n",
       "Timestamp    int64\n",
       "dtype: object"
      ]
     },
     "execution_count": 11,
     "metadata": {},
     "output_type": "execute_result"
    }
   ],
   "source": [
    "ratings.dtypes"
   ]
  },
  {
   "cell_type": "code",
   "execution_count": 12,
   "id": "c7357549",
   "metadata": {},
   "outputs": [
    {
     "data": {
      "text/plain": [
       "UserID         int64\n",
       "Gender        object\n",
       "Age            int64\n",
       "Occupation     int64\n",
       "Zip-code      object\n",
       "dtype: object"
      ]
     },
     "execution_count": 12,
     "metadata": {},
     "output_type": "execute_result"
    }
   ],
   "source": [
    "users.dtypes"
   ]
  },
  {
   "cell_type": "code",
   "execution_count": 13,
   "id": "c04241ae",
   "metadata": {},
   "outputs": [
    {
     "data": {
      "text/plain": [
       "MovieID    3883\n",
       "Title      3883\n",
       "Genres      301\n",
       "dtype: int64"
      ]
     },
     "execution_count": 13,
     "metadata": {},
     "output_type": "execute_result"
    }
   ],
   "source": [
    "movies.nunique()"
   ]
  },
  {
   "cell_type": "code",
   "execution_count": 14,
   "id": "0c28c631",
   "metadata": {},
   "outputs": [
    {
     "data": {
      "text/plain": [
       "UserID         6040\n",
       "MovieID        3706\n",
       "Rating            5\n",
       "Timestamp    458455\n",
       "dtype: int64"
      ]
     },
     "execution_count": 14,
     "metadata": {},
     "output_type": "execute_result"
    }
   ],
   "source": [
    "ratings.nunique()"
   ]
  },
  {
   "cell_type": "code",
   "execution_count": 15,
   "id": "a61b5530",
   "metadata": {},
   "outputs": [
    {
     "data": {
      "text/plain": [
       "UserID        6040\n",
       "Gender           2\n",
       "Age              7\n",
       "Occupation      21\n",
       "Zip-code      3439\n",
       "dtype: int64"
      ]
     },
     "execution_count": 15,
     "metadata": {},
     "output_type": "execute_result"
    }
   ],
   "source": [
    "users.nunique()"
   ]
  },
  {
   "cell_type": "code",
   "execution_count": 16,
   "id": "2d1ff25f",
   "metadata": {},
   "outputs": [
    {
     "name": "stdout",
     "output_type": "stream",
     "text": [
      "(3883, 3)\n",
      "(1000209, 4)\n",
      "(6040, 5)\n"
     ]
    }
   ],
   "source": [
    "print(movies.shape)\n",
    "print(ratings.shape)\n",
    "print(users.shape)"
   ]
  },
  {
   "cell_type": "code",
   "execution_count": 17,
   "id": "bf701dab",
   "metadata": {
    "execution": {
     "iopub.execute_input": "2022-01-07T01:50:10.722912Z",
     "iopub.status.busy": "2022-01-07T01:50:10.722266Z",
     "iopub.status.idle": "2022-01-07T01:50:10.918986Z",
     "shell.execute_reply": "2022-01-07T01:50:10.918320Z",
     "shell.execute_reply.started": "2022-01-07T01:47:18.574282Z"
    },
    "papermill": {
     "duration": 0.228816,
     "end_time": "2022-01-07T01:50:10.919121",
     "exception": false,
     "start_time": "2022-01-07T01:50:10.690305",
     "status": "completed"
    },
    "tags": []
   },
   "outputs": [
    {
     "data": {
      "text/html": [
       "<div>\n",
       "<style scoped>\n",
       "    .dataframe tbody tr th:only-of-type {\n",
       "        vertical-align: middle;\n",
       "    }\n",
       "\n",
       "    .dataframe tbody tr th {\n",
       "        vertical-align: top;\n",
       "    }\n",
       "\n",
       "    .dataframe thead th {\n",
       "        text-align: right;\n",
       "    }\n",
       "</style>\n",
       "<table border=\"1\" class=\"dataframe\">\n",
       "  <thead>\n",
       "    <tr style=\"text-align: right;\">\n",
       "      <th></th>\n",
       "      <th>MovieID</th>\n",
       "      <th>Title</th>\n",
       "      <th>Genres</th>\n",
       "      <th>UserID</th>\n",
       "      <th>Rating</th>\n",
       "      <th>Timestamp</th>\n",
       "    </tr>\n",
       "  </thead>\n",
       "  <tbody>\n",
       "    <tr>\n",
       "      <th>0</th>\n",
       "      <td>1</td>\n",
       "      <td>Toy Story (1995)</td>\n",
       "      <td>Animation|Children's|Comedy</td>\n",
       "      <td>1</td>\n",
       "      <td>5</td>\n",
       "      <td>978824268</td>\n",
       "    </tr>\n",
       "    <tr>\n",
       "      <th>1</th>\n",
       "      <td>1</td>\n",
       "      <td>Toy Story (1995)</td>\n",
       "      <td>Animation|Children's|Comedy</td>\n",
       "      <td>6</td>\n",
       "      <td>4</td>\n",
       "      <td>978237008</td>\n",
       "    </tr>\n",
       "    <tr>\n",
       "      <th>2</th>\n",
       "      <td>1</td>\n",
       "      <td>Toy Story (1995)</td>\n",
       "      <td>Animation|Children's|Comedy</td>\n",
       "      <td>8</td>\n",
       "      <td>4</td>\n",
       "      <td>978233496</td>\n",
       "    </tr>\n",
       "    <tr>\n",
       "      <th>3</th>\n",
       "      <td>1</td>\n",
       "      <td>Toy Story (1995)</td>\n",
       "      <td>Animation|Children's|Comedy</td>\n",
       "      <td>9</td>\n",
       "      <td>5</td>\n",
       "      <td>978225952</td>\n",
       "    </tr>\n",
       "    <tr>\n",
       "      <th>4</th>\n",
       "      <td>1</td>\n",
       "      <td>Toy Story (1995)</td>\n",
       "      <td>Animation|Children's|Comedy</td>\n",
       "      <td>10</td>\n",
       "      <td>5</td>\n",
       "      <td>978226474</td>\n",
       "    </tr>\n",
       "  </tbody>\n",
       "</table>\n",
       "</div>"
      ],
      "text/plain": [
       "   MovieID             Title                       Genres  UserID  Rating  \\\n",
       "0        1  Toy Story (1995)  Animation|Children's|Comedy       1       5   \n",
       "1        1  Toy Story (1995)  Animation|Children's|Comedy       6       4   \n",
       "2        1  Toy Story (1995)  Animation|Children's|Comedy       8       4   \n",
       "3        1  Toy Story (1995)  Animation|Children's|Comedy       9       5   \n",
       "4        1  Toy Story (1995)  Animation|Children's|Comedy      10       5   \n",
       "\n",
       "   Timestamp  \n",
       "0  978824268  \n",
       "1  978237008  \n",
       "2  978233496  \n",
       "3  978225952  \n",
       "4  978226474  "
      ]
     },
     "execution_count": 17,
     "metadata": {},
     "output_type": "execute_result"
    }
   ],
   "source": [
    "merge_on_movieid = pd.merge(movies,ratings,on = 'MovieID').reset_index(drop = True)\n",
    "merge_on_movieid.head()"
   ]
  },
  {
   "cell_type": "code",
   "execution_count": 18,
   "id": "85657301",
   "metadata": {
    "execution": {
     "iopub.execute_input": "2022-01-07T01:50:10.978961Z",
     "iopub.status.busy": "2022-01-07T01:50:10.978325Z",
     "iopub.status.idle": "2022-01-07T01:50:11.435018Z",
     "shell.execute_reply": "2022-01-07T01:50:11.435504Z",
     "shell.execute_reply.started": "2022-01-07T01:47:18.777664Z"
    },
    "papermill": {
     "duration": 0.488105,
     "end_time": "2022-01-07T01:50:11.435686",
     "exception": false,
     "start_time": "2022-01-07T01:50:10.947581",
     "status": "completed"
    },
    "tags": []
   },
   "outputs": [
    {
     "data": {
      "text/html": [
       "<div>\n",
       "<style scoped>\n",
       "    .dataframe tbody tr th:only-of-type {\n",
       "        vertical-align: middle;\n",
       "    }\n",
       "\n",
       "    .dataframe tbody tr th {\n",
       "        vertical-align: top;\n",
       "    }\n",
       "\n",
       "    .dataframe thead th {\n",
       "        text-align: right;\n",
       "    }\n",
       "</style>\n",
       "<table border=\"1\" class=\"dataframe\">\n",
       "  <thead>\n",
       "    <tr style=\"text-align: right;\">\n",
       "      <th></th>\n",
       "      <th>MovieID</th>\n",
       "      <th>Title</th>\n",
       "      <th>Genres</th>\n",
       "      <th>UserID</th>\n",
       "      <th>Rating</th>\n",
       "      <th>Timestamp</th>\n",
       "      <th>Gender</th>\n",
       "      <th>Age</th>\n",
       "      <th>Occupation</th>\n",
       "      <th>Zip-code</th>\n",
       "    </tr>\n",
       "  </thead>\n",
       "  <tbody>\n",
       "    <tr>\n",
       "      <th>0</th>\n",
       "      <td>1</td>\n",
       "      <td>Toy Story (1995)</td>\n",
       "      <td>Animation|Children's|Comedy</td>\n",
       "      <td>1</td>\n",
       "      <td>5</td>\n",
       "      <td>978824268</td>\n",
       "      <td>F</td>\n",
       "      <td>1</td>\n",
       "      <td>10</td>\n",
       "      <td>48067</td>\n",
       "    </tr>\n",
       "    <tr>\n",
       "      <th>1</th>\n",
       "      <td>48</td>\n",
       "      <td>Pocahontas (1995)</td>\n",
       "      <td>Animation|Children's|Musical|Romance</td>\n",
       "      <td>1</td>\n",
       "      <td>5</td>\n",
       "      <td>978824351</td>\n",
       "      <td>F</td>\n",
       "      <td>1</td>\n",
       "      <td>10</td>\n",
       "      <td>48067</td>\n",
       "    </tr>\n",
       "    <tr>\n",
       "      <th>2</th>\n",
       "      <td>150</td>\n",
       "      <td>Apollo 13 (1995)</td>\n",
       "      <td>Drama</td>\n",
       "      <td>1</td>\n",
       "      <td>5</td>\n",
       "      <td>978301777</td>\n",
       "      <td>F</td>\n",
       "      <td>1</td>\n",
       "      <td>10</td>\n",
       "      <td>48067</td>\n",
       "    </tr>\n",
       "    <tr>\n",
       "      <th>3</th>\n",
       "      <td>260</td>\n",
       "      <td>Star Wars: Episode IV - A New Hope (1977)</td>\n",
       "      <td>Action|Adventure|Fantasy|Sci-Fi</td>\n",
       "      <td>1</td>\n",
       "      <td>4</td>\n",
       "      <td>978300760</td>\n",
       "      <td>F</td>\n",
       "      <td>1</td>\n",
       "      <td>10</td>\n",
       "      <td>48067</td>\n",
       "    </tr>\n",
       "    <tr>\n",
       "      <th>4</th>\n",
       "      <td>527</td>\n",
       "      <td>Schindler's List (1993)</td>\n",
       "      <td>Drama|War</td>\n",
       "      <td>1</td>\n",
       "      <td>5</td>\n",
       "      <td>978824195</td>\n",
       "      <td>F</td>\n",
       "      <td>1</td>\n",
       "      <td>10</td>\n",
       "      <td>48067</td>\n",
       "    </tr>\n",
       "  </tbody>\n",
       "</table>\n",
       "</div>"
      ],
      "text/plain": [
       "   MovieID                                      Title  \\\n",
       "0        1                           Toy Story (1995)   \n",
       "1       48                          Pocahontas (1995)   \n",
       "2      150                           Apollo 13 (1995)   \n",
       "3      260  Star Wars: Episode IV - A New Hope (1977)   \n",
       "4      527                    Schindler's List (1993)   \n",
       "\n",
       "                                 Genres  UserID  Rating  Timestamp Gender  \\\n",
       "0           Animation|Children's|Comedy       1       5  978824268      F   \n",
       "1  Animation|Children's|Musical|Romance       1       5  978824351      F   \n",
       "2                                 Drama       1       5  978301777      F   \n",
       "3       Action|Adventure|Fantasy|Sci-Fi       1       4  978300760      F   \n",
       "4                             Drama|War       1       5  978824195      F   \n",
       "\n",
       "   Age  Occupation Zip-code  \n",
       "0    1          10    48067  \n",
       "1    1          10    48067  \n",
       "2    1          10    48067  \n",
       "3    1          10    48067  \n",
       "4    1          10    48067  "
      ]
     },
     "execution_count": 18,
     "metadata": {},
     "output_type": "execute_result"
    }
   ],
   "source": [
    "merge_on_userid = pd.merge(merge_on_movieid, users, on = 'UserID').reset_index(drop = True)\n",
    "merge_on_userid.head()"
   ]
  },
  {
   "cell_type": "code",
   "execution_count": 19,
   "id": "b2a30753",
   "metadata": {},
   "outputs": [
    {
     "data": {
      "text/plain": [
       "(1000209, 10)"
      ]
     },
     "execution_count": 19,
     "metadata": {},
     "output_type": "execute_result"
    }
   ],
   "source": [
    "merge_on_userid.shape"
   ]
  },
  {
   "cell_type": "code",
   "execution_count": 20,
   "id": "979d2e6b",
   "metadata": {},
   "outputs": [
    {
     "data": {
      "text/html": [
       "<div>\n",
       "<style scoped>\n",
       "    .dataframe tbody tr th:only-of-type {\n",
       "        vertical-align: middle;\n",
       "    }\n",
       "\n",
       "    .dataframe tbody tr th {\n",
       "        vertical-align: top;\n",
       "    }\n",
       "\n",
       "    .dataframe thead th {\n",
       "        text-align: right;\n",
       "    }\n",
       "</style>\n",
       "<table border=\"1\" class=\"dataframe\">\n",
       "  <thead>\n",
       "    <tr style=\"text-align: right;\">\n",
       "      <th></th>\n",
       "      <th>MovieID</th>\n",
       "      <th>UserID</th>\n",
       "      <th>Rating</th>\n",
       "      <th>Timestamp</th>\n",
       "      <th>Age</th>\n",
       "      <th>Occupation</th>\n",
       "    </tr>\n",
       "  </thead>\n",
       "  <tbody>\n",
       "    <tr>\n",
       "      <th>count</th>\n",
       "      <td>1.000209e+06</td>\n",
       "      <td>1.000209e+06</td>\n",
       "      <td>1.000209e+06</td>\n",
       "      <td>1.000209e+06</td>\n",
       "      <td>1.000209e+06</td>\n",
       "      <td>1.000209e+06</td>\n",
       "    </tr>\n",
       "    <tr>\n",
       "      <th>mean</th>\n",
       "      <td>1.865540e+03</td>\n",
       "      <td>3.024512e+03</td>\n",
       "      <td>3.581564e+00</td>\n",
       "      <td>9.722437e+08</td>\n",
       "      <td>2.973831e+01</td>\n",
       "      <td>8.036138e+00</td>\n",
       "    </tr>\n",
       "    <tr>\n",
       "      <th>std</th>\n",
       "      <td>1.096041e+03</td>\n",
       "      <td>1.728413e+03</td>\n",
       "      <td>1.117102e+00</td>\n",
       "      <td>1.215256e+07</td>\n",
       "      <td>1.175198e+01</td>\n",
       "      <td>6.531336e+00</td>\n",
       "    </tr>\n",
       "    <tr>\n",
       "      <th>min</th>\n",
       "      <td>1.000000e+00</td>\n",
       "      <td>1.000000e+00</td>\n",
       "      <td>1.000000e+00</td>\n",
       "      <td>9.567039e+08</td>\n",
       "      <td>1.000000e+00</td>\n",
       "      <td>0.000000e+00</td>\n",
       "    </tr>\n",
       "    <tr>\n",
       "      <th>25%</th>\n",
       "      <td>1.030000e+03</td>\n",
       "      <td>1.506000e+03</td>\n",
       "      <td>3.000000e+00</td>\n",
       "      <td>9.653026e+08</td>\n",
       "      <td>2.500000e+01</td>\n",
       "      <td>2.000000e+00</td>\n",
       "    </tr>\n",
       "    <tr>\n",
       "      <th>50%</th>\n",
       "      <td>1.835000e+03</td>\n",
       "      <td>3.070000e+03</td>\n",
       "      <td>4.000000e+00</td>\n",
       "      <td>9.730180e+08</td>\n",
       "      <td>2.500000e+01</td>\n",
       "      <td>7.000000e+00</td>\n",
       "    </tr>\n",
       "    <tr>\n",
       "      <th>75%</th>\n",
       "      <td>2.770000e+03</td>\n",
       "      <td>4.476000e+03</td>\n",
       "      <td>4.000000e+00</td>\n",
       "      <td>9.752209e+08</td>\n",
       "      <td>3.500000e+01</td>\n",
       "      <td>1.400000e+01</td>\n",
       "    </tr>\n",
       "    <tr>\n",
       "      <th>max</th>\n",
       "      <td>3.952000e+03</td>\n",
       "      <td>6.040000e+03</td>\n",
       "      <td>5.000000e+00</td>\n",
       "      <td>1.046455e+09</td>\n",
       "      <td>5.600000e+01</td>\n",
       "      <td>2.000000e+01</td>\n",
       "    </tr>\n",
       "  </tbody>\n",
       "</table>\n",
       "</div>"
      ],
      "text/plain": [
       "            MovieID        UserID        Rating     Timestamp           Age  \\\n",
       "count  1.000209e+06  1.000209e+06  1.000209e+06  1.000209e+06  1.000209e+06   \n",
       "mean   1.865540e+03  3.024512e+03  3.581564e+00  9.722437e+08  2.973831e+01   \n",
       "std    1.096041e+03  1.728413e+03  1.117102e+00  1.215256e+07  1.175198e+01   \n",
       "min    1.000000e+00  1.000000e+00  1.000000e+00  9.567039e+08  1.000000e+00   \n",
       "25%    1.030000e+03  1.506000e+03  3.000000e+00  9.653026e+08  2.500000e+01   \n",
       "50%    1.835000e+03  3.070000e+03  4.000000e+00  9.730180e+08  2.500000e+01   \n",
       "75%    2.770000e+03  4.476000e+03  4.000000e+00  9.752209e+08  3.500000e+01   \n",
       "max    3.952000e+03  6.040000e+03  5.000000e+00  1.046455e+09  5.600000e+01   \n",
       "\n",
       "         Occupation  \n",
       "count  1.000209e+06  \n",
       "mean   8.036138e+00  \n",
       "std    6.531336e+00  \n",
       "min    0.000000e+00  \n",
       "25%    2.000000e+00  \n",
       "50%    7.000000e+00  \n",
       "75%    1.400000e+01  \n",
       "max    2.000000e+01  "
      ]
     },
     "execution_count": 20,
     "metadata": {},
     "output_type": "execute_result"
    }
   ],
   "source": [
    "merge_on_userid.describe()"
   ]
  },
  {
   "cell_type": "code",
   "execution_count": 21,
   "id": "e274315c",
   "metadata": {},
   "outputs": [
    {
     "data": {
      "text/plain": [
       "MovieID         3706\n",
       "Title           3706\n",
       "Genres           301\n",
       "UserID          6040\n",
       "Rating             5\n",
       "Timestamp     458455\n",
       "Gender             2\n",
       "Age                7\n",
       "Occupation        21\n",
       "Zip-code        3439\n",
       "dtype: int64"
      ]
     },
     "execution_count": 21,
     "metadata": {},
     "output_type": "execute_result"
    }
   ],
   "source": [
    "merge_on_userid.nunique()"
   ]
  },
  {
   "cell_type": "code",
   "execution_count": 22,
   "id": "e71b20d2",
   "metadata": {},
   "outputs": [
    {
     "data": {
      "text/plain": [
       "MovieID        int64\n",
       "Title         object\n",
       "Genres        object\n",
       "UserID         int64\n",
       "Rating         int64\n",
       "Timestamp      int64\n",
       "Gender        object\n",
       "Age            int64\n",
       "Occupation     int64\n",
       "Zip-code      object\n",
       "dtype: object"
      ]
     },
     "execution_count": 22,
     "metadata": {},
     "output_type": "execute_result"
    }
   ],
   "source": [
    "merge_on_userid.dtypes"
   ]
  },
  {
   "cell_type": "markdown",
   "id": "084026c2",
   "metadata": {
    "papermill": {
     "duration": 0.03013,
     "end_time": "2022-01-07T01:50:12.110503",
     "exception": false,
     "start_time": "2022-01-07T01:50:12.080373",
     "status": "completed"
    },
    "tags": []
   },
   "source": [
    "## Explore the datasets using visual representations (graphs or tables), also include your comments on the following:\n",
    "#### 1. User Age Distribution\n",
    "#### 2. User rating of the movie “Toy Story”\n",
    "#### 3. Top 25 movies by viewership rating\n",
    "#### 4. Find the ratings for all the movies reviewed by for a particular user of user id = 2696"
   ]
  },
  {
   "cell_type": "code",
   "execution_count": 23,
   "id": "afbbf95c",
   "metadata": {
    "execution": {
     "iopub.execute_input": "2022-01-07T01:50:12.175576Z",
     "iopub.status.busy": "2022-01-07T01:50:12.174817Z",
     "iopub.status.idle": "2022-01-07T01:50:13.135712Z",
     "shell.execute_reply": "2022-01-07T01:50:13.135100Z",
     "shell.execute_reply.started": "2022-01-07T01:47:19.734164Z"
    },
    "papermill": {
     "duration": 0.995494,
     "end_time": "2022-01-07T01:50:13.135860",
     "exception": false,
     "start_time": "2022-01-07T01:50:12.140366",
     "status": "completed"
    },
    "tags": []
   },
   "outputs": [],
   "source": [
    "import matplotlib.pyplot as plt\n",
    "import seaborn as sns\n",
    "from matplotlib import style"
   ]
  },
  {
   "cell_type": "code",
   "execution_count": 24,
   "id": "9004398d",
   "metadata": {
    "execution": {
     "iopub.execute_input": "2022-01-07T01:50:13.199978Z",
     "iopub.status.busy": "2022-01-07T01:50:13.198935Z",
     "iopub.status.idle": "2022-01-07T01:50:13.483445Z",
     "shell.execute_reply": "2022-01-07T01:50:13.483936Z",
     "shell.execute_reply.started": "2022-01-07T01:47:20.713937Z"
    },
    "papermill": {
     "duration": 0.318355,
     "end_time": "2022-01-07T01:50:13.484105",
     "exception": false,
     "start_time": "2022-01-07T01:50:13.165750",
     "status": "completed"
    },
    "tags": []
   },
   "outputs": [
    {
     "data": {
      "image/png": "[encoded data removed]",
      "text/plain": [
       "<Figure size 504x504 with 1 Axes>"
      ]
     },
     "metadata": {},
     "output_type": "display_data"
    }
   ],
   "source": [
    "# user age distribution\n",
    "style.use('ggplot')\n",
    "plt.figure(figsize = (7,7))\n",
    "merge_on_userid['Age'].value_counts().plot(kind = 'bar', color = 'red')\n",
    "plt.xlabel('Age of the users')\n",
    "plt.ylabel('Count of movies regarding age')\n",
    "plt.title('User Age Distribution Graph')\n",
    "plt.show()"
   ]
  },
  {
   "cell_type": "code",
   "execution_count": 25,
   "id": "084884a1",
   "metadata": {
    "execution": {
     "iopub.execute_input": "2022-01-07T01:50:13.549553Z",
     "iopub.status.busy": "2022-01-07T01:50:13.548858Z",
     "iopub.status.idle": "2022-01-07T01:50:13.962116Z",
     "shell.execute_reply": "2022-01-07T01:50:13.961520Z",
     "shell.execute_reply.started": "2022-01-07T01:47:21.004730Z"
    },
    "papermill": {
     "duration": 0.447471,
     "end_time": "2022-01-07T01:50:13.962281",
     "exception": false,
     "start_time": "2022-01-07T01:50:13.514810",
     "status": "completed"
    },
    "tags": []
   },
   "outputs": [
    {
     "data": {
      "text/plain": [
       "<Figure size 504x504 with 0 Axes>"
      ]
     },
     "metadata": {},
     "output_type": "display_data"
    },
    {
     "data": {
      "image/png": "[encoded data removed]",
      "text/plain": [
       "<Figure size 432x288 with 1 Axes>"
      ]
     },
     "metadata": {},
     "output_type": "display_data"
    }
   ],
   "source": [
    "# user age distribution\n",
    "plt.figure(figsize = (7,7))\n",
    "merge_on_userid.groupby('Age')['Gender'].value_counts().unstack().plot(kind = 'bar',color = ['red','orange'])\n",
    "plt.xlabel('Age of the users')\n",
    "plt.ylabel('Count of movies regarding age')\n",
    "plt.title('User Age Distribution Graph : Male/Female Comparison')\n",
    "plt.show()"
   ]
  },
  {
   "cell_type": "code",
   "execution_count": 26,
   "id": "950a5bd2",
   "metadata": {
    "execution": {
     "iopub.execute_input": "2022-01-07T01:50:14.034719Z",
     "iopub.status.busy": "2022-01-07T01:50:14.034024Z",
     "iopub.status.idle": "2022-01-07T01:50:17.950905Z",
     "shell.execute_reply": "2022-01-07T01:50:17.950290Z",
     "shell.execute_reply.started": "2022-01-07T01:47:21.420278Z"
    },
    "papermill": {
     "duration": 3.956329,
     "end_time": "2022-01-07T01:50:17.951044",
     "exception": false,
     "start_time": "2022-01-07T01:50:13.994715",
     "status": "completed"
    },
    "tags": []
   },
   "outputs": [
    {
     "name": "stderr",
     "output_type": "stream",
     "text": [
      "C:\\Users\\Shruthi\\Anaconda3\\lib\\site-packages\\seaborn\\distributions.py:2619: FutureWarning: `distplot` is a deprecated function and will be removed in a future version. Please adapt your code to use either `displot` (a figure-level function with similar flexibility) or `kdeplot` (an axes-level function for kernel density plots).\n",
      "  warnings.warn(msg, FutureWarning)\n"
     ]
    },
    {
     "data": {
      "image/png": "[encoded data removed]",
      "text/plain": [
       "<Figure size 504x504 with 1 Axes>"
      ]
     },
     "metadata": {},
     "output_type": "display_data"
    }
   ],
   "source": [
    "plt.figure(figsize = (7,7))\n",
    "sns.distplot(merge_on_userid['Age'],hist = False)\n",
    "plt.xlabel('Age of the users')\n",
    "plt.ylabel('Density')\n",
    "plt.title('User Age Distribution Graph')\n",
    "plt.show()"
   ]
  },
  {
   "cell_type": "markdown",
   "id": "ead636ca",
   "metadata": {
    "papermill": {
     "duration": 0.033561,
     "end_time": "2022-01-07T01:50:18.018962",
     "exception": false,
     "start_time": "2022-01-07T01:50:17.985401",
     "status": "completed"
    },
    "tags": []
   },
   "source": [
    "#### <font color = brown>Above graphs show that persons belonging to the \"25-34\" age group have the highest possibility to watch movies or i can also say that most people watch movies between the age of \"25-34\" which doesn't depend on gender. </font>\n",
    "#### <font color = 'blue'>    It also tells that males have higher tendency to watch movies than females in every age group.</font>"
   ]
  },
  {
   "cell_type": "code",
   "execution_count": 27,
   "id": "6a57cea9",
   "metadata": {
    "execution": {
     "iopub.execute_input": "2022-01-07T01:50:18.090520Z",
     "iopub.status.busy": "2022-01-07T01:50:18.089829Z",
     "iopub.status.idle": "2022-01-07T01:50:18.093287Z",
     "shell.execute_reply": "2022-01-07T01:50:18.092777Z",
     "shell.execute_reply.started": "2022-01-07T01:47:25.363824Z"
    },
    "papermill": {
     "duration": 0.04011,
     "end_time": "2022-01-07T01:50:18.093442",
     "exception": false,
     "start_time": "2022-01-07T01:50:18.053332",
     "status": "completed"
    },
    "tags": []
   },
   "outputs": [],
   "source": [
    "# User Rating of the movie Toy Story"
   ]
  },
  {
   "cell_type": "code",
   "execution_count": 28,
   "id": "ade2362e",
   "metadata": {
    "execution": {
     "iopub.execute_input": "2022-01-07T01:50:18.310063Z",
     "iopub.status.busy": "2022-01-07T01:50:18.309392Z",
     "iopub.status.idle": "2022-01-07T01:50:18.320331Z",
     "shell.execute_reply": "2022-01-07T01:50:18.320814Z",
     "shell.execute_reply.started": "2022-01-07T01:47:25.367844Z"
    },
    "papermill": {
     "duration": 0.193913,
     "end_time": "2022-01-07T01:50:18.320982",
     "exception": false,
     "start_time": "2022-01-07T01:50:18.127069",
     "status": "completed"
    },
    "tags": []
   },
   "outputs": [
    {
     "data": {
      "text/html": [
       "<div>\n",
       "<style scoped>\n",
       "    .dataframe tbody tr th:only-of-type {\n",
       "        vertical-align: middle;\n",
       "    }\n",
       "\n",
       "    .dataframe tbody tr th {\n",
       "        vertical-align: top;\n",
       "    }\n",
       "\n",
       "    .dataframe thead th {\n",
       "        text-align: right;\n",
       "    }\n",
       "</style>\n",
       "<table border=\"1\" class=\"dataframe\">\n",
       "  <thead>\n",
       "    <tr style=\"text-align: right;\">\n",
       "      <th></th>\n",
       "      <th>Toy Story</th>\n",
       "      <th>Genres</th>\n",
       "      <th>Rating</th>\n",
       "      <th>Timestamp</th>\n",
       "      <th>Zip-code</th>\n",
       "    </tr>\n",
       "  </thead>\n",
       "  <tbody>\n",
       "    <tr>\n",
       "      <th>0</th>\n",
       "      <td>Toy Story (1995)</td>\n",
       "      <td>Animation|Children's|Comedy</td>\n",
       "      <td>5</td>\n",
       "      <td>978824268</td>\n",
       "      <td>48067</td>\n",
       "    </tr>\n",
       "    <tr>\n",
       "      <th>53</th>\n",
       "      <td>Toy Story (1995)</td>\n",
       "      <td>Animation|Children's|Comedy</td>\n",
       "      <td>4</td>\n",
       "      <td>978237008</td>\n",
       "      <td>55117</td>\n",
       "    </tr>\n",
       "    <tr>\n",
       "      <th>124</th>\n",
       "      <td>Toy Story (1995)</td>\n",
       "      <td>Animation|Children's|Comedy</td>\n",
       "      <td>4</td>\n",
       "      <td>978233496</td>\n",
       "      <td>11413</td>\n",
       "    </tr>\n",
       "    <tr>\n",
       "      <th>263</th>\n",
       "      <td>Toy Story (1995)</td>\n",
       "      <td>Animation|Children's|Comedy</td>\n",
       "      <td>5</td>\n",
       "      <td>978225952</td>\n",
       "      <td>61614</td>\n",
       "    </tr>\n",
       "    <tr>\n",
       "      <th>369</th>\n",
       "      <td>Toy Story (1995)</td>\n",
       "      <td>Animation|Children's|Comedy</td>\n",
       "      <td>5</td>\n",
       "      <td>978226474</td>\n",
       "      <td>95370</td>\n",
       "    </tr>\n",
       "  </tbody>\n",
       "</table>\n",
       "</div>"
      ],
      "text/plain": [
       "            Toy Story                       Genres  Rating  Timestamp Zip-code\n",
       "0    Toy Story (1995)  Animation|Children's|Comedy       5  978824268    48067\n",
       "53   Toy Story (1995)  Animation|Children's|Comedy       4  978237008    55117\n",
       "124  Toy Story (1995)  Animation|Children's|Comedy       4  978233496    11413\n",
       "263  Toy Story (1995)  Animation|Children's|Comedy       5  978225952    61614\n",
       "369  Toy Story (1995)  Animation|Children's|Comedy       5  978226474    95370"
      ]
     },
     "execution_count": 28,
     "metadata": {},
     "output_type": "execute_result"
    }
   ],
   "source": [
    "toy_story = merge_on_userid[merge_on_userid['Title'] == 'Toy Story (1995)'].drop(['Occupation','Age','Gender','MovieID','UserID'],axis = 1)\n",
    "toy_story.rename({'Title':'Toy Story'},axis = 1, inplace = True)\n",
    "toy_story.head()"
   ]
  },
  {
   "cell_type": "code",
   "execution_count": 29,
   "id": "f494e0fe",
   "metadata": {
    "execution": {
     "iopub.execute_input": "2022-01-07T01:50:18.414677Z",
     "iopub.status.busy": "2022-01-07T01:50:18.407052Z",
     "iopub.status.idle": "2022-01-07T01:50:18.616415Z",
     "shell.execute_reply": "2022-01-07T01:50:18.616913Z",
     "shell.execute_reply.started": "2022-01-07T01:47:25.541499Z"
    },
    "papermill": {
     "duration": 0.261824,
     "end_time": "2022-01-07T01:50:18.617096",
     "exception": false,
     "start_time": "2022-01-07T01:50:18.355272",
     "status": "completed"
    },
    "tags": []
   },
   "outputs": [
    {
     "data": {
      "image/png": "[encoded data removed]",
      "text/plain": [
       "<Figure size 432x288 with 1 Axes>"
      ]
     },
     "metadata": {},
     "output_type": "display_data"
    }
   ],
   "source": [
    "toy_story.groupby('Rating').count().plot(kind='line')\n",
    "plt.title('Line Graph : User Rating of Movie(Toy Story)')\n",
    "plt.xlabel('User Ratings')\n",
    "plt.ylabel('Number of Users')\n",
    "plt.show()"
   ]
  },
  {
   "cell_type": "code",
   "execution_count": 30,
   "id": "1daa79cd",
   "metadata": {
    "execution": {
     "iopub.execute_input": "2022-01-07T01:50:18.691985Z",
     "iopub.status.busy": "2022-01-07T01:50:18.691284Z",
     "iopub.status.idle": "2022-01-07T01:50:18.908324Z",
     "shell.execute_reply": "2022-01-07T01:50:18.908804Z",
     "shell.execute_reply.started": "2022-01-07T01:47:25.770090Z"
    },
    "papermill": {
     "duration": 0.256296,
     "end_time": "2022-01-07T01:50:18.908976",
     "exception": false,
     "start_time": "2022-01-07T01:50:18.652680",
     "status": "completed"
    },
    "tags": []
   },
   "outputs": [
    {
     "data": {
      "image/png": "[encoded data removed]",
      "text/plain": [
       "<Figure size 432x288 with 1 Axes>"
      ]
     },
     "metadata": {},
     "output_type": "display_data"
    }
   ],
   "source": [
    "toy_story.groupby('Rating').count().plot(kind='bar', color = 'red')\n",
    "plt.title('Bar Graph : User Rating of Movie(Toy Story)')\n",
    "plt.xlabel('User Ratings')\n",
    "plt.ylabel('Number of Users')\n",
    "plt.show()"
   ]
  },
  {
   "cell_type": "code",
   "execution_count": 31,
   "id": "99f668dc",
   "metadata": {
    "execution": {
     "iopub.execute_input": "2022-01-07T01:50:18.987027Z",
     "iopub.status.busy": "2022-01-07T01:50:18.986336Z",
     "iopub.status.idle": "2022-01-07T01:50:19.242396Z",
     "shell.execute_reply": "2022-01-07T01:50:19.241872Z",
     "shell.execute_reply.started": "2022-01-07T01:49:03.953180Z"
    },
    "papermill": {
     "duration": 0.295937,
     "end_time": "2022-01-07T01:50:19.242548",
     "exception": false,
     "start_time": "2022-01-07T01:50:18.946611",
     "status": "completed"
    },
    "tags": []
   },
   "outputs": [
    {
     "data": {
      "image/png": "[encoded data removed]",
      "text/plain": [
       "<Figure size 504x504 with 1 Axes>"
      ]
     },
     "metadata": {},
     "output_type": "display_data"
    }
   ],
   "source": [
    "plt.figure(figsize=(7,7))\n",
    "plt.pie(list(toy_story['Rating'].value_counts()),\n",
    "        labels=list(toy_story['Rating'].value_counts().keys()),\n",
    "        wedgeprops=dict(width=0.3, edgecolor='w'), autopct = '%0.2f%%', radius=1)\n",
    "plt.title('Pie Chart : User Rating of Movie(Toy Story)')\n",
    "plt.legend()\n",
    "plt.show()"
   ]
  },
  {
   "cell_type": "markdown",
   "id": "4527b173",
   "metadata": {
    "papermill": {
     "duration": 0.038541,
     "end_time": "2022-01-07T01:50:19.319842",
     "exception": false,
     "start_time": "2022-01-07T01:50:19.281301",
     "status": "completed"
    },
    "tags": []
   },
   "source": [
    "#### Above Graphs Show that most of the viewers have given 4 stars and 5 stars to the movie. There are very few viewers who have provides 1 or 2 stars to the movie. "
   ]
  },
  {
   "cell_type": "code",
   "execution_count": 32,
   "id": "b0a5aa30",
   "metadata": {
    "execution": {
     "iopub.execute_input": "2022-01-07T01:50:19.400384Z",
     "iopub.status.busy": "2022-01-07T01:50:19.398923Z",
     "iopub.status.idle": "2022-01-07T01:50:19.401932Z",
     "shell.execute_reply": "2022-01-07T01:50:19.402569Z",
     "shell.execute_reply.started": "2022-01-07T01:47:26.187804Z"
    },
    "papermill": {
     "duration": 0.044835,
     "end_time": "2022-01-07T01:50:19.402742",
     "exception": false,
     "start_time": "2022-01-07T01:50:19.357907",
     "status": "completed"
    },
    "tags": []
   },
   "outputs": [],
   "source": [
    "# Top 25 movies by viewership ratings"
   ]
  },
  {
   "cell_type": "code",
   "execution_count": 33,
   "id": "7d86613c",
   "metadata": {
    "execution": {
     "iopub.execute_input": "2022-01-07T01:50:19.503012Z",
     "iopub.status.busy": "2022-01-07T01:50:19.502324Z",
     "iopub.status.idle": "2022-01-07T01:50:19.628309Z",
     "shell.execute_reply": "2022-01-07T01:50:19.627742Z",
     "shell.execute_reply.started": "2022-01-07T01:47:26.189105Z"
    },
    "papermill": {
     "duration": 0.187917,
     "end_time": "2022-01-07T01:50:19.628454",
     "exception": false,
     "start_time": "2022-01-07T01:50:19.440537",
     "status": "completed"
    },
    "tags": []
   },
   "outputs": [
    {
     "data": {
      "text/plain": [
       "Title\n",
       "Bittersweet Motel (2000)                                               5.00\n",
       "Baby, The (1973)                                                       5.00\n",
       "Ulysses (Ulisse) (1954)                                                5.00\n",
       "Lured (1947)                                                           5.00\n",
       "Song of Freedom (1936)                                                 5.00\n",
       "Follow the Bitch (1998)                                                5.00\n",
       "Schlafes Bruder (Brother of Sleep) (1995)                              5.00\n",
       "Smashing Time (1967)                                                   5.00\n",
       "Gate of Heavenly Peace, The (1995)                                     5.00\n",
       "One Little Indian (1973)                                               5.00\n",
       "I Am Cuba (Soy Cuba/Ya Kuba) (1964)                                    4.80\n",
       "Lamerica (1994)                                                        4.75\n",
       "Apple, The (Sib) (1998)                                                4.67\n",
       "Sanjuro (1962)                                                         4.61\n",
       "Seven Samurai (The Magnificent Seven) (Shichinin no samurai) (1954)    4.56\n",
       "Shawshank Redemption, The (1994)                                       4.55\n",
       "Godfather, The (1972)                                                  4.52\n",
       "Usual Suspects, The (1995)                                             4.52\n",
       "Close Shave, A (1995)                                                  4.52\n",
       "Schindler's List (1993)                                                4.51\n",
       "Wrong Trousers, The (1993)                                             4.51\n",
       "Dry Cleaning (Nettoyage à sec) (1997)                                  4.50\n",
       "Mamma Roma (1962)                                                      4.50\n",
       "Bells, The (1926)                                                      4.50\n",
       "Callejón de los milagros, El (1995)                                    4.50\n",
       "Name: Rating, dtype: float64"
      ]
     },
     "execution_count": 33,
     "metadata": {},
     "output_type": "execute_result"
    }
   ],
   "source": [
    "top_25 = merge_on_userid.groupby('Title')['Rating'].mean().round(2).sort_values(ascending = False)[:25]\n",
    "top_25"
   ]
  },
  {
   "cell_type": "code",
   "execution_count": 34,
   "id": "ed9271c3",
   "metadata": {
    "execution": {
     "iopub.execute_input": "2022-01-07T01:50:19.711969Z",
     "iopub.status.busy": "2022-01-07T01:50:19.711281Z",
     "iopub.status.idle": "2022-01-07T01:50:19.721666Z",
     "shell.execute_reply": "2022-01-07T01:50:19.722446Z",
     "shell.execute_reply.started": "2022-01-07T01:47:26.190442Z"
    },
    "papermill": {
     "duration": 0.055769,
     "end_time": "2022-01-07T01:50:19.722667",
     "exception": false,
     "start_time": "2022-01-07T01:50:19.666898",
     "status": "completed"
    },
    "tags": []
   },
   "outputs": [
    {
     "data": {
      "text/html": [
       "<div>\n",
       "<style scoped>\n",
       "    .dataframe tbody tr th:only-of-type {\n",
       "        vertical-align: middle;\n",
       "    }\n",
       "\n",
       "    .dataframe tbody tr th {\n",
       "        vertical-align: top;\n",
       "    }\n",
       "\n",
       "    .dataframe thead th {\n",
       "        text-align: right;\n",
       "    }\n",
       "</style>\n",
       "<table border=\"1\" class=\"dataframe\">\n",
       "  <thead>\n",
       "    <tr style=\"text-align: right;\">\n",
       "      <th></th>\n",
       "      <th>MovieID</th>\n",
       "      <th>Title</th>\n",
       "      <th>Genres</th>\n",
       "      <th>Rating</th>\n",
       "      <th>Timestamp</th>\n",
       "      <th>Zip-code</th>\n",
       "    </tr>\n",
       "  </thead>\n",
       "  <tbody>\n",
       "    <tr>\n",
       "      <th>0</th>\n",
       "      <td>350</td>\n",
       "      <td>Client, The (1994)</td>\n",
       "      <td>Drama|Mystery|Thriller</td>\n",
       "      <td>3</td>\n",
       "      <td>973308886</td>\n",
       "      <td>24210</td>\n",
       "    </tr>\n",
       "    <tr>\n",
       "      <th>1</th>\n",
       "      <td>800</td>\n",
       "      <td>Lone Star (1996)</td>\n",
       "      <td>Drama|Mystery</td>\n",
       "      <td>5</td>\n",
       "      <td>973308842</td>\n",
       "      <td>24210</td>\n",
       "    </tr>\n",
       "    <tr>\n",
       "      <th>2</th>\n",
       "      <td>1092</td>\n",
       "      <td>Basic Instinct (1992)</td>\n",
       "      <td>Mystery|Thriller</td>\n",
       "      <td>4</td>\n",
       "      <td>973308886</td>\n",
       "      <td>24210</td>\n",
       "    </tr>\n",
       "    <tr>\n",
       "      <th>3</th>\n",
       "      <td>1097</td>\n",
       "      <td>E.T. the Extra-Terrestrial (1982)</td>\n",
       "      <td>Children's|Drama|Fantasy|Sci-Fi</td>\n",
       "      <td>3</td>\n",
       "      <td>973308690</td>\n",
       "      <td>24210</td>\n",
       "    </tr>\n",
       "    <tr>\n",
       "      <th>4</th>\n",
       "      <td>1258</td>\n",
       "      <td>Shining, The (1980)</td>\n",
       "      <td>Horror</td>\n",
       "      <td>4</td>\n",
       "      <td>973308710</td>\n",
       "      <td>24210</td>\n",
       "    </tr>\n",
       "    <tr>\n",
       "      <th>5</th>\n",
       "      <td>1270</td>\n",
       "      <td>Back to the Future (1985)</td>\n",
       "      <td>Comedy|Sci-Fi</td>\n",
       "      <td>2</td>\n",
       "      <td>973308676</td>\n",
       "      <td>24210</td>\n",
       "    </tr>\n",
       "    <tr>\n",
       "      <th>6</th>\n",
       "      <td>1589</td>\n",
       "      <td>Cop Land (1997)</td>\n",
       "      <td>Crime|Drama|Mystery</td>\n",
       "      <td>3</td>\n",
       "      <td>973308865</td>\n",
       "      <td>24210</td>\n",
       "    </tr>\n",
       "    <tr>\n",
       "      <th>7</th>\n",
       "      <td>1617</td>\n",
       "      <td>L.A. Confidential (1997)</td>\n",
       "      <td>Crime|Film-Noir|Mystery|Thriller</td>\n",
       "      <td>4</td>\n",
       "      <td>973308842</td>\n",
       "      <td>24210</td>\n",
       "    </tr>\n",
       "    <tr>\n",
       "      <th>8</th>\n",
       "      <td>1625</td>\n",
       "      <td>Game, The (1997)</td>\n",
       "      <td>Mystery|Thriller</td>\n",
       "      <td>4</td>\n",
       "      <td>973308842</td>\n",
       "      <td>24210</td>\n",
       "    </tr>\n",
       "    <tr>\n",
       "      <th>9</th>\n",
       "      <td>1644</td>\n",
       "      <td>I Know What You Did Last Summer (1997)</td>\n",
       "      <td>Horror|Mystery|Thriller</td>\n",
       "      <td>2</td>\n",
       "      <td>973308920</td>\n",
       "      <td>24210</td>\n",
       "    </tr>\n",
       "    <tr>\n",
       "      <th>10</th>\n",
       "      <td>1645</td>\n",
       "      <td>Devil's Advocate, The (1997)</td>\n",
       "      <td>Crime|Horror|Mystery|Thriller</td>\n",
       "      <td>4</td>\n",
       "      <td>973308904</td>\n",
       "      <td>24210</td>\n",
       "    </tr>\n",
       "    <tr>\n",
       "      <th>11</th>\n",
       "      <td>1711</td>\n",
       "      <td>Midnight in the Garden of Good and Evil (1997)</td>\n",
       "      <td>Comedy|Crime|Drama|Mystery</td>\n",
       "      <td>4</td>\n",
       "      <td>973308904</td>\n",
       "      <td>24210</td>\n",
       "    </tr>\n",
       "    <tr>\n",
       "      <th>12</th>\n",
       "      <td>1783</td>\n",
       "      <td>Palmetto (1998)</td>\n",
       "      <td>Film-Noir|Mystery|Thriller</td>\n",
       "      <td>4</td>\n",
       "      <td>973308865</td>\n",
       "      <td>24210</td>\n",
       "    </tr>\n",
       "    <tr>\n",
       "      <th>13</th>\n",
       "      <td>1805</td>\n",
       "      <td>Wild Things (1998)</td>\n",
       "      <td>Crime|Drama|Mystery|Thriller</td>\n",
       "      <td>4</td>\n",
       "      <td>973308886</td>\n",
       "      <td>24210</td>\n",
       "    </tr>\n",
       "    <tr>\n",
       "      <th>14</th>\n",
       "      <td>1892</td>\n",
       "      <td>Perfect Murder, A (1998)</td>\n",
       "      <td>Mystery|Thriller</td>\n",
       "      <td>4</td>\n",
       "      <td>973308904</td>\n",
       "      <td>24210</td>\n",
       "    </tr>\n",
       "    <tr>\n",
       "      <th>15</th>\n",
       "      <td>2338</td>\n",
       "      <td>I Still Know What You Did Last Summer (1998)</td>\n",
       "      <td>Horror|Mystery|Thriller</td>\n",
       "      <td>2</td>\n",
       "      <td>973308920</td>\n",
       "      <td>24210</td>\n",
       "    </tr>\n",
       "    <tr>\n",
       "      <th>16</th>\n",
       "      <td>2389</td>\n",
       "      <td>Psycho (1998)</td>\n",
       "      <td>Crime|Horror|Thriller</td>\n",
       "      <td>4</td>\n",
       "      <td>973308710</td>\n",
       "      <td>24210</td>\n",
       "    </tr>\n",
       "    <tr>\n",
       "      <th>17</th>\n",
       "      <td>2713</td>\n",
       "      <td>Lake Placid (1999)</td>\n",
       "      <td>Horror|Thriller</td>\n",
       "      <td>1</td>\n",
       "      <td>973308710</td>\n",
       "      <td>24210</td>\n",
       "    </tr>\n",
       "    <tr>\n",
       "      <th>18</th>\n",
       "      <td>3176</td>\n",
       "      <td>Talented Mr. Ripley, The (1999)</td>\n",
       "      <td>Drama|Mystery|Thriller</td>\n",
       "      <td>4</td>\n",
       "      <td>973308865</td>\n",
       "      <td>24210</td>\n",
       "    </tr>\n",
       "    <tr>\n",
       "      <th>19</th>\n",
       "      <td>3386</td>\n",
       "      <td>JFK (1991)</td>\n",
       "      <td>Drama|Mystery</td>\n",
       "      <td>1</td>\n",
       "      <td>973308842</td>\n",
       "      <td>24210</td>\n",
       "    </tr>\n",
       "  </tbody>\n",
       "</table>\n",
       "</div>"
      ],
      "text/plain": [
       "    MovieID                                           Title  \\\n",
       "0       350                              Client, The (1994)   \n",
       "1       800                                Lone Star (1996)   \n",
       "2      1092                           Basic Instinct (1992)   \n",
       "3      1097               E.T. the Extra-Terrestrial (1982)   \n",
       "4      1258                             Shining, The (1980)   \n",
       "5      1270                       Back to the Future (1985)   \n",
       "6      1589                                 Cop Land (1997)   \n",
       "7      1617                        L.A. Confidential (1997)   \n",
       "8      1625                                Game, The (1997)   \n",
       "9      1644          I Know What You Did Last Summer (1997)   \n",
       "10     1645                    Devil's Advocate, The (1997)   \n",
       "11     1711  Midnight in the Garden of Good and Evil (1997)   \n",
       "12     1783                                 Palmetto (1998)   \n",
       "13     1805                              Wild Things (1998)   \n",
       "14     1892                        Perfect Murder, A (1998)   \n",
       "15     2338    I Still Know What You Did Last Summer (1998)   \n",
       "16     2389                                   Psycho (1998)   \n",
       "17     2713                              Lake Placid (1999)   \n",
       "18     3176                 Talented Mr. Ripley, The (1999)   \n",
       "19     3386                                      JFK (1991)   \n",
       "\n",
       "                              Genres  Rating  Timestamp Zip-code  \n",
       "0             Drama|Mystery|Thriller       3  973308886    24210  \n",
       "1                      Drama|Mystery       5  973308842    24210  \n",
       "2                   Mystery|Thriller       4  973308886    24210  \n",
       "3    Children's|Drama|Fantasy|Sci-Fi       3  973308690    24210  \n",
       "4                             Horror       4  973308710    24210  \n",
       "5                      Comedy|Sci-Fi       2  973308676    24210  \n",
       "6                Crime|Drama|Mystery       3  973308865    24210  \n",
       "7   Crime|Film-Noir|Mystery|Thriller       4  973308842    24210  \n",
       "8                   Mystery|Thriller       4  973308842    24210  \n",
       "9            Horror|Mystery|Thriller       2  973308920    24210  \n",
       "10     Crime|Horror|Mystery|Thriller       4  973308904    24210  \n",
       "11        Comedy|Crime|Drama|Mystery       4  973308904    24210  \n",
       "12        Film-Noir|Mystery|Thriller       4  973308865    24210  \n",
       "13      Crime|Drama|Mystery|Thriller       4  973308886    24210  \n",
       "14                  Mystery|Thriller       4  973308904    24210  \n",
       "15           Horror|Mystery|Thriller       2  973308920    24210  \n",
       "16             Crime|Horror|Thriller       4  973308710    24210  \n",
       "17                   Horror|Thriller       1  973308710    24210  \n",
       "18            Drama|Mystery|Thriller       4  973308865    24210  \n",
       "19                     Drama|Mystery       1  973308842    24210  "
      ]
     },
     "execution_count": 34,
     "metadata": {},
     "output_type": "execute_result"
    }
   ],
   "source": [
    "# Find the ratings for all the movies reviewed by for a particular user of user id = 2696\n",
    "user_id = merge_on_userid[merge_on_userid['UserID']==2696].drop(['Occupation','Age','Gender','UserID'],axis = 1).reset_index(drop=True)\n",
    "user_id"
   ]
  },
  {
   "cell_type": "code",
   "execution_count": 35,
   "id": "31919eb0",
   "metadata": {
    "execution": {
     "iopub.execute_input": "2022-01-07T01:50:19.803576Z",
     "iopub.status.busy": "2022-01-07T01:50:19.802922Z",
     "iopub.status.idle": "2022-01-07T01:50:20.148291Z",
     "shell.execute_reply": "2022-01-07T01:50:20.147676Z",
     "shell.execute_reply.started": "2022-01-07T01:47:26.192006Z"
    },
    "papermill": {
     "duration": 0.386826,
     "end_time": "2022-01-07T01:50:20.148431",
     "exception": false,
     "start_time": "2022-01-07T01:50:19.761605",
     "status": "completed"
    },
    "tags": []
   },
   "outputs": [
    {
     "data": {
      "image/png": "[encoded data removed]",
      "text/plain": [
       "<Figure size 720x504 with 1 Axes>"
      ]
     },
     "metadata": {},
     "output_type": "display_data"
    }
   ],
   "source": [
    "plt.figure(figsize=(10,7))\n",
    "plt.barh(user_id['Title'],user_id['Rating'],color='c')\n",
    "plt.title('Ratings given by user(id=2696) to each movie')\n",
    "plt.xlabel('Rating in Number')\n",
    "plt.ylabel('Movie Names')\n",
    "plt.show()"
   ]
  },
  {
   "cell_type": "code",
   "execution_count": 36,
   "id": "557a7da1",
   "metadata": {
    "execution": {
     "iopub.execute_input": "2022-01-07T01:50:20.247109Z",
     "iopub.status.busy": "2022-01-07T01:50:20.246439Z",
     "iopub.status.idle": "2022-01-07T01:50:20.556091Z",
     "shell.execute_reply": "2022-01-07T01:50:20.555423Z",
     "shell.execute_reply.started": "2022-01-07T01:47:26.193399Z"
    },
    "papermill": {
     "duration": 0.366328,
     "end_time": "2022-01-07T01:50:20.556257",
     "exception": false,
     "start_time": "2022-01-07T01:50:20.189929",
     "status": "completed"
    },
    "tags": []
   },
   "outputs": [
    {
     "data": {
      "image/png": "[encoded data removed]",
      "text/plain": [
       "<Figure size 720x504 with 1 Axes>"
      ]
     },
     "metadata": {},
     "output_type": "display_data"
    }
   ],
   "source": [
    "plt.figure(figsize=(10,7))\n",
    "plt.scatter(user_id['Rating'],user_id['Title'],color='c')\n",
    "plt.title('Ratings given by user(id=2696) to each movie')\n",
    "plt.xlabel('Rating in Number')\n",
    "plt.ylabel('Movie Names')\n",
    "plt.show()"
   ]
  },
  {
   "cell_type": "code",
   "execution_count": 37,
   "id": "465a12a4",
   "metadata": {},
   "outputs": [],
   "source": [
    "a=['Title','MovieID','UserID','Genres','Timestamp','Zip-code']"
   ]
  },
  {
   "cell_type": "code",
   "execution_count": 38,
   "id": "26b84c99",
   "metadata": {
    "execution": {
     "iopub.execute_input": "2022-01-07T01:50:11.497235Z",
     "iopub.status.busy": "2022-01-07T01:50:11.496608Z",
     "iopub.status.idle": "2022-01-07T01:50:11.529628Z",
     "shell.execute_reply": "2022-01-07T01:50:11.528967Z",
     "shell.execute_reply.started": "2022-01-07T01:47:19.237959Z"
    },
    "papermill": {
     "duration": 0.064559,
     "end_time": "2022-01-07T01:50:11.529774",
     "exception": false,
     "start_time": "2022-01-07T01:50:11.465215",
     "status": "completed"
    },
    "tags": []
   },
   "outputs": [
    {
     "name": "stderr",
     "output_type": "stream",
     "text": [
      "C:\\Users\\Shruthi\\AppData\\Local\\Temp\\ipykernel_8716\\4206550809.py:1: FutureWarning: In a future version of pandas all arguments of DataFrame.drop except for the argument 'labels' will be keyword-only.\n",
      "  master_data = merge_on_userid.drop(a,1)\n"
     ]
    }
   ],
   "source": [
    "master_data = merge_on_userid.drop(a,1)"
   ]
  },
  {
   "cell_type": "code",
   "execution_count": 39,
   "id": "8a28e86b",
   "metadata": {
    "execution": {
     "iopub.execute_input": "2022-01-07T01:50:11.497235Z",
     "iopub.status.busy": "2022-01-07T01:50:11.496608Z",
     "iopub.status.idle": "2022-01-07T01:50:11.529628Z",
     "shell.execute_reply": "2022-01-07T01:50:11.528967Z",
     "shell.execute_reply.started": "2022-01-07T01:47:19.237959Z"
    },
    "papermill": {
     "duration": 0.064559,
     "end_time": "2022-01-07T01:50:11.529774",
     "exception": false,
     "start_time": "2022-01-07T01:50:11.465215",
     "status": "completed"
    },
    "scrolled": true,
    "tags": []
   },
   "outputs": [
    {
     "data": {
      "text/html": [
       "<div>\n",
       "<style scoped>\n",
       "    .dataframe tbody tr th:only-of-type {\n",
       "        vertical-align: middle;\n",
       "    }\n",
       "\n",
       "    .dataframe tbody tr th {\n",
       "        vertical-align: top;\n",
       "    }\n",
       "\n",
       "    .dataframe thead th {\n",
       "        text-align: right;\n",
       "    }\n",
       "</style>\n",
       "<table border=\"1\" class=\"dataframe\">\n",
       "  <thead>\n",
       "    <tr style=\"text-align: right;\">\n",
       "      <th></th>\n",
       "      <th>Rating</th>\n",
       "      <th>Gender</th>\n",
       "      <th>Age</th>\n",
       "      <th>Occupation</th>\n",
       "    </tr>\n",
       "  </thead>\n",
       "  <tbody>\n",
       "    <tr>\n",
       "      <th>0</th>\n",
       "      <td>5</td>\n",
       "      <td>F</td>\n",
       "      <td>1</td>\n",
       "      <td>10</td>\n",
       "    </tr>\n",
       "    <tr>\n",
       "      <th>1</th>\n",
       "      <td>5</td>\n",
       "      <td>F</td>\n",
       "      <td>1</td>\n",
       "      <td>10</td>\n",
       "    </tr>\n",
       "    <tr>\n",
       "      <th>2</th>\n",
       "      <td>5</td>\n",
       "      <td>F</td>\n",
       "      <td>1</td>\n",
       "      <td>10</td>\n",
       "    </tr>\n",
       "    <tr>\n",
       "      <th>3</th>\n",
       "      <td>4</td>\n",
       "      <td>F</td>\n",
       "      <td>1</td>\n",
       "      <td>10</td>\n",
       "    </tr>\n",
       "    <tr>\n",
       "      <th>4</th>\n",
       "      <td>5</td>\n",
       "      <td>F</td>\n",
       "      <td>1</td>\n",
       "      <td>10</td>\n",
       "    </tr>\n",
       "  </tbody>\n",
       "</table>\n",
       "</div>"
      ],
      "text/plain": [
       "   Rating Gender  Age  Occupation\n",
       "0       5      F    1          10\n",
       "1       5      F    1          10\n",
       "2       5      F    1          10\n",
       "3       4      F    1          10\n",
       "4       5      F    1          10"
      ]
     },
     "execution_count": 39,
     "metadata": {},
     "output_type": "execute_result"
    }
   ],
   "source": [
    "master_data.head()"
   ]
  },
  {
   "cell_type": "code",
   "execution_count": 40,
   "id": "0f962dff",
   "metadata": {
    "execution": {
     "iopub.execute_input": "2022-01-07T01:50:11.594198Z",
     "iopub.status.busy": "2022-01-07T01:50:11.593494Z",
     "iopub.status.idle": "2022-01-07T01:50:12.049890Z",
     "shell.execute_reply": "2022-01-07T01:50:12.049303Z",
     "shell.execute_reply.started": "2022-01-07T01:47:19.276220Z"
    },
    "papermill": {
     "duration": 0.491015,
     "end_time": "2022-01-07T01:50:12.050032",
     "exception": false,
     "start_time": "2022-01-07T01:50:11.559017",
     "status": "completed"
    },
    "tags": []
   },
   "outputs": [
    {
     "name": "stdout",
     "output_type": "stream",
     "text": [
      "<class 'pandas.core.frame.DataFrame'>\n",
      "RangeIndex: 1000209 entries, 0 to 1000208\n",
      "Data columns (total 4 columns):\n",
      " #   Column      Non-Null Count    Dtype \n",
      "---  ------      --------------    ----- \n",
      " 0   Rating      1000209 non-null  int64 \n",
      " 1   Gender      1000209 non-null  object\n",
      " 2   Age         1000209 non-null  int64 \n",
      " 3   Occupation  1000209 non-null  int64 \n",
      "dtypes: int64(3), object(1)\n",
      "memory usage: 30.5+ MB\n"
     ]
    }
   ],
   "source": [
    "master_data.info()"
   ]
  },
  {
   "cell_type": "code",
   "execution_count": 41,
   "id": "26fcd249",
   "metadata": {
    "papermill": {
     "duration": 0.044803,
     "end_time": "2022-01-07T01:50:30.799687",
     "exception": false,
     "start_time": "2022-01-07T01:50:30.754884",
     "status": "completed"
    },
    "tags": []
   },
   "outputs": [
    {
     "data": {
      "text/plain": [
       "Rating        0\n",
       "Gender        0\n",
       "Age           0\n",
       "Occupation    0\n",
       "dtype: int64"
      ]
     },
     "execution_count": 41,
     "metadata": {},
     "output_type": "execute_result"
    }
   ],
   "source": [
    "master_data.isnull().sum()"
   ]
  },
  {
   "cell_type": "code",
   "execution_count": 42,
   "id": "23328755",
   "metadata": {},
   "outputs": [
    {
     "data": {
      "text/plain": [
       "Index(['Rating', 'Gender', 'Age', 'Occupation'], dtype='object')"
      ]
     },
     "execution_count": 42,
     "metadata": {},
     "output_type": "execute_result"
    }
   ],
   "source": [
    "master_data.columns"
   ]
  }
 ],
 "metadata": {
  "kernelspec": {
   "display_name": "Python 3 (ipykernel)",
   "language": "python",
   "name": "python3"
  },
  "language_info": {
   "codemirror_mode": {
    "name": "ipython",
    "version": 3
   },
   "file_extension": ".py",
   "mimetype": "text/x-python",
   "name": "python",
   "nbconvert_exporter": "python",
   "pygments_lexer": "ipython3",
   "version": "3.9.12"
  },
  "papermill": {
   "default_parameters": {},
   "duration": 38.47795,
   "end_time": "2022-01-07T01:50:31.557885",
   "environment_variables": {},
   "exception": null,
   "input_path": "__notebook__.ipynb",
   "output_path": "__notebook__.ipynb",
   "parameters": {},
   "start_time": "2022-01-07T01:49:53.079935",
   "version": "2.3.3"
  }
 },
 "nbformat": 4,
 "nbformat_minor": 5
}
