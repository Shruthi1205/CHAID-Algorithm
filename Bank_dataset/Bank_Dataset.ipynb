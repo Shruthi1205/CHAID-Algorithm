{
 "cells": [
  {
   "cell_type": "markdown",
   "id": "37018347",
   "metadata": {},
   "source": [
    "## Bank Dataset"
   ]
  },
  {
   "cell_type": "markdown",
   "id": "dcda80a0",
   "metadata": {},
   "source": [
    "## Problem Statement\n",
    "The data is related with direct marketing campaigns of a Portuguese banking institution. \n",
    "The marketing campaigns were based on phone calls. Often, more than one contact to the same client was required,in order to access if the product (bank term deposit) would be (or not) subscribed. \n",
    "The classification goal is to predict if the client will subscribe a term deposit (variable approved)."
   ]
  },
  {
   "cell_type": "markdown",
   "id": "379c9bba",
   "metadata": {},
   "source": [
    "#### Importing important Libraries"
   ]
  },
  {
   "cell_type": "code",
   "execution_count": 1,
   "id": "f068bd33",
   "metadata": {},
   "outputs": [],
   "source": [
    "import pandas as pd\n",
    "import numpy as np\n",
    "import matplotlib.pyplot as plt\n",
    "import seaborn as sns"
   ]
  },
  {
   "cell_type": "markdown",
   "id": "9d4b68b1",
   "metadata": {},
   "source": [
    "#### Reading the Data"
   ]
  },
  {
   "cell_type": "code",
   "execution_count": 2,
   "id": "0b41943a",
   "metadata": {},
   "outputs": [],
   "source": [
    "data1=pd.read_excel(\"Bank_file1.xlsx\")"
   ]
  },
  {
   "cell_type": "code",
   "execution_count": 3,
   "id": "3332f135",
   "metadata": {},
   "outputs": [],
   "source": [
    "data2=pd.read_excel(\"Bank_file2.xlsx\")"
   ]
  },
  {
   "cell_type": "code",
   "execution_count": 4,
   "id": "5e649694",
   "metadata": {},
   "outputs": [],
   "source": [
    "data3=pd.read_excel(\"bank_file3.xlsx\")"
   ]
  },
  {
   "cell_type": "code",
   "execution_count": 5,
   "id": "f1d4b42c",
   "metadata": {},
   "outputs": [],
   "source": [
    "data4=pd.read_excel(\"Bank_target file.xlsx\")"
   ]
  },
  {
   "cell_type": "markdown",
   "id": "a04e36e6",
   "metadata": {},
   "source": [
    "#### Knowing about the Data"
   ]
  },
  {
   "cell_type": "code",
   "execution_count": 6,
   "id": "8fdba4e2",
   "metadata": {},
   "outputs": [
    {
     "data": {
      "text/plain": [
       "(4119, 5)"
      ]
     },
     "execution_count": 6,
     "metadata": {},
     "output_type": "execute_result"
    }
   ],
   "source": [
    "data1.shape"
   ]
  },
  {
   "cell_type": "code",
   "execution_count": 7,
   "id": "737ef94e",
   "metadata": {},
   "outputs": [
    {
     "data": {
      "text/plain": [
       "(4119, 6)"
      ]
     },
     "execution_count": 7,
     "metadata": {},
     "output_type": "execute_result"
    }
   ],
   "source": [
    "data2.shape"
   ]
  },
  {
   "cell_type": "code",
   "execution_count": 8,
   "id": "0ba666ce",
   "metadata": {},
   "outputs": [
    {
     "data": {
      "text/plain": [
       "(4119, 12)"
      ]
     },
     "execution_count": 8,
     "metadata": {},
     "output_type": "execute_result"
    }
   ],
   "source": [
    "data3.shape"
   ]
  },
  {
   "cell_type": "code",
   "execution_count": 9,
   "id": "a9764e36",
   "metadata": {},
   "outputs": [
    {
     "data": {
      "text/plain": [
       "(4119, 2)"
      ]
     },
     "execution_count": 9,
     "metadata": {},
     "output_type": "execute_result"
    }
   ],
   "source": [
    "data4.shape"
   ]
  },
  {
   "cell_type": "code",
   "execution_count": 10,
   "id": "558cd8ef",
   "metadata": {},
   "outputs": [
    {
     "data": {
      "text/html": [
       "<div>\n",
       "<style scoped>\n",
       "    .dataframe tbody tr th:only-of-type {\n",
       "        vertical-align: middle;\n",
       "    }\n",
       "\n",
       "    .dataframe tbody tr th {\n",
       "        vertical-align: top;\n",
       "    }\n",
       "\n",
       "    .dataframe thead th {\n",
       "        text-align: right;\n",
       "    }\n",
       "</style>\n",
       "<table border=\"1\" class=\"dataframe\">\n",
       "  <thead>\n",
       "    <tr style=\"text-align: right;\">\n",
       "      <th></th>\n",
       "      <th>age</th>\n",
       "    </tr>\n",
       "  </thead>\n",
       "  <tbody>\n",
       "    <tr>\n",
       "      <th>count</th>\n",
       "      <td>4119.000000</td>\n",
       "    </tr>\n",
       "    <tr>\n",
       "      <th>mean</th>\n",
       "      <td>40.113620</td>\n",
       "    </tr>\n",
       "    <tr>\n",
       "      <th>std</th>\n",
       "      <td>10.313362</td>\n",
       "    </tr>\n",
       "    <tr>\n",
       "      <th>min</th>\n",
       "      <td>18.000000</td>\n",
       "    </tr>\n",
       "    <tr>\n",
       "      <th>25%</th>\n",
       "      <td>32.000000</td>\n",
       "    </tr>\n",
       "    <tr>\n",
       "      <th>50%</th>\n",
       "      <td>38.000000</td>\n",
       "    </tr>\n",
       "    <tr>\n",
       "      <th>75%</th>\n",
       "      <td>47.000000</td>\n",
       "    </tr>\n",
       "    <tr>\n",
       "      <th>max</th>\n",
       "      <td>88.000000</td>\n",
       "    </tr>\n",
       "  </tbody>\n",
       "</table>\n",
       "</div>"
      ],
      "text/plain": [
       "               age\n",
       "count  4119.000000\n",
       "mean     40.113620\n",
       "std      10.313362\n",
       "min      18.000000\n",
       "25%      32.000000\n",
       "50%      38.000000\n",
       "75%      47.000000\n",
       "max      88.000000"
      ]
     },
     "execution_count": 10,
     "metadata": {},
     "output_type": "execute_result"
    }
   ],
   "source": [
    "data1.describe()"
   ]
  },
  {
   "cell_type": "code",
   "execution_count": 11,
   "id": "ae7f5d68",
   "metadata": {},
   "outputs": [
    {
     "data": {
      "text/html": [
       "<div>\n",
       "<style scoped>\n",
       "    .dataframe tbody tr th:only-of-type {\n",
       "        vertical-align: middle;\n",
       "    }\n",
       "\n",
       "    .dataframe tbody tr th {\n",
       "        vertical-align: top;\n",
       "    }\n",
       "\n",
       "    .dataframe thead th {\n",
       "        text-align: right;\n",
       "    }\n",
       "</style>\n",
       "<table border=\"1\" class=\"dataframe\">\n",
       "  <thead>\n",
       "    <tr style=\"text-align: right;\">\n",
       "      <th></th>\n",
       "      <th>ID</th>\n",
       "      <th>default</th>\n",
       "      <th>housing</th>\n",
       "      <th>loan</th>\n",
       "      <th>contact</th>\n",
       "      <th>month</th>\n",
       "    </tr>\n",
       "  </thead>\n",
       "  <tbody>\n",
       "    <tr>\n",
       "      <th>count</th>\n",
       "      <td>4119</td>\n",
       "      <td>4119</td>\n",
       "      <td>4119</td>\n",
       "      <td>4119</td>\n",
       "      <td>4119</td>\n",
       "      <td>4119</td>\n",
       "    </tr>\n",
       "    <tr>\n",
       "      <th>unique</th>\n",
       "      <td>4119</td>\n",
       "      <td>3</td>\n",
       "      <td>3</td>\n",
       "      <td>3</td>\n",
       "      <td>2</td>\n",
       "      <td>10</td>\n",
       "    </tr>\n",
       "    <tr>\n",
       "      <th>top</th>\n",
       "      <td>C1</td>\n",
       "      <td>no</td>\n",
       "      <td>yes</td>\n",
       "      <td>no</td>\n",
       "      <td>cellular</td>\n",
       "      <td>may</td>\n",
       "    </tr>\n",
       "    <tr>\n",
       "      <th>freq</th>\n",
       "      <td>1</td>\n",
       "      <td>3315</td>\n",
       "      <td>2175</td>\n",
       "      <td>3349</td>\n",
       "      <td>2652</td>\n",
       "      <td>1378</td>\n",
       "    </tr>\n",
       "  </tbody>\n",
       "</table>\n",
       "</div>"
      ],
      "text/plain": [
       "          ID default housing  loan   contact month\n",
       "count   4119    4119    4119  4119      4119  4119\n",
       "unique  4119       3       3     3         2    10\n",
       "top       C1      no     yes    no  cellular   may\n",
       "freq       1    3315    2175  3349      2652  1378"
      ]
     },
     "execution_count": 11,
     "metadata": {},
     "output_type": "execute_result"
    }
   ],
   "source": [
    "data2.describe()"
   ]
  },
  {
   "cell_type": "code",
   "execution_count": 12,
   "id": "4e380e1f",
   "metadata": {},
   "outputs": [
    {
     "data": {
      "text/html": [
       "<div>\n",
       "<style scoped>\n",
       "    .dataframe tbody tr th:only-of-type {\n",
       "        vertical-align: middle;\n",
       "    }\n",
       "\n",
       "    .dataframe tbody tr th {\n",
       "        vertical-align: top;\n",
       "    }\n",
       "\n",
       "    .dataframe thead th {\n",
       "        text-align: right;\n",
       "    }\n",
       "</style>\n",
       "<table border=\"1\" class=\"dataframe\">\n",
       "  <thead>\n",
       "    <tr style=\"text-align: right;\">\n",
       "      <th></th>\n",
       "      <th>duration</th>\n",
       "      <th>campaign</th>\n",
       "      <th>pdays</th>\n",
       "      <th>previous</th>\n",
       "      <th>emp.var.rate</th>\n",
       "      <th>cons.price.idx</th>\n",
       "      <th>cons.conf.idx</th>\n",
       "      <th>euribor3m</th>\n",
       "      <th>nr.employed</th>\n",
       "    </tr>\n",
       "  </thead>\n",
       "  <tbody>\n",
       "    <tr>\n",
       "      <th>count</th>\n",
       "      <td>4119.000000</td>\n",
       "      <td>4119.000000</td>\n",
       "      <td>4119.000000</td>\n",
       "      <td>4119.000000</td>\n",
       "      <td>4119.000000</td>\n",
       "      <td>4119.000000</td>\n",
       "      <td>4119.000000</td>\n",
       "      <td>4119.000000</td>\n",
       "      <td>4119.000000</td>\n",
       "    </tr>\n",
       "    <tr>\n",
       "      <th>mean</th>\n",
       "      <td>256.788055</td>\n",
       "      <td>2.537266</td>\n",
       "      <td>960.422190</td>\n",
       "      <td>0.190337</td>\n",
       "      <td>0.084972</td>\n",
       "      <td>93.579704</td>\n",
       "      <td>-40.499102</td>\n",
       "      <td>3.621356</td>\n",
       "      <td>5166.481695</td>\n",
       "    </tr>\n",
       "    <tr>\n",
       "      <th>std</th>\n",
       "      <td>254.703736</td>\n",
       "      <td>2.568159</td>\n",
       "      <td>191.922786</td>\n",
       "      <td>0.541788</td>\n",
       "      <td>1.563114</td>\n",
       "      <td>0.579349</td>\n",
       "      <td>4.594578</td>\n",
       "      <td>1.733591</td>\n",
       "      <td>73.667904</td>\n",
       "    </tr>\n",
       "    <tr>\n",
       "      <th>min</th>\n",
       "      <td>0.000000</td>\n",
       "      <td>1.000000</td>\n",
       "      <td>0.000000</td>\n",
       "      <td>0.000000</td>\n",
       "      <td>-3.400000</td>\n",
       "      <td>92.201000</td>\n",
       "      <td>-50.800000</td>\n",
       "      <td>0.635000</td>\n",
       "      <td>4963.600000</td>\n",
       "    </tr>\n",
       "    <tr>\n",
       "      <th>25%</th>\n",
       "      <td>103.000000</td>\n",
       "      <td>1.000000</td>\n",
       "      <td>999.000000</td>\n",
       "      <td>0.000000</td>\n",
       "      <td>-1.800000</td>\n",
       "      <td>93.075000</td>\n",
       "      <td>-42.700000</td>\n",
       "      <td>1.334000</td>\n",
       "      <td>5099.100000</td>\n",
       "    </tr>\n",
       "    <tr>\n",
       "      <th>50%</th>\n",
       "      <td>181.000000</td>\n",
       "      <td>2.000000</td>\n",
       "      <td>999.000000</td>\n",
       "      <td>0.000000</td>\n",
       "      <td>1.100000</td>\n",
       "      <td>93.749000</td>\n",
       "      <td>-41.800000</td>\n",
       "      <td>4.857000</td>\n",
       "      <td>5191.000000</td>\n",
       "    </tr>\n",
       "    <tr>\n",
       "      <th>75%</th>\n",
       "      <td>317.000000</td>\n",
       "      <td>3.000000</td>\n",
       "      <td>999.000000</td>\n",
       "      <td>0.000000</td>\n",
       "      <td>1.400000</td>\n",
       "      <td>93.994000</td>\n",
       "      <td>-36.400000</td>\n",
       "      <td>4.961000</td>\n",
       "      <td>5228.100000</td>\n",
       "    </tr>\n",
       "    <tr>\n",
       "      <th>max</th>\n",
       "      <td>3643.000000</td>\n",
       "      <td>35.000000</td>\n",
       "      <td>999.000000</td>\n",
       "      <td>6.000000</td>\n",
       "      <td>1.400000</td>\n",
       "      <td>94.767000</td>\n",
       "      <td>-26.900000</td>\n",
       "      <td>5.045000</td>\n",
       "      <td>5228.100000</td>\n",
       "    </tr>\n",
       "  </tbody>\n",
       "</table>\n",
       "</div>"
      ],
      "text/plain": [
       "          duration     campaign        pdays     previous  emp.var.rate  \\\n",
       "count  4119.000000  4119.000000  4119.000000  4119.000000   4119.000000   \n",
       "mean    256.788055     2.537266   960.422190     0.190337      0.084972   \n",
       "std     254.703736     2.568159   191.922786     0.541788      1.563114   \n",
       "min       0.000000     1.000000     0.000000     0.000000     -3.400000   \n",
       "25%     103.000000     1.000000   999.000000     0.000000     -1.800000   \n",
       "50%     181.000000     2.000000   999.000000     0.000000      1.100000   \n",
       "75%     317.000000     3.000000   999.000000     0.000000      1.400000   \n",
       "max    3643.000000    35.000000   999.000000     6.000000      1.400000   \n",
       "\n",
       "       cons.price.idx  cons.conf.idx    euribor3m  nr.employed  \n",
       "count     4119.000000    4119.000000  4119.000000  4119.000000  \n",
       "mean        93.579704     -40.499102     3.621356  5166.481695  \n",
       "std          0.579349       4.594578     1.733591    73.667904  \n",
       "min         92.201000     -50.800000     0.635000  4963.600000  \n",
       "25%         93.075000     -42.700000     1.334000  5099.100000  \n",
       "50%         93.749000     -41.800000     4.857000  5191.000000  \n",
       "75%         93.994000     -36.400000     4.961000  5228.100000  \n",
       "max         94.767000     -26.900000     5.045000  5228.100000  "
      ]
     },
     "execution_count": 12,
     "metadata": {},
     "output_type": "execute_result"
    }
   ],
   "source": [
    "data3.describe()"
   ]
  },
  {
   "cell_type": "code",
   "execution_count": 13,
   "id": "1c2b3498",
   "metadata": {},
   "outputs": [
    {
     "data": {
      "text/html": [
       "<div>\n",
       "<style scoped>\n",
       "    .dataframe tbody tr th:only-of-type {\n",
       "        vertical-align: middle;\n",
       "    }\n",
       "\n",
       "    .dataframe tbody tr th {\n",
       "        vertical-align: top;\n",
       "    }\n",
       "\n",
       "    .dataframe thead th {\n",
       "        text-align: right;\n",
       "    }\n",
       "</style>\n",
       "<table border=\"1\" class=\"dataframe\">\n",
       "  <thead>\n",
       "    <tr style=\"text-align: right;\">\n",
       "      <th></th>\n",
       "      <th>ID</th>\n",
       "      <th>approved</th>\n",
       "    </tr>\n",
       "  </thead>\n",
       "  <tbody>\n",
       "    <tr>\n",
       "      <th>count</th>\n",
       "      <td>4119</td>\n",
       "      <td>4119</td>\n",
       "    </tr>\n",
       "    <tr>\n",
       "      <th>unique</th>\n",
       "      <td>4119</td>\n",
       "      <td>2</td>\n",
       "    </tr>\n",
       "    <tr>\n",
       "      <th>top</th>\n",
       "      <td>C1</td>\n",
       "      <td>no</td>\n",
       "    </tr>\n",
       "    <tr>\n",
       "      <th>freq</th>\n",
       "      <td>1</td>\n",
       "      <td>3668</td>\n",
       "    </tr>\n",
       "  </tbody>\n",
       "</table>\n",
       "</div>"
      ],
      "text/plain": [
       "          ID approved\n",
       "count   4119     4119\n",
       "unique  4119        2\n",
       "top       C1       no\n",
       "freq       1     3668"
      ]
     },
     "execution_count": 13,
     "metadata": {},
     "output_type": "execute_result"
    }
   ],
   "source": [
    "data4.describe()"
   ]
  },
  {
   "cell_type": "code",
   "execution_count": 14,
   "id": "7aed97ac",
   "metadata": {},
   "outputs": [
    {
     "data": {
      "text/plain": [
       "ID           object\n",
       "age           int64\n",
       "job          object\n",
       "marital      object\n",
       "education    object\n",
       "dtype: object"
      ]
     },
     "execution_count": 14,
     "metadata": {},
     "output_type": "execute_result"
    }
   ],
   "source": [
    "data1.dtypes"
   ]
  },
  {
   "cell_type": "code",
   "execution_count": 15,
   "id": "d94a89bd",
   "metadata": {},
   "outputs": [
    {
     "data": {
      "text/plain": [
       "ID         object\n",
       "default    object\n",
       "housing    object\n",
       "loan       object\n",
       "contact    object\n",
       "month      object\n",
       "dtype: object"
      ]
     },
     "execution_count": 15,
     "metadata": {},
     "output_type": "execute_result"
    }
   ],
   "source": [
    "data2.dtypes"
   ]
  },
  {
   "cell_type": "code",
   "execution_count": 16,
   "id": "79f929bb",
   "metadata": {},
   "outputs": [
    {
     "data": {
      "text/plain": [
       "ID                 object\n",
       "day_of_week        object\n",
       "duration            int64\n",
       "campaign            int64\n",
       "pdays               int64\n",
       "previous            int64\n",
       "poutcome           object\n",
       "emp.var.rate      float64\n",
       "cons.price.idx    float64\n",
       "cons.conf.idx     float64\n",
       "euribor3m         float64\n",
       "nr.employed       float64\n",
       "dtype: object"
      ]
     },
     "execution_count": 16,
     "metadata": {},
     "output_type": "execute_result"
    }
   ],
   "source": [
    "data3.dtypes"
   ]
  },
  {
   "cell_type": "code",
   "execution_count": 17,
   "id": "101ceb0c",
   "metadata": {},
   "outputs": [
    {
     "data": {
      "text/plain": [
       "ID          object\n",
       "approved    object\n",
       "dtype: object"
      ]
     },
     "execution_count": 17,
     "metadata": {},
     "output_type": "execute_result"
    }
   ],
   "source": [
    "data4.dtypes"
   ]
  },
  {
   "cell_type": "code",
   "execution_count": 18,
   "id": "dda452d7",
   "metadata": {},
   "outputs": [
    {
     "data": {
      "text/plain": [
       "ID           4119\n",
       "age            67\n",
       "job            12\n",
       "marital         4\n",
       "education       8\n",
       "dtype: int64"
      ]
     },
     "execution_count": 18,
     "metadata": {},
     "output_type": "execute_result"
    }
   ],
   "source": [
    "data1.nunique()"
   ]
  },
  {
   "cell_type": "code",
   "execution_count": 19,
   "id": "2e477ec2",
   "metadata": {},
   "outputs": [
    {
     "data": {
      "text/plain": [
       "ID         4119\n",
       "default       3\n",
       "housing       3\n",
       "loan          3\n",
       "contact       2\n",
       "month        10\n",
       "dtype: int64"
      ]
     },
     "execution_count": 19,
     "metadata": {},
     "output_type": "execute_result"
    }
   ],
   "source": [
    "data2.nunique()"
   ]
  },
  {
   "cell_type": "code",
   "execution_count": 20,
   "id": "c08710ae",
   "metadata": {},
   "outputs": [
    {
     "data": {
      "text/plain": [
       "ID                4119\n",
       "day_of_week          5\n",
       "duration           828\n",
       "campaign            25\n",
       "pdays               21\n",
       "previous             7\n",
       "poutcome             3\n",
       "emp.var.rate        10\n",
       "cons.price.idx      26\n",
       "cons.conf.idx       26\n",
       "euribor3m          234\n",
       "nr.employed         11\n",
       "dtype: int64"
      ]
     },
     "execution_count": 20,
     "metadata": {},
     "output_type": "execute_result"
    }
   ],
   "source": [
    "data3.nunique()"
   ]
  },
  {
   "cell_type": "code",
   "execution_count": 21,
   "id": "07c7407a",
   "metadata": {},
   "outputs": [
    {
     "data": {
      "text/plain": [
       "ID          4119\n",
       "approved       2\n",
       "dtype: int64"
      ]
     },
     "execution_count": 21,
     "metadata": {},
     "output_type": "execute_result"
    }
   ],
   "source": [
    "data4.nunique()"
   ]
  },
  {
   "cell_type": "markdown",
   "id": "3f777285",
   "metadata": {},
   "source": [
    "#### Merging all the Datasets"
   ]
  },
  {
   "cell_type": "code",
   "execution_count": 22,
   "id": "1cfe0855",
   "metadata": {},
   "outputs": [],
   "source": [
    "data=pd.merge(data1,pd.merge(data2,pd.merge(data3,data4)))"
   ]
  },
  {
   "cell_type": "code",
   "execution_count": 23,
   "id": "6a671a18",
   "metadata": {},
   "outputs": [
    {
     "data": {
      "text/html": [
       "<div>\n",
       "<style scoped>\n",
       "    .dataframe tbody tr th:only-of-type {\n",
       "        vertical-align: middle;\n",
       "    }\n",
       "\n",
       "    .dataframe tbody tr th {\n",
       "        vertical-align: top;\n",
       "    }\n",
       "\n",
       "    .dataframe thead th {\n",
       "        text-align: right;\n",
       "    }\n",
       "</style>\n",
       "<table border=\"1\" class=\"dataframe\">\n",
       "  <thead>\n",
       "    <tr style=\"text-align: right;\">\n",
       "      <th></th>\n",
       "      <th>ID</th>\n",
       "      <th>age</th>\n",
       "      <th>job</th>\n",
       "      <th>marital</th>\n",
       "      <th>education</th>\n",
       "      <th>default</th>\n",
       "      <th>housing</th>\n",
       "      <th>loan</th>\n",
       "      <th>contact</th>\n",
       "      <th>month</th>\n",
       "      <th>...</th>\n",
       "      <th>campaign</th>\n",
       "      <th>pdays</th>\n",
       "      <th>previous</th>\n",
       "      <th>poutcome</th>\n",
       "      <th>emp.var.rate</th>\n",
       "      <th>cons.price.idx</th>\n",
       "      <th>cons.conf.idx</th>\n",
       "      <th>euribor3m</th>\n",
       "      <th>nr.employed</th>\n",
       "      <th>approved</th>\n",
       "    </tr>\n",
       "  </thead>\n",
       "  <tbody>\n",
       "    <tr>\n",
       "      <th>0</th>\n",
       "      <td>C1</td>\n",
       "      <td>30</td>\n",
       "      <td>blue-collar</td>\n",
       "      <td>married</td>\n",
       "      <td>basic.9y</td>\n",
       "      <td>no</td>\n",
       "      <td>yes</td>\n",
       "      <td>no</td>\n",
       "      <td>cellular</td>\n",
       "      <td>may</td>\n",
       "      <td>...</td>\n",
       "      <td>2</td>\n",
       "      <td>999</td>\n",
       "      <td>0</td>\n",
       "      <td>nonexistent</td>\n",
       "      <td>-1.8</td>\n",
       "      <td>92.893</td>\n",
       "      <td>-46.2</td>\n",
       "      <td>1.313</td>\n",
       "      <td>5099.1</td>\n",
       "      <td>no</td>\n",
       "    </tr>\n",
       "    <tr>\n",
       "      <th>1</th>\n",
       "      <td>C2</td>\n",
       "      <td>39</td>\n",
       "      <td>services</td>\n",
       "      <td>single</td>\n",
       "      <td>high.school</td>\n",
       "      <td>no</td>\n",
       "      <td>no</td>\n",
       "      <td>no</td>\n",
       "      <td>telephone</td>\n",
       "      <td>may</td>\n",
       "      <td>...</td>\n",
       "      <td>4</td>\n",
       "      <td>999</td>\n",
       "      <td>0</td>\n",
       "      <td>nonexistent</td>\n",
       "      <td>1.1</td>\n",
       "      <td>93.994</td>\n",
       "      <td>-36.4</td>\n",
       "      <td>4.855</td>\n",
       "      <td>5191.0</td>\n",
       "      <td>no</td>\n",
       "    </tr>\n",
       "    <tr>\n",
       "      <th>2</th>\n",
       "      <td>C3</td>\n",
       "      <td>25</td>\n",
       "      <td>services</td>\n",
       "      <td>married</td>\n",
       "      <td>high.school</td>\n",
       "      <td>no</td>\n",
       "      <td>yes</td>\n",
       "      <td>no</td>\n",
       "      <td>telephone</td>\n",
       "      <td>jun</td>\n",
       "      <td>...</td>\n",
       "      <td>1</td>\n",
       "      <td>999</td>\n",
       "      <td>0</td>\n",
       "      <td>nonexistent</td>\n",
       "      <td>1.4</td>\n",
       "      <td>94.465</td>\n",
       "      <td>-41.8</td>\n",
       "      <td>4.962</td>\n",
       "      <td>5228.1</td>\n",
       "      <td>no</td>\n",
       "    </tr>\n",
       "    <tr>\n",
       "      <th>3</th>\n",
       "      <td>C4</td>\n",
       "      <td>38</td>\n",
       "      <td>services</td>\n",
       "      <td>married</td>\n",
       "      <td>basic.9y</td>\n",
       "      <td>no</td>\n",
       "      <td>unknown</td>\n",
       "      <td>unknown</td>\n",
       "      <td>telephone</td>\n",
       "      <td>jun</td>\n",
       "      <td>...</td>\n",
       "      <td>3</td>\n",
       "      <td>999</td>\n",
       "      <td>0</td>\n",
       "      <td>nonexistent</td>\n",
       "      <td>1.4</td>\n",
       "      <td>94.465</td>\n",
       "      <td>-41.8</td>\n",
       "      <td>4.959</td>\n",
       "      <td>5228.1</td>\n",
       "      <td>no</td>\n",
       "    </tr>\n",
       "    <tr>\n",
       "      <th>4</th>\n",
       "      <td>C5</td>\n",
       "      <td>47</td>\n",
       "      <td>admin.</td>\n",
       "      <td>married</td>\n",
       "      <td>university.degree</td>\n",
       "      <td>no</td>\n",
       "      <td>yes</td>\n",
       "      <td>no</td>\n",
       "      <td>cellular</td>\n",
       "      <td>nov</td>\n",
       "      <td>...</td>\n",
       "      <td>1</td>\n",
       "      <td>999</td>\n",
       "      <td>0</td>\n",
       "      <td>nonexistent</td>\n",
       "      <td>-0.1</td>\n",
       "      <td>93.200</td>\n",
       "      <td>-42.0</td>\n",
       "      <td>4.191</td>\n",
       "      <td>5195.8</td>\n",
       "      <td>no</td>\n",
       "    </tr>\n",
       "    <tr>\n",
       "      <th>...</th>\n",
       "      <td>...</td>\n",
       "      <td>...</td>\n",
       "      <td>...</td>\n",
       "      <td>...</td>\n",
       "      <td>...</td>\n",
       "      <td>...</td>\n",
       "      <td>...</td>\n",
       "      <td>...</td>\n",
       "      <td>...</td>\n",
       "      <td>...</td>\n",
       "      <td>...</td>\n",
       "      <td>...</td>\n",
       "      <td>...</td>\n",
       "      <td>...</td>\n",
       "      <td>...</td>\n",
       "      <td>...</td>\n",
       "      <td>...</td>\n",
       "      <td>...</td>\n",
       "      <td>...</td>\n",
       "      <td>...</td>\n",
       "      <td>...</td>\n",
       "    </tr>\n",
       "    <tr>\n",
       "      <th>4114</th>\n",
       "      <td>C4115</td>\n",
       "      <td>30</td>\n",
       "      <td>admin.</td>\n",
       "      <td>married</td>\n",
       "      <td>basic.6y</td>\n",
       "      <td>no</td>\n",
       "      <td>yes</td>\n",
       "      <td>yes</td>\n",
       "      <td>cellular</td>\n",
       "      <td>jul</td>\n",
       "      <td>...</td>\n",
       "      <td>1</td>\n",
       "      <td>999</td>\n",
       "      <td>0</td>\n",
       "      <td>nonexistent</td>\n",
       "      <td>1.4</td>\n",
       "      <td>93.918</td>\n",
       "      <td>-42.7</td>\n",
       "      <td>4.958</td>\n",
       "      <td>5228.1</td>\n",
       "      <td>no</td>\n",
       "    </tr>\n",
       "    <tr>\n",
       "      <th>4115</th>\n",
       "      <td>C4116</td>\n",
       "      <td>39</td>\n",
       "      <td>admin.</td>\n",
       "      <td>married</td>\n",
       "      <td>high.school</td>\n",
       "      <td>no</td>\n",
       "      <td>yes</td>\n",
       "      <td>no</td>\n",
       "      <td>telephone</td>\n",
       "      <td>jul</td>\n",
       "      <td>...</td>\n",
       "      <td>1</td>\n",
       "      <td>999</td>\n",
       "      <td>0</td>\n",
       "      <td>nonexistent</td>\n",
       "      <td>1.4</td>\n",
       "      <td>93.918</td>\n",
       "      <td>-42.7</td>\n",
       "      <td>4.959</td>\n",
       "      <td>5228.1</td>\n",
       "      <td>no</td>\n",
       "    </tr>\n",
       "    <tr>\n",
       "      <th>4116</th>\n",
       "      <td>C4117</td>\n",
       "      <td>27</td>\n",
       "      <td>student</td>\n",
       "      <td>single</td>\n",
       "      <td>high.school</td>\n",
       "      <td>no</td>\n",
       "      <td>no</td>\n",
       "      <td>no</td>\n",
       "      <td>cellular</td>\n",
       "      <td>may</td>\n",
       "      <td>...</td>\n",
       "      <td>2</td>\n",
       "      <td>999</td>\n",
       "      <td>1</td>\n",
       "      <td>failure</td>\n",
       "      <td>-1.8</td>\n",
       "      <td>92.893</td>\n",
       "      <td>-46.2</td>\n",
       "      <td>1.354</td>\n",
       "      <td>5099.1</td>\n",
       "      <td>no</td>\n",
       "    </tr>\n",
       "    <tr>\n",
       "      <th>4117</th>\n",
       "      <td>C4118</td>\n",
       "      <td>58</td>\n",
       "      <td>admin.</td>\n",
       "      <td>married</td>\n",
       "      <td>high.school</td>\n",
       "      <td>no</td>\n",
       "      <td>no</td>\n",
       "      <td>no</td>\n",
       "      <td>cellular</td>\n",
       "      <td>aug</td>\n",
       "      <td>...</td>\n",
       "      <td>1</td>\n",
       "      <td>999</td>\n",
       "      <td>0</td>\n",
       "      <td>nonexistent</td>\n",
       "      <td>1.4</td>\n",
       "      <td>93.444</td>\n",
       "      <td>-36.1</td>\n",
       "      <td>4.966</td>\n",
       "      <td>5228.1</td>\n",
       "      <td>no</td>\n",
       "    </tr>\n",
       "    <tr>\n",
       "      <th>4118</th>\n",
       "      <td>C4119</td>\n",
       "      <td>34</td>\n",
       "      <td>management</td>\n",
       "      <td>single</td>\n",
       "      <td>high.school</td>\n",
       "      <td>no</td>\n",
       "      <td>yes</td>\n",
       "      <td>no</td>\n",
       "      <td>cellular</td>\n",
       "      <td>nov</td>\n",
       "      <td>...</td>\n",
       "      <td>1</td>\n",
       "      <td>999</td>\n",
       "      <td>0</td>\n",
       "      <td>nonexistent</td>\n",
       "      <td>-0.1</td>\n",
       "      <td>93.200</td>\n",
       "      <td>-42.0</td>\n",
       "      <td>4.120</td>\n",
       "      <td>5195.8</td>\n",
       "      <td>no</td>\n",
       "    </tr>\n",
       "  </tbody>\n",
       "</table>\n",
       "<p>4119 rows × 22 columns</p>\n",
       "</div>"
      ],
      "text/plain": [
       "         ID  age          job  marital          education default  housing  \\\n",
       "0        C1   30  blue-collar  married           basic.9y      no      yes   \n",
       "1        C2   39     services   single        high.school      no       no   \n",
       "2        C3   25     services  married        high.school      no      yes   \n",
       "3        C4   38     services  married           basic.9y      no  unknown   \n",
       "4        C5   47       admin.  married  university.degree      no      yes   \n",
       "...     ...  ...          ...      ...                ...     ...      ...   \n",
       "4114  C4115   30       admin.  married           basic.6y      no      yes   \n",
       "4115  C4116   39       admin.  married        high.school      no      yes   \n",
       "4116  C4117   27      student   single        high.school      no       no   \n",
       "4117  C4118   58       admin.  married        high.school      no       no   \n",
       "4118  C4119   34   management   single        high.school      no      yes   \n",
       "\n",
       "         loan    contact month  ... campaign  pdays  previous     poutcome  \\\n",
       "0          no   cellular   may  ...        2    999         0  nonexistent   \n",
       "1          no  telephone   may  ...        4    999         0  nonexistent   \n",
       "2          no  telephone   jun  ...        1    999         0  nonexistent   \n",
       "3     unknown  telephone   jun  ...        3    999         0  nonexistent   \n",
       "4          no   cellular   nov  ...        1    999         0  nonexistent   \n",
       "...       ...        ...   ...  ...      ...    ...       ...          ...   \n",
       "4114      yes   cellular   jul  ...        1    999         0  nonexistent   \n",
       "4115       no  telephone   jul  ...        1    999         0  nonexistent   \n",
       "4116       no   cellular   may  ...        2    999         1      failure   \n",
       "4117       no   cellular   aug  ...        1    999         0  nonexistent   \n",
       "4118       no   cellular   nov  ...        1    999         0  nonexistent   \n",
       "\n",
       "      emp.var.rate cons.price.idx  cons.conf.idx  euribor3m  nr.employed  \\\n",
       "0             -1.8         92.893          -46.2      1.313       5099.1   \n",
       "1              1.1         93.994          -36.4      4.855       5191.0   \n",
       "2              1.4         94.465          -41.8      4.962       5228.1   \n",
       "3              1.4         94.465          -41.8      4.959       5228.1   \n",
       "4             -0.1         93.200          -42.0      4.191       5195.8   \n",
       "...            ...            ...            ...        ...          ...   \n",
       "4114           1.4         93.918          -42.7      4.958       5228.1   \n",
       "4115           1.4         93.918          -42.7      4.959       5228.1   \n",
       "4116          -1.8         92.893          -46.2      1.354       5099.1   \n",
       "4117           1.4         93.444          -36.1      4.966       5228.1   \n",
       "4118          -0.1         93.200          -42.0      4.120       5195.8   \n",
       "\n",
       "      approved  \n",
       "0           no  \n",
       "1           no  \n",
       "2           no  \n",
       "3           no  \n",
       "4           no  \n",
       "...        ...  \n",
       "4114        no  \n",
       "4115        no  \n",
       "4116        no  \n",
       "4117        no  \n",
       "4118        no  \n",
       "\n",
       "[4119 rows x 22 columns]"
      ]
     },
     "execution_count": 23,
     "metadata": {},
     "output_type": "execute_result"
    }
   ],
   "source": [
    "data"
   ]
  },
  {
   "cell_type": "code",
   "execution_count": 24,
   "id": "bfadb9c2",
   "metadata": {},
   "outputs": [
    {
     "data": {
      "text/plain": [
       "(4119, 22)"
      ]
     },
     "execution_count": 24,
     "metadata": {},
     "output_type": "execute_result"
    }
   ],
   "source": [
    "data.shape"
   ]
  },
  {
   "cell_type": "code",
   "execution_count": 25,
   "id": "94815fd0",
   "metadata": {},
   "outputs": [
    {
     "data": {
      "text/plain": [
       "Index(['ID', 'age', 'job', 'marital', 'education', 'default', 'housing',\n",
       "       'loan', 'contact', 'month', 'day_of_week', 'duration', 'campaign',\n",
       "       'pdays', 'previous', 'poutcome', 'emp.var.rate', 'cons.price.idx',\n",
       "       'cons.conf.idx', 'euribor3m', 'nr.employed', 'approved'],\n",
       "      dtype='object')"
      ]
     },
     "execution_count": 25,
     "metadata": {},
     "output_type": "execute_result"
    }
   ],
   "source": [
    "data.columns"
   ]
  },
  {
   "cell_type": "code",
   "execution_count": 26,
   "id": "43700e3a",
   "metadata": {},
   "outputs": [
    {
     "data": {
      "text/plain": [
       "ID                4119\n",
       "age                 67\n",
       "job                 12\n",
       "marital              4\n",
       "education            8\n",
       "default              3\n",
       "housing              3\n",
       "loan                 3\n",
       "contact              2\n",
       "month               10\n",
       "day_of_week          5\n",
       "duration           828\n",
       "campaign            25\n",
       "pdays               21\n",
       "previous             7\n",
       "poutcome             3\n",
       "emp.var.rate        10\n",
       "cons.price.idx      26\n",
       "cons.conf.idx       26\n",
       "euribor3m          234\n",
       "nr.employed         11\n",
       "approved             2\n",
       "dtype: int64"
      ]
     },
     "execution_count": 26,
     "metadata": {},
     "output_type": "execute_result"
    }
   ],
   "source": [
    "data.nunique()"
   ]
  },
  {
   "cell_type": "code",
   "execution_count": 27,
   "id": "3a9446fd",
   "metadata": {},
   "outputs": [
    {
     "data": {
      "text/plain": [
       "ID                0\n",
       "age               0\n",
       "job               0\n",
       "marital           0\n",
       "education         0\n",
       "default           0\n",
       "housing           0\n",
       "loan              0\n",
       "contact           0\n",
       "month             0\n",
       "day_of_week       0\n",
       "duration          0\n",
       "campaign          0\n",
       "pdays             0\n",
       "previous          0\n",
       "poutcome          0\n",
       "emp.var.rate      0\n",
       "cons.price.idx    0\n",
       "cons.conf.idx     0\n",
       "euribor3m         0\n",
       "nr.employed       0\n",
       "approved          0\n",
       "dtype: int64"
      ]
     },
     "execution_count": 27,
     "metadata": {},
     "output_type": "execute_result"
    }
   ],
   "source": [
    "data.isnull().sum()"
   ]
  },
  {
   "cell_type": "code",
   "execution_count": 29,
   "id": "79cc7d2e",
   "metadata": {},
   "outputs": [
    {
     "data": {
      "text/plain": [
       "ID                 object\n",
       "age                 int64\n",
       "job                object\n",
       "marital            object\n",
       "education          object\n",
       "default            object\n",
       "housing            object\n",
       "loan               object\n",
       "contact            object\n",
       "month              object\n",
       "day_of_week        object\n",
       "duration            int64\n",
       "campaign            int64\n",
       "pdays               int64\n",
       "previous            int64\n",
       "poutcome           object\n",
       "emp.var.rate      float64\n",
       "cons.price.idx    float64\n",
       "cons.conf.idx     float64\n",
       "euribor3m         float64\n",
       "nr.employed       float64\n",
       "approved           object\n",
       "dtype: object"
      ]
     },
     "execution_count": 29,
     "metadata": {},
     "output_type": "execute_result"
    }
   ],
   "source": [
    "data.dtypes"
   ]
  },
  {
   "cell_type": "code",
   "execution_count": 30,
   "id": "b9abd258",
   "metadata": {},
   "outputs": [
    {
     "data": {
      "text/html": [
       "<div>\n",
       "<style scoped>\n",
       "    .dataframe tbody tr th:only-of-type {\n",
       "        vertical-align: middle;\n",
       "    }\n",
       "\n",
       "    .dataframe tbody tr th {\n",
       "        vertical-align: top;\n",
       "    }\n",
       "\n",
       "    .dataframe thead th {\n",
       "        text-align: right;\n",
       "    }\n",
       "</style>\n",
       "<table border=\"1\" class=\"dataframe\">\n",
       "  <thead>\n",
       "    <tr style=\"text-align: right;\">\n",
       "      <th></th>\n",
       "      <th>age</th>\n",
       "      <th>duration</th>\n",
       "      <th>campaign</th>\n",
       "      <th>pdays</th>\n",
       "      <th>previous</th>\n",
       "      <th>emp.var.rate</th>\n",
       "      <th>cons.price.idx</th>\n",
       "      <th>cons.conf.idx</th>\n",
       "      <th>euribor3m</th>\n",
       "      <th>nr.employed</th>\n",
       "    </tr>\n",
       "  </thead>\n",
       "  <tbody>\n",
       "    <tr>\n",
       "      <th>count</th>\n",
       "      <td>4119.000000</td>\n",
       "      <td>4119.000000</td>\n",
       "      <td>4119.000000</td>\n",
       "      <td>4119.000000</td>\n",
       "      <td>4119.000000</td>\n",
       "      <td>4119.000000</td>\n",
       "      <td>4119.000000</td>\n",
       "      <td>4119.000000</td>\n",
       "      <td>4119.000000</td>\n",
       "      <td>4119.000000</td>\n",
       "    </tr>\n",
       "    <tr>\n",
       "      <th>mean</th>\n",
       "      <td>40.113620</td>\n",
       "      <td>256.788055</td>\n",
       "      <td>2.537266</td>\n",
       "      <td>960.422190</td>\n",
       "      <td>0.190337</td>\n",
       "      <td>0.084972</td>\n",
       "      <td>93.579704</td>\n",
       "      <td>-40.499102</td>\n",
       "      <td>3.621356</td>\n",
       "      <td>5166.481695</td>\n",
       "    </tr>\n",
       "    <tr>\n",
       "      <th>std</th>\n",
       "      <td>10.313362</td>\n",
       "      <td>254.703736</td>\n",
       "      <td>2.568159</td>\n",
       "      <td>191.922786</td>\n",
       "      <td>0.541788</td>\n",
       "      <td>1.563114</td>\n",
       "      <td>0.579349</td>\n",
       "      <td>4.594578</td>\n",
       "      <td>1.733591</td>\n",
       "      <td>73.667904</td>\n",
       "    </tr>\n",
       "    <tr>\n",
       "      <th>min</th>\n",
       "      <td>18.000000</td>\n",
       "      <td>0.000000</td>\n",
       "      <td>1.000000</td>\n",
       "      <td>0.000000</td>\n",
       "      <td>0.000000</td>\n",
       "      <td>-3.400000</td>\n",
       "      <td>92.201000</td>\n",
       "      <td>-50.800000</td>\n",
       "      <td>0.635000</td>\n",
       "      <td>4963.600000</td>\n",
       "    </tr>\n",
       "    <tr>\n",
       "      <th>25%</th>\n",
       "      <td>32.000000</td>\n",
       "      <td>103.000000</td>\n",
       "      <td>1.000000</td>\n",
       "      <td>999.000000</td>\n",
       "      <td>0.000000</td>\n",
       "      <td>-1.800000</td>\n",
       "      <td>93.075000</td>\n",
       "      <td>-42.700000</td>\n",
       "      <td>1.334000</td>\n",
       "      <td>5099.100000</td>\n",
       "    </tr>\n",
       "    <tr>\n",
       "      <th>50%</th>\n",
       "      <td>38.000000</td>\n",
       "      <td>181.000000</td>\n",
       "      <td>2.000000</td>\n",
       "      <td>999.000000</td>\n",
       "      <td>0.000000</td>\n",
       "      <td>1.100000</td>\n",
       "      <td>93.749000</td>\n",
       "      <td>-41.800000</td>\n",
       "      <td>4.857000</td>\n",
       "      <td>5191.000000</td>\n",
       "    </tr>\n",
       "    <tr>\n",
       "      <th>75%</th>\n",
       "      <td>47.000000</td>\n",
       "      <td>317.000000</td>\n",
       "      <td>3.000000</td>\n",
       "      <td>999.000000</td>\n",
       "      <td>0.000000</td>\n",
       "      <td>1.400000</td>\n",
       "      <td>93.994000</td>\n",
       "      <td>-36.400000</td>\n",
       "      <td>4.961000</td>\n",
       "      <td>5228.100000</td>\n",
       "    </tr>\n",
       "    <tr>\n",
       "      <th>max</th>\n",
       "      <td>88.000000</td>\n",
       "      <td>3643.000000</td>\n",
       "      <td>35.000000</td>\n",
       "      <td>999.000000</td>\n",
       "      <td>6.000000</td>\n",
       "      <td>1.400000</td>\n",
       "      <td>94.767000</td>\n",
       "      <td>-26.900000</td>\n",
       "      <td>5.045000</td>\n",
       "      <td>5228.100000</td>\n",
       "    </tr>\n",
       "  </tbody>\n",
       "</table>\n",
       "</div>"
      ],
      "text/plain": [
       "               age     duration     campaign        pdays     previous  \\\n",
       "count  4119.000000  4119.000000  4119.000000  4119.000000  4119.000000   \n",
       "mean     40.113620   256.788055     2.537266   960.422190     0.190337   \n",
       "std      10.313362   254.703736     2.568159   191.922786     0.541788   \n",
       "min      18.000000     0.000000     1.000000     0.000000     0.000000   \n",
       "25%      32.000000   103.000000     1.000000   999.000000     0.000000   \n",
       "50%      38.000000   181.000000     2.000000   999.000000     0.000000   \n",
       "75%      47.000000   317.000000     3.000000   999.000000     0.000000   \n",
       "max      88.000000  3643.000000    35.000000   999.000000     6.000000   \n",
       "\n",
       "       emp.var.rate  cons.price.idx  cons.conf.idx    euribor3m  nr.employed  \n",
       "count   4119.000000     4119.000000    4119.000000  4119.000000  4119.000000  \n",
       "mean       0.084972       93.579704     -40.499102     3.621356  5166.481695  \n",
       "std        1.563114        0.579349       4.594578     1.733591    73.667904  \n",
       "min       -3.400000       92.201000     -50.800000     0.635000  4963.600000  \n",
       "25%       -1.800000       93.075000     -42.700000     1.334000  5099.100000  \n",
       "50%        1.100000       93.749000     -41.800000     4.857000  5191.000000  \n",
       "75%        1.400000       93.994000     -36.400000     4.961000  5228.100000  \n",
       "max        1.400000       94.767000     -26.900000     5.045000  5228.100000  "
      ]
     },
     "execution_count": 30,
     "metadata": {},
     "output_type": "execute_result"
    }
   ],
   "source": [
    "data.describe()"
   ]
  },
  {
   "cell_type": "markdown",
   "id": "4c8161bd",
   "metadata": {},
   "source": [
    "#### Exploratory Data Analysis"
   ]
  },
  {
   "cell_type": "code",
   "execution_count": 31,
   "id": "f102d173",
   "metadata": {},
   "outputs": [
    {
     "data": {
      "image/png": "[encoded data removed]",
      "text/plain": [
       "<Figure size 648x360 with 1 Axes>"
      ]
     },
     "metadata": {
      "needs_background": "light"
     },
     "output_type": "display_data"
    }
   ],
   "source": [
    "plt.figure(figsize=(9,5))\n",
    "sns.histplot(x='age', data=data, bins=20)\n",
    "plt.title('Age Distribution')\n",
    "plt.xlabel('Age')\n",
    "plt.ylabel('Count')\n",
    "plt.show()"
   ]
  },
  {
   "cell_type": "code",
   "execution_count": 32,
   "id": "dd0a25e6",
   "metadata": {},
   "outputs": [
    {
     "data": {
      "image/png": "[encoded data removed]",
      "text/plain": [
       "<Figure size 1080x360 with 1 Axes>"
      ]
     },
     "metadata": {
      "needs_background": "light"
     },
     "output_type": "display_data"
    }
   ],
   "source": [
    "plt.figure(figsize=(15,5))\n",
    "sns.countplot(x='job', hue='approved', data=data)\n",
    "plt.title('Job types that are more likely to be approved for laon')\n",
    "plt.xlabel('Job type')\n",
    "plt.ylabel('Count')\n",
    "plt.show()"
   ]
  },
  {
   "cell_type": "code",
   "execution_count": 34,
   "id": "df639ca4",
   "metadata": {},
   "outputs": [
    {
     "data": {
      "image/png": "[encoded data removed]",
      "text/plain": [
       "<Figure size 720x432 with 1 Axes>"
      ]
     },
     "metadata": {
      "needs_background": "light"
     },
     "output_type": "display_data"
    }
   ],
   "source": [
    "plt.figure(figsize=(10,6))\n",
    "sns.scatterplot(x='duration', y='campaign', data=data)\n",
    "plt.title('Duration vs Campaign')\n",
    "plt.xlabel('Duration')\n",
    "plt.ylabel('Campaign')\n",
    "plt.show()"
   ]
  },
  {
   "cell_type": "code",
   "execution_count": 35,
   "id": "9084db40",
   "metadata": {},
   "outputs": [
    {
     "data": {
      "image/png": "[encoded data removed]",
      "text/plain": [
       "<Figure size 360x432 with 1 Axes>"
      ]
     },
     "metadata": {
      "needs_background": "light"
     },
     "output_type": "display_data"
    }
   ],
   "source": [
    "plt.figure(figsize=(5,6))\n",
    "sns.histplot(x='euribor3m', data=data, bins=30)\n",
    "plt.title('Euribor 3 Month Rate Distribution')\n",
    "plt.xlabel('Euribor 3 Month Rate')\n",
    "plt.ylabel('Count')\n",
    "plt.show()"
   ]
  },
  {
   "cell_type": "markdown",
   "id": "78dc5eda",
   "metadata": {},
   "source": [
    "#### Creating Bins for numerical attributes to convert into categorical attributes"
   ]
  },
  {
   "cell_type": "code",
   "execution_count": 37,
   "id": "830efee9",
   "metadata": {},
   "outputs": [],
   "source": [
    "data['age'] = pd.cut(data['age'], bins=4,labels=[\"Young_age\",\"Middle_age\",\"Old_age\",\"Very Old\"])"
   ]
  },
  {
   "cell_type": "code",
   "execution_count": 38,
   "id": "b7e79e9a",
   "metadata": {},
   "outputs": [],
   "source": [
    "data['duration'] = pd.cut(data['duration'], bins=[0.000000,900.000000,1800.000000,2700.000000,3643.000000],labels=[\"less than 15mins\",\"less than 30mins\",\"greater than 30mins\",\"less than 1hr\"])"
   ]
  },
  {
   "cell_type": "code",
   "execution_count": 39,
   "id": "d6a7ec88",
   "metadata": {},
   "outputs": [],
   "source": [
    "data['campaign'] = pd.cut(data['campaign'], bins=4,labels=[\"less than 12\",\"less than 24\",\"less than 36\",\"less than 50\"])"
   ]
  },
  {
   "cell_type": "code",
   "execution_count": 40,
   "id": "02502b4a",
   "metadata": {},
   "outputs": [],
   "source": [
    "data['pdays'] = pd.cut(data['pdays'], bins=[0.000000,182.000000,365.000000,730.000000,999.000000],labels=[\"less than 6 months\",\"less than 1yr\",\"less than 2yrs\",\"more than 2yrs\"])"
   ]
  },
  {
   "cell_type": "code",
   "execution_count": 41,
   "id": "fe54e354",
   "metadata": {},
   "outputs": [],
   "source": [
    "data['previous'] = pd.cut(data['previous'], bins=3,labels=[\"minimal\",\"normal\",\"many\"])"
   ]
  },
  {
   "cell_type": "code",
   "execution_count": 42,
   "id": "caded7e8",
   "metadata": {},
   "outputs": [],
   "source": [
    "data['emp.var.rate'] = pd.cut(data['emp.var.rate'], bins=3,labels=[\"1\",\"2\",\"3\"])"
   ]
  },
  {
   "cell_type": "code",
   "execution_count": 43,
   "id": "83a86e44",
   "metadata": {},
   "outputs": [],
   "source": [
    "data['cons.price.idx'] = pd.cut(data['cons.price.idx'], bins=2,labels=[\"1\",\"2\"])"
   ]
  },
  {
   "cell_type": "code",
   "execution_count": 44,
   "id": "bf88f507",
   "metadata": {},
   "outputs": [],
   "source": [
    "data['cons.conf.idx'] = pd.cut(data['cons.conf.idx'], bins=4,labels=[\"1\",\"2\",\"3\",\"4\"])"
   ]
  },
  {
   "cell_type": "code",
   "execution_count": 45,
   "id": "d14478be",
   "metadata": {},
   "outputs": [],
   "source": [
    "data['euribor3m'] = pd.cut(data['euribor3m'], bins=5,labels=[\"1\",\"2\",\"3\",\"4\",\"5\"])"
   ]
  },
  {
   "cell_type": "code",
   "execution_count": 46,
   "id": "9be7f8e4",
   "metadata": {},
   "outputs": [],
   "source": [
    "data['nr.employed'] = pd.cut(data['nr.employed'], bins=5,labels=[\"1\",\"2\",\"3\",\"4\",\"5\"])"
   ]
  },
  {
   "cell_type": "code",
   "execution_count": 47,
   "id": "be691240",
   "metadata": {},
   "outputs": [
    {
     "data": {
      "text/html": [
       "<div>\n",
       "<style scoped>\n",
       "    .dataframe tbody tr th:only-of-type {\n",
       "        vertical-align: middle;\n",
       "    }\n",
       "\n",
       "    .dataframe tbody tr th {\n",
       "        vertical-align: top;\n",
       "    }\n",
       "\n",
       "    .dataframe thead th {\n",
       "        text-align: right;\n",
       "    }\n",
       "</style>\n",
       "<table border=\"1\" class=\"dataframe\">\n",
       "  <thead>\n",
       "    <tr style=\"text-align: right;\">\n",
       "      <th></th>\n",
       "      <th>ID</th>\n",
       "      <th>age</th>\n",
       "      <th>job</th>\n",
       "      <th>marital</th>\n",
       "      <th>education</th>\n",
       "      <th>default</th>\n",
       "      <th>housing</th>\n",
       "      <th>loan</th>\n",
       "      <th>contact</th>\n",
       "      <th>month</th>\n",
       "      <th>...</th>\n",
       "      <th>campaign</th>\n",
       "      <th>pdays</th>\n",
       "      <th>previous</th>\n",
       "      <th>poutcome</th>\n",
       "      <th>emp.var.rate</th>\n",
       "      <th>cons.price.idx</th>\n",
       "      <th>cons.conf.idx</th>\n",
       "      <th>euribor3m</th>\n",
       "      <th>nr.employed</th>\n",
       "      <th>approved</th>\n",
       "    </tr>\n",
       "  </thead>\n",
       "  <tbody>\n",
       "    <tr>\n",
       "      <th>0</th>\n",
       "      <td>C1</td>\n",
       "      <td>Young_age</td>\n",
       "      <td>blue-collar</td>\n",
       "      <td>married</td>\n",
       "      <td>basic.9y</td>\n",
       "      <td>no</td>\n",
       "      <td>yes</td>\n",
       "      <td>no</td>\n",
       "      <td>cellular</td>\n",
       "      <td>may</td>\n",
       "      <td>...</td>\n",
       "      <td>less than 12</td>\n",
       "      <td>more than 2yrs</td>\n",
       "      <td>minimal</td>\n",
       "      <td>nonexistent</td>\n",
       "      <td>1</td>\n",
       "      <td>1</td>\n",
       "      <td>1</td>\n",
       "      <td>1</td>\n",
       "      <td>3</td>\n",
       "      <td>no</td>\n",
       "    </tr>\n",
       "    <tr>\n",
       "      <th>1</th>\n",
       "      <td>C2</td>\n",
       "      <td>Middle_age</td>\n",
       "      <td>services</td>\n",
       "      <td>single</td>\n",
       "      <td>high.school</td>\n",
       "      <td>no</td>\n",
       "      <td>no</td>\n",
       "      <td>no</td>\n",
       "      <td>telephone</td>\n",
       "      <td>may</td>\n",
       "      <td>...</td>\n",
       "      <td>less than 12</td>\n",
       "      <td>more than 2yrs</td>\n",
       "      <td>minimal</td>\n",
       "      <td>nonexistent</td>\n",
       "      <td>3</td>\n",
       "      <td>2</td>\n",
       "      <td>3</td>\n",
       "      <td>5</td>\n",
       "      <td>5</td>\n",
       "      <td>no</td>\n",
       "    </tr>\n",
       "    <tr>\n",
       "      <th>2</th>\n",
       "      <td>C3</td>\n",
       "      <td>Young_age</td>\n",
       "      <td>services</td>\n",
       "      <td>married</td>\n",
       "      <td>high.school</td>\n",
       "      <td>no</td>\n",
       "      <td>yes</td>\n",
       "      <td>no</td>\n",
       "      <td>telephone</td>\n",
       "      <td>jun</td>\n",
       "      <td>...</td>\n",
       "      <td>less than 12</td>\n",
       "      <td>more than 2yrs</td>\n",
       "      <td>minimal</td>\n",
       "      <td>nonexistent</td>\n",
       "      <td>3</td>\n",
       "      <td>2</td>\n",
       "      <td>2</td>\n",
       "      <td>5</td>\n",
       "      <td>5</td>\n",
       "      <td>no</td>\n",
       "    </tr>\n",
       "    <tr>\n",
       "      <th>3</th>\n",
       "      <td>C4</td>\n",
       "      <td>Middle_age</td>\n",
       "      <td>services</td>\n",
       "      <td>married</td>\n",
       "      <td>basic.9y</td>\n",
       "      <td>no</td>\n",
       "      <td>unknown</td>\n",
       "      <td>unknown</td>\n",
       "      <td>telephone</td>\n",
       "      <td>jun</td>\n",
       "      <td>...</td>\n",
       "      <td>less than 12</td>\n",
       "      <td>more than 2yrs</td>\n",
       "      <td>minimal</td>\n",
       "      <td>nonexistent</td>\n",
       "      <td>3</td>\n",
       "      <td>2</td>\n",
       "      <td>2</td>\n",
       "      <td>5</td>\n",
       "      <td>5</td>\n",
       "      <td>no</td>\n",
       "    </tr>\n",
       "    <tr>\n",
       "      <th>4</th>\n",
       "      <td>C5</td>\n",
       "      <td>Middle_age</td>\n",
       "      <td>admin.</td>\n",
       "      <td>married</td>\n",
       "      <td>university.degree</td>\n",
       "      <td>no</td>\n",
       "      <td>yes</td>\n",
       "      <td>no</td>\n",
       "      <td>cellular</td>\n",
       "      <td>nov</td>\n",
       "      <td>...</td>\n",
       "      <td>less than 12</td>\n",
       "      <td>more than 2yrs</td>\n",
       "      <td>minimal</td>\n",
       "      <td>nonexistent</td>\n",
       "      <td>3</td>\n",
       "      <td>1</td>\n",
       "      <td>2</td>\n",
       "      <td>5</td>\n",
       "      <td>5</td>\n",
       "      <td>no</td>\n",
       "    </tr>\n",
       "    <tr>\n",
       "      <th>...</th>\n",
       "      <td>...</td>\n",
       "      <td>...</td>\n",
       "      <td>...</td>\n",
       "      <td>...</td>\n",
       "      <td>...</td>\n",
       "      <td>...</td>\n",
       "      <td>...</td>\n",
       "      <td>...</td>\n",
       "      <td>...</td>\n",
       "      <td>...</td>\n",
       "      <td>...</td>\n",
       "      <td>...</td>\n",
       "      <td>...</td>\n",
       "      <td>...</td>\n",
       "      <td>...</td>\n",
       "      <td>...</td>\n",
       "      <td>...</td>\n",
       "      <td>...</td>\n",
       "      <td>...</td>\n",
       "      <td>...</td>\n",
       "      <td>...</td>\n",
       "    </tr>\n",
       "    <tr>\n",
       "      <th>4114</th>\n",
       "      <td>C4115</td>\n",
       "      <td>Young_age</td>\n",
       "      <td>admin.</td>\n",
       "      <td>married</td>\n",
       "      <td>basic.6y</td>\n",
       "      <td>no</td>\n",
       "      <td>yes</td>\n",
       "      <td>yes</td>\n",
       "      <td>cellular</td>\n",
       "      <td>jul</td>\n",
       "      <td>...</td>\n",
       "      <td>less than 12</td>\n",
       "      <td>more than 2yrs</td>\n",
       "      <td>minimal</td>\n",
       "      <td>nonexistent</td>\n",
       "      <td>3</td>\n",
       "      <td>2</td>\n",
       "      <td>2</td>\n",
       "      <td>5</td>\n",
       "      <td>5</td>\n",
       "      <td>no</td>\n",
       "    </tr>\n",
       "    <tr>\n",
       "      <th>4115</th>\n",
       "      <td>C4116</td>\n",
       "      <td>Middle_age</td>\n",
       "      <td>admin.</td>\n",
       "      <td>married</td>\n",
       "      <td>high.school</td>\n",
       "      <td>no</td>\n",
       "      <td>yes</td>\n",
       "      <td>no</td>\n",
       "      <td>telephone</td>\n",
       "      <td>jul</td>\n",
       "      <td>...</td>\n",
       "      <td>less than 12</td>\n",
       "      <td>more than 2yrs</td>\n",
       "      <td>minimal</td>\n",
       "      <td>nonexistent</td>\n",
       "      <td>3</td>\n",
       "      <td>2</td>\n",
       "      <td>2</td>\n",
       "      <td>5</td>\n",
       "      <td>5</td>\n",
       "      <td>no</td>\n",
       "    </tr>\n",
       "    <tr>\n",
       "      <th>4116</th>\n",
       "      <td>C4117</td>\n",
       "      <td>Young_age</td>\n",
       "      <td>student</td>\n",
       "      <td>single</td>\n",
       "      <td>high.school</td>\n",
       "      <td>no</td>\n",
       "      <td>no</td>\n",
       "      <td>no</td>\n",
       "      <td>cellular</td>\n",
       "      <td>may</td>\n",
       "      <td>...</td>\n",
       "      <td>less than 12</td>\n",
       "      <td>more than 2yrs</td>\n",
       "      <td>minimal</td>\n",
       "      <td>failure</td>\n",
       "      <td>1</td>\n",
       "      <td>1</td>\n",
       "      <td>1</td>\n",
       "      <td>1</td>\n",
       "      <td>3</td>\n",
       "      <td>no</td>\n",
       "    </tr>\n",
       "    <tr>\n",
       "      <th>4117</th>\n",
       "      <td>C4118</td>\n",
       "      <td>Old_age</td>\n",
       "      <td>admin.</td>\n",
       "      <td>married</td>\n",
       "      <td>high.school</td>\n",
       "      <td>no</td>\n",
       "      <td>no</td>\n",
       "      <td>no</td>\n",
       "      <td>cellular</td>\n",
       "      <td>aug</td>\n",
       "      <td>...</td>\n",
       "      <td>less than 12</td>\n",
       "      <td>more than 2yrs</td>\n",
       "      <td>minimal</td>\n",
       "      <td>nonexistent</td>\n",
       "      <td>3</td>\n",
       "      <td>1</td>\n",
       "      <td>3</td>\n",
       "      <td>5</td>\n",
       "      <td>5</td>\n",
       "      <td>no</td>\n",
       "    </tr>\n",
       "    <tr>\n",
       "      <th>4118</th>\n",
       "      <td>C4119</td>\n",
       "      <td>Young_age</td>\n",
       "      <td>management</td>\n",
       "      <td>single</td>\n",
       "      <td>high.school</td>\n",
       "      <td>no</td>\n",
       "      <td>yes</td>\n",
       "      <td>no</td>\n",
       "      <td>cellular</td>\n",
       "      <td>nov</td>\n",
       "      <td>...</td>\n",
       "      <td>less than 12</td>\n",
       "      <td>more than 2yrs</td>\n",
       "      <td>minimal</td>\n",
       "      <td>nonexistent</td>\n",
       "      <td>3</td>\n",
       "      <td>1</td>\n",
       "      <td>2</td>\n",
       "      <td>4</td>\n",
       "      <td>5</td>\n",
       "      <td>no</td>\n",
       "    </tr>\n",
       "  </tbody>\n",
       "</table>\n",
       "<p>4119 rows × 22 columns</p>\n",
       "</div>"
      ],
      "text/plain": [
       "         ID         age          job  marital          education default  \\\n",
       "0        C1   Young_age  blue-collar  married           basic.9y      no   \n",
       "1        C2  Middle_age     services   single        high.school      no   \n",
       "2        C3   Young_age     services  married        high.school      no   \n",
       "3        C4  Middle_age     services  married           basic.9y      no   \n",
       "4        C5  Middle_age       admin.  married  university.degree      no   \n",
       "...     ...         ...          ...      ...                ...     ...   \n",
       "4114  C4115   Young_age       admin.  married           basic.6y      no   \n",
       "4115  C4116  Middle_age       admin.  married        high.school      no   \n",
       "4116  C4117   Young_age      student   single        high.school      no   \n",
       "4117  C4118     Old_age       admin.  married        high.school      no   \n",
       "4118  C4119   Young_age   management   single        high.school      no   \n",
       "\n",
       "      housing     loan    contact month  ...      campaign           pdays  \\\n",
       "0         yes       no   cellular   may  ...  less than 12  more than 2yrs   \n",
       "1          no       no  telephone   may  ...  less than 12  more than 2yrs   \n",
       "2         yes       no  telephone   jun  ...  less than 12  more than 2yrs   \n",
       "3     unknown  unknown  telephone   jun  ...  less than 12  more than 2yrs   \n",
       "4         yes       no   cellular   nov  ...  less than 12  more than 2yrs   \n",
       "...       ...      ...        ...   ...  ...           ...             ...   \n",
       "4114      yes      yes   cellular   jul  ...  less than 12  more than 2yrs   \n",
       "4115      yes       no  telephone   jul  ...  less than 12  more than 2yrs   \n",
       "4116       no       no   cellular   may  ...  less than 12  more than 2yrs   \n",
       "4117       no       no   cellular   aug  ...  less than 12  more than 2yrs   \n",
       "4118      yes       no   cellular   nov  ...  less than 12  more than 2yrs   \n",
       "\n",
       "     previous     poutcome emp.var.rate cons.price.idx cons.conf.idx  \\\n",
       "0     minimal  nonexistent            1              1             1   \n",
       "1     minimal  nonexistent            3              2             3   \n",
       "2     minimal  nonexistent            3              2             2   \n",
       "3     minimal  nonexistent            3              2             2   \n",
       "4     minimal  nonexistent            3              1             2   \n",
       "...       ...          ...          ...            ...           ...   \n",
       "4114  minimal  nonexistent            3              2             2   \n",
       "4115  minimal  nonexistent            3              2             2   \n",
       "4116  minimal      failure            1              1             1   \n",
       "4117  minimal  nonexistent            3              1             3   \n",
       "4118  minimal  nonexistent            3              1             2   \n",
       "\n",
       "     euribor3m nr.employed approved  \n",
       "0            1           3       no  \n",
       "1            5           5       no  \n",
       "2            5           5       no  \n",
       "3            5           5       no  \n",
       "4            5           5       no  \n",
       "...        ...         ...      ...  \n",
       "4114         5           5       no  \n",
       "4115         5           5       no  \n",
       "4116         1           3       no  \n",
       "4117         5           5       no  \n",
       "4118         4           5       no  \n",
       "\n",
       "[4119 rows x 22 columns]"
      ]
     },
     "execution_count": 47,
     "metadata": {},
     "output_type": "execute_result"
    }
   ],
   "source": [
    "data"
   ]
  },
  {
   "cell_type": "markdown",
   "id": "d6312fbb",
   "metadata": {},
   "source": [
    "#### Dropping null values"
   ]
  },
  {
   "cell_type": "code",
   "execution_count": 48,
   "id": "6bb51d4d",
   "metadata": {},
   "outputs": [
    {
     "data": {
      "text/plain": [
       "ID                0\n",
       "age               0\n",
       "job               0\n",
       "marital           0\n",
       "education         0\n",
       "default           0\n",
       "housing           0\n",
       "loan              0\n",
       "contact           0\n",
       "month             0\n",
       "day_of_week       0\n",
       "duration          1\n",
       "campaign          0\n",
       "pdays             2\n",
       "previous          0\n",
       "poutcome          0\n",
       "emp.var.rate      0\n",
       "cons.price.idx    0\n",
       "cons.conf.idx     0\n",
       "euribor3m         0\n",
       "nr.employed       0\n",
       "approved          0\n",
       "dtype: int64"
      ]
     },
     "execution_count": 48,
     "metadata": {},
     "output_type": "execute_result"
    }
   ],
   "source": [
    "data.isnull().sum()"
   ]
  },
  {
   "cell_type": "code",
   "execution_count": 49,
   "id": "044b62dc",
   "metadata": {},
   "outputs": [],
   "source": [
    "data.dropna(inplace=True)"
   ]
  },
  {
   "cell_type": "code",
   "execution_count": 50,
   "id": "9a510c0a",
   "metadata": {},
   "outputs": [
    {
     "data": {
      "text/plain": [
       "ID                0\n",
       "age               0\n",
       "job               0\n",
       "marital           0\n",
       "education         0\n",
       "default           0\n",
       "housing           0\n",
       "loan              0\n",
       "contact           0\n",
       "month             0\n",
       "day_of_week       0\n",
       "duration          0\n",
       "campaign          0\n",
       "pdays             0\n",
       "previous          0\n",
       "poutcome          0\n",
       "emp.var.rate      0\n",
       "cons.price.idx    0\n",
       "cons.conf.idx     0\n",
       "euribor3m         0\n",
       "nr.employed       0\n",
       "approved          0\n",
       "dtype: int64"
      ]
     },
     "execution_count": 50,
     "metadata": {},
     "output_type": "execute_result"
    }
   ],
   "source": [
    "data.isnull().sum()"
   ]
  },
  {
   "cell_type": "code",
   "execution_count": 51,
   "id": "92040210",
   "metadata": {},
   "outputs": [
    {
     "data": {
      "text/plain": [
       "(4116, 22)"
      ]
     },
     "execution_count": 51,
     "metadata": {},
     "output_type": "execute_result"
    }
   ],
   "source": [
    "data.shape"
   ]
  },
  {
   "cell_type": "code",
   "execution_count": 52,
   "id": "4bbd9fca",
   "metadata": {},
   "outputs": [
    {
     "data": {
      "text/plain": [
       "ID                  object\n",
       "age               category\n",
       "job                 object\n",
       "marital             object\n",
       "education           object\n",
       "default             object\n",
       "housing             object\n",
       "loan                object\n",
       "contact             object\n",
       "month               object\n",
       "day_of_week         object\n",
       "duration          category\n",
       "campaign          category\n",
       "pdays             category\n",
       "previous          category\n",
       "poutcome            object\n",
       "emp.var.rate      category\n",
       "cons.price.idx    category\n",
       "cons.conf.idx     category\n",
       "euribor3m         category\n",
       "nr.employed       category\n",
       "approved            object\n",
       "dtype: object"
      ]
     },
     "execution_count": 52,
     "metadata": {},
     "output_type": "execute_result"
    }
   ],
   "source": [
    "data.dtypes"
   ]
  },
  {
   "cell_type": "markdown",
   "id": "439f030b",
   "metadata": {},
   "source": [
    "#### Dropping the ID column"
   ]
  },
  {
   "cell_type": "code",
   "execution_count": 55,
   "id": "a4675e7f",
   "metadata": {},
   "outputs": [
    {
     "name": "stderr",
     "output_type": "stream",
     "text": [
      "C:\\Users\\Shruthi\\AppData\\Local\\Temp\\ipykernel_25580\\1215692932.py:1: FutureWarning: In a future version of pandas all arguments of DataFrame.drop except for the argument 'labels' will be keyword-only.\n",
      "  data=data.drop('ID',1)\n"
     ]
    }
   ],
   "source": [
    "data=data.drop('ID',1)"
   ]
  },
  {
   "cell_type": "markdown",
   "id": "7aa35d8a",
   "metadata": {},
   "source": [
    "#### One-Hot-Encoding function for converting categorical attributes to numerical attributes excluding target attribute"
   ]
  },
  {
   "cell_type": "code",
   "execution_count": 58,
   "id": "5a0df4b2",
   "metadata": {},
   "outputs": [],
   "source": [
    "def ohe(data,cat_cols):\n",
    "    for column in cat_cols:\n",
    "        for i in data[f'{column}'].unique():\n",
    "            data[f'{column}_{i}']=np.where(data[f'{column}']==i,1,0)\n",
    "        data=data.drop(column,1)\n",
    "    return data"
   ]
  },
  {
   "cell_type": "code",
   "execution_count": 59,
   "id": "bf82b640",
   "metadata": {},
   "outputs": [
    {
     "data": {
      "text/plain": [
       "Index(['age', 'job', 'marital', 'education', 'default', 'housing', 'loan',\n",
       "       'contact', 'month', 'day_of_week', 'duration', 'campaign', 'pdays',\n",
       "       'previous', 'poutcome', 'emp.var.rate', 'cons.price.idx',\n",
       "       'cons.conf.idx', 'euribor3m', 'nr.employed', 'approved'],\n",
       "      dtype='object')"
      ]
     },
     "execution_count": 59,
     "metadata": {},
     "output_type": "execute_result"
    }
   ],
   "source": [
    "data.columns"
   ]
  },
  {
   "cell_type": "code",
   "execution_count": 60,
   "id": "c0f04b30",
   "metadata": {},
   "outputs": [],
   "source": [
    "cat_cols=['age', 'job', 'marital', 'education', 'default', 'housing', 'loan',\n",
    "       'contact', 'month', 'day_of_week', 'duration', 'campaign', 'pdays',\n",
    "       'previous', 'poutcome', 'emp.var.rate', 'cons.price.idx',\n",
    "       'cons.conf.idx', 'euribor3m', 'nr.employed']"
   ]
  },
  {
   "cell_type": "code",
   "execution_count": 61,
   "id": "a9d1379e",
   "metadata": {},
   "outputs": [
    {
     "name": "stderr",
     "output_type": "stream",
     "text": [
      "C:\\Users\\Shruthi\\AppData\\Local\\Temp\\ipykernel_25580\\1559659262.py:5: FutureWarning: In a future version of pandas all arguments of DataFrame.drop except for the argument 'labels' will be keyword-only.\n",
      "  data=data.drop(column,1)\n",
      "C:\\Users\\Shruthi\\AppData\\Local\\Temp\\ipykernel_25580\\1559659262.py:5: FutureWarning: In a future version of pandas all arguments of DataFrame.drop except for the argument 'labels' will be keyword-only.\n",
      "  data=data.drop(column,1)\n",
      "C:\\Users\\Shruthi\\AppData\\Local\\Temp\\ipykernel_25580\\1559659262.py:5: FutureWarning: In a future version of pandas all arguments of DataFrame.drop except for the argument 'labels' will be keyword-only.\n",
      "  data=data.drop(column,1)\n",
      "C:\\Users\\Shruthi\\AppData\\Local\\Temp\\ipykernel_25580\\1559659262.py:5: FutureWarning: In a future version of pandas all arguments of DataFrame.drop except for the argument 'labels' will be keyword-only.\n",
      "  data=data.drop(column,1)\n",
      "C:\\Users\\Shruthi\\AppData\\Local\\Temp\\ipykernel_25580\\1559659262.py:5: FutureWarning: In a future version of pandas all arguments of DataFrame.drop except for the argument 'labels' will be keyword-only.\n",
      "  data=data.drop(column,1)\n",
      "C:\\Users\\Shruthi\\AppData\\Local\\Temp\\ipykernel_25580\\1559659262.py:5: FutureWarning: In a future version of pandas all arguments of DataFrame.drop except for the argument 'labels' will be keyword-only.\n",
      "  data=data.drop(column,1)\n",
      "C:\\Users\\Shruthi\\AppData\\Local\\Temp\\ipykernel_25580\\1559659262.py:5: FutureWarning: In a future version of pandas all arguments of DataFrame.drop except for the argument 'labels' will be keyword-only.\n",
      "  data=data.drop(column,1)\n",
      "C:\\Users\\Shruthi\\AppData\\Local\\Temp\\ipykernel_25580\\1559659262.py:5: FutureWarning: In a future version of pandas all arguments of DataFrame.drop except for the argument 'labels' will be keyword-only.\n",
      "  data=data.drop(column,1)\n",
      "C:\\Users\\Shruthi\\AppData\\Local\\Temp\\ipykernel_25580\\1559659262.py:5: FutureWarning: In a future version of pandas all arguments of DataFrame.drop except for the argument 'labels' will be keyword-only.\n",
      "  data=data.drop(column,1)\n",
      "C:\\Users\\Shruthi\\AppData\\Local\\Temp\\ipykernel_25580\\1559659262.py:5: FutureWarning: In a future version of pandas all arguments of DataFrame.drop except for the argument 'labels' will be keyword-only.\n",
      "  data=data.drop(column,1)\n",
      "C:\\Users\\Shruthi\\AppData\\Local\\Temp\\ipykernel_25580\\1559659262.py:5: FutureWarning: In a future version of pandas all arguments of DataFrame.drop except for the argument 'labels' will be keyword-only.\n",
      "  data=data.drop(column,1)\n",
      "C:\\Users\\Shruthi\\AppData\\Local\\Temp\\ipykernel_25580\\1559659262.py:5: FutureWarning: In a future version of pandas all arguments of DataFrame.drop except for the argument 'labels' will be keyword-only.\n",
      "  data=data.drop(column,1)\n",
      "C:\\Users\\Shruthi\\AppData\\Local\\Temp\\ipykernel_25580\\1559659262.py:5: FutureWarning: In a future version of pandas all arguments of DataFrame.drop except for the argument 'labels' will be keyword-only.\n",
      "  data=data.drop(column,1)\n",
      "C:\\Users\\Shruthi\\AppData\\Local\\Temp\\ipykernel_25580\\1559659262.py:5: FutureWarning: In a future version of pandas all arguments of DataFrame.drop except for the argument 'labels' will be keyword-only.\n",
      "  data=data.drop(column,1)\n",
      "C:\\Users\\Shruthi\\AppData\\Local\\Temp\\ipykernel_25580\\1559659262.py:5: FutureWarning: In a future version of pandas all arguments of DataFrame.drop except for the argument 'labels' will be keyword-only.\n",
      "  data=data.drop(column,1)\n",
      "C:\\Users\\Shruthi\\AppData\\Local\\Temp\\ipykernel_25580\\1559659262.py:5: FutureWarning: In a future version of pandas all arguments of DataFrame.drop except for the argument 'labels' will be keyword-only.\n",
      "  data=data.drop(column,1)\n",
      "C:\\Users\\Shruthi\\AppData\\Local\\Temp\\ipykernel_25580\\1559659262.py:5: FutureWarning: In a future version of pandas all arguments of DataFrame.drop except for the argument 'labels' will be keyword-only.\n",
      "  data=data.drop(column,1)\n",
      "C:\\Users\\Shruthi\\AppData\\Local\\Temp\\ipykernel_25580\\1559659262.py:5: FutureWarning: In a future version of pandas all arguments of DataFrame.drop except for the argument 'labels' will be keyword-only.\n",
      "  data=data.drop(column,1)\n",
      "C:\\Users\\Shruthi\\AppData\\Local\\Temp\\ipykernel_25580\\1559659262.py:5: FutureWarning: In a future version of pandas all arguments of DataFrame.drop except for the argument 'labels' will be keyword-only.\n",
      "  data=data.drop(column,1)\n",
      "C:\\Users\\Shruthi\\AppData\\Local\\Temp\\ipykernel_25580\\1559659262.py:5: FutureWarning: In a future version of pandas all arguments of DataFrame.drop except for the argument 'labels' will be keyword-only.\n",
      "  data=data.drop(column,1)\n"
     ]
    }
   ],
   "source": [
    "data=ohe(data,cat_cols)"
   ]
  },
  {
   "cell_type": "markdown",
   "id": "cbd68112",
   "metadata": {},
   "source": [
    "#### Label Encoding function for target attribute"
   ]
  },
  {
   "cell_type": "code",
   "execution_count": 62,
   "id": "69fab77f",
   "metadata": {},
   "outputs": [],
   "source": [
    "data[\"approved\"]=np.where(data[\"approved\"]=='yes',1,0)"
   ]
  },
  {
   "cell_type": "code",
   "execution_count": 63,
   "id": "a50f7b6d",
   "metadata": {},
   "outputs": [
    {
     "data": {
      "text/html": [
       "<div>\n",
       "<style scoped>\n",
       "    .dataframe tbody tr th:only-of-type {\n",
       "        vertical-align: middle;\n",
       "    }\n",
       "\n",
       "    .dataframe tbody tr th {\n",
       "        vertical-align: top;\n",
       "    }\n",
       "\n",
       "    .dataframe thead th {\n",
       "        text-align: right;\n",
       "    }\n",
       "</style>\n",
       "<table border=\"1\" class=\"dataframe\">\n",
       "  <thead>\n",
       "    <tr style=\"text-align: right;\">\n",
       "      <th></th>\n",
       "      <th>approved</th>\n",
       "      <th>age_Young_age</th>\n",
       "      <th>age_Middle_age</th>\n",
       "      <th>age_Old_age</th>\n",
       "      <th>age_Very Old</th>\n",
       "      <th>job_blue-collar</th>\n",
       "      <th>job_services</th>\n",
       "      <th>job_admin.</th>\n",
       "      <th>job_entrepreneur</th>\n",
       "      <th>job_self-employed</th>\n",
       "      <th>...</th>\n",
       "      <th>cons.conf.idx_2</th>\n",
       "      <th>cons.conf.idx_4</th>\n",
       "      <th>euribor3m_1</th>\n",
       "      <th>euribor3m_5</th>\n",
       "      <th>euribor3m_4</th>\n",
       "      <th>euribor3m_2</th>\n",
       "      <th>nr.employed_3</th>\n",
       "      <th>nr.employed_5</th>\n",
       "      <th>nr.employed_1</th>\n",
       "      <th>nr.employed_2</th>\n",
       "    </tr>\n",
       "  </thead>\n",
       "  <tbody>\n",
       "    <tr>\n",
       "      <th>0</th>\n",
       "      <td>0</td>\n",
       "      <td>1</td>\n",
       "      <td>0</td>\n",
       "      <td>0</td>\n",
       "      <td>0</td>\n",
       "      <td>1</td>\n",
       "      <td>0</td>\n",
       "      <td>0</td>\n",
       "      <td>0</td>\n",
       "      <td>0</td>\n",
       "      <td>...</td>\n",
       "      <td>0</td>\n",
       "      <td>0</td>\n",
       "      <td>1</td>\n",
       "      <td>0</td>\n",
       "      <td>0</td>\n",
       "      <td>0</td>\n",
       "      <td>1</td>\n",
       "      <td>0</td>\n",
       "      <td>0</td>\n",
       "      <td>0</td>\n",
       "    </tr>\n",
       "    <tr>\n",
       "      <th>1</th>\n",
       "      <td>0</td>\n",
       "      <td>0</td>\n",
       "      <td>1</td>\n",
       "      <td>0</td>\n",
       "      <td>0</td>\n",
       "      <td>0</td>\n",
       "      <td>1</td>\n",
       "      <td>0</td>\n",
       "      <td>0</td>\n",
       "      <td>0</td>\n",
       "      <td>...</td>\n",
       "      <td>0</td>\n",
       "      <td>0</td>\n",
       "      <td>0</td>\n",
       "      <td>1</td>\n",
       "      <td>0</td>\n",
       "      <td>0</td>\n",
       "      <td>0</td>\n",
       "      <td>1</td>\n",
       "      <td>0</td>\n",
       "      <td>0</td>\n",
       "    </tr>\n",
       "    <tr>\n",
       "      <th>2</th>\n",
       "      <td>0</td>\n",
       "      <td>1</td>\n",
       "      <td>0</td>\n",
       "      <td>0</td>\n",
       "      <td>0</td>\n",
       "      <td>0</td>\n",
       "      <td>1</td>\n",
       "      <td>0</td>\n",
       "      <td>0</td>\n",
       "      <td>0</td>\n",
       "      <td>...</td>\n",
       "      <td>1</td>\n",
       "      <td>0</td>\n",
       "      <td>0</td>\n",
       "      <td>1</td>\n",
       "      <td>0</td>\n",
       "      <td>0</td>\n",
       "      <td>0</td>\n",
       "      <td>1</td>\n",
       "      <td>0</td>\n",
       "      <td>0</td>\n",
       "    </tr>\n",
       "    <tr>\n",
       "      <th>3</th>\n",
       "      <td>0</td>\n",
       "      <td>0</td>\n",
       "      <td>1</td>\n",
       "      <td>0</td>\n",
       "      <td>0</td>\n",
       "      <td>0</td>\n",
       "      <td>1</td>\n",
       "      <td>0</td>\n",
       "      <td>0</td>\n",
       "      <td>0</td>\n",
       "      <td>...</td>\n",
       "      <td>1</td>\n",
       "      <td>0</td>\n",
       "      <td>0</td>\n",
       "      <td>1</td>\n",
       "      <td>0</td>\n",
       "      <td>0</td>\n",
       "      <td>0</td>\n",
       "      <td>1</td>\n",
       "      <td>0</td>\n",
       "      <td>0</td>\n",
       "    </tr>\n",
       "    <tr>\n",
       "      <th>4</th>\n",
       "      <td>0</td>\n",
       "      <td>0</td>\n",
       "      <td>1</td>\n",
       "      <td>0</td>\n",
       "      <td>0</td>\n",
       "      <td>0</td>\n",
       "      <td>0</td>\n",
       "      <td>1</td>\n",
       "      <td>0</td>\n",
       "      <td>0</td>\n",
       "      <td>...</td>\n",
       "      <td>1</td>\n",
       "      <td>0</td>\n",
       "      <td>0</td>\n",
       "      <td>1</td>\n",
       "      <td>0</td>\n",
       "      <td>0</td>\n",
       "      <td>0</td>\n",
       "      <td>1</td>\n",
       "      <td>0</td>\n",
       "      <td>0</td>\n",
       "    </tr>\n",
       "    <tr>\n",
       "      <th>...</th>\n",
       "      <td>...</td>\n",
       "      <td>...</td>\n",
       "      <td>...</td>\n",
       "      <td>...</td>\n",
       "      <td>...</td>\n",
       "      <td>...</td>\n",
       "      <td>...</td>\n",
       "      <td>...</td>\n",
       "      <td>...</td>\n",
       "      <td>...</td>\n",
       "      <td>...</td>\n",
       "      <td>...</td>\n",
       "      <td>...</td>\n",
       "      <td>...</td>\n",
       "      <td>...</td>\n",
       "      <td>...</td>\n",
       "      <td>...</td>\n",
       "      <td>...</td>\n",
       "      <td>...</td>\n",
       "      <td>...</td>\n",
       "      <td>...</td>\n",
       "    </tr>\n",
       "    <tr>\n",
       "      <th>4114</th>\n",
       "      <td>0</td>\n",
       "      <td>1</td>\n",
       "      <td>0</td>\n",
       "      <td>0</td>\n",
       "      <td>0</td>\n",
       "      <td>0</td>\n",
       "      <td>0</td>\n",
       "      <td>1</td>\n",
       "      <td>0</td>\n",
       "      <td>0</td>\n",
       "      <td>...</td>\n",
       "      <td>1</td>\n",
       "      <td>0</td>\n",
       "      <td>0</td>\n",
       "      <td>1</td>\n",
       "      <td>0</td>\n",
       "      <td>0</td>\n",
       "      <td>0</td>\n",
       "      <td>1</td>\n",
       "      <td>0</td>\n",
       "      <td>0</td>\n",
       "    </tr>\n",
       "    <tr>\n",
       "      <th>4115</th>\n",
       "      <td>0</td>\n",
       "      <td>0</td>\n",
       "      <td>1</td>\n",
       "      <td>0</td>\n",
       "      <td>0</td>\n",
       "      <td>0</td>\n",
       "      <td>0</td>\n",
       "      <td>1</td>\n",
       "      <td>0</td>\n",
       "      <td>0</td>\n",
       "      <td>...</td>\n",
       "      <td>1</td>\n",
       "      <td>0</td>\n",
       "      <td>0</td>\n",
       "      <td>1</td>\n",
       "      <td>0</td>\n",
       "      <td>0</td>\n",
       "      <td>0</td>\n",
       "      <td>1</td>\n",
       "      <td>0</td>\n",
       "      <td>0</td>\n",
       "    </tr>\n",
       "    <tr>\n",
       "      <th>4116</th>\n",
       "      <td>0</td>\n",
       "      <td>1</td>\n",
       "      <td>0</td>\n",
       "      <td>0</td>\n",
       "      <td>0</td>\n",
       "      <td>0</td>\n",
       "      <td>0</td>\n",
       "      <td>0</td>\n",
       "      <td>0</td>\n",
       "      <td>0</td>\n",
       "      <td>...</td>\n",
       "      <td>0</td>\n",
       "      <td>0</td>\n",
       "      <td>1</td>\n",
       "      <td>0</td>\n",
       "      <td>0</td>\n",
       "      <td>0</td>\n",
       "      <td>1</td>\n",
       "      <td>0</td>\n",
       "      <td>0</td>\n",
       "      <td>0</td>\n",
       "    </tr>\n",
       "    <tr>\n",
       "      <th>4117</th>\n",
       "      <td>0</td>\n",
       "      <td>0</td>\n",
       "      <td>0</td>\n",
       "      <td>1</td>\n",
       "      <td>0</td>\n",
       "      <td>0</td>\n",
       "      <td>0</td>\n",
       "      <td>1</td>\n",
       "      <td>0</td>\n",
       "      <td>0</td>\n",
       "      <td>...</td>\n",
       "      <td>0</td>\n",
       "      <td>0</td>\n",
       "      <td>0</td>\n",
       "      <td>1</td>\n",
       "      <td>0</td>\n",
       "      <td>0</td>\n",
       "      <td>0</td>\n",
       "      <td>1</td>\n",
       "      <td>0</td>\n",
       "      <td>0</td>\n",
       "    </tr>\n",
       "    <tr>\n",
       "      <th>4118</th>\n",
       "      <td>0</td>\n",
       "      <td>1</td>\n",
       "      <td>0</td>\n",
       "      <td>0</td>\n",
       "      <td>0</td>\n",
       "      <td>0</td>\n",
       "      <td>0</td>\n",
       "      <td>0</td>\n",
       "      <td>0</td>\n",
       "      <td>0</td>\n",
       "      <td>...</td>\n",
       "      <td>1</td>\n",
       "      <td>0</td>\n",
       "      <td>0</td>\n",
       "      <td>0</td>\n",
       "      <td>1</td>\n",
       "      <td>0</td>\n",
       "      <td>0</td>\n",
       "      <td>1</td>\n",
       "      <td>0</td>\n",
       "      <td>0</td>\n",
       "    </tr>\n",
       "  </tbody>\n",
       "</table>\n",
       "<p>4116 rows × 88 columns</p>\n",
       "</div>"
      ],
      "text/plain": [
       "      approved  age_Young_age  age_Middle_age  age_Old_age  age_Very Old  \\\n",
       "0            0              1               0            0             0   \n",
       "1            0              0               1            0             0   \n",
       "2            0              1               0            0             0   \n",
       "3            0              0               1            0             0   \n",
       "4            0              0               1            0             0   \n",
       "...        ...            ...             ...          ...           ...   \n",
       "4114         0              1               0            0             0   \n",
       "4115         0              0               1            0             0   \n",
       "4116         0              1               0            0             0   \n",
       "4117         0              0               0            1             0   \n",
       "4118         0              1               0            0             0   \n",
       "\n",
       "      job_blue-collar  job_services  job_admin.  job_entrepreneur  \\\n",
       "0                   1             0           0                 0   \n",
       "1                   0             1           0                 0   \n",
       "2                   0             1           0                 0   \n",
       "3                   0             1           0                 0   \n",
       "4                   0             0           1                 0   \n",
       "...               ...           ...         ...               ...   \n",
       "4114                0             0           1                 0   \n",
       "4115                0             0           1                 0   \n",
       "4116                0             0           0                 0   \n",
       "4117                0             0           1                 0   \n",
       "4118                0             0           0                 0   \n",
       "\n",
       "      job_self-employed  ...  cons.conf.idx_2  cons.conf.idx_4  euribor3m_1  \\\n",
       "0                     0  ...                0                0            1   \n",
       "1                     0  ...                0                0            0   \n",
       "2                     0  ...                1                0            0   \n",
       "3                     0  ...                1                0            0   \n",
       "4                     0  ...                1                0            0   \n",
       "...                 ...  ...              ...              ...          ...   \n",
       "4114                  0  ...                1                0            0   \n",
       "4115                  0  ...                1                0            0   \n",
       "4116                  0  ...                0                0            1   \n",
       "4117                  0  ...                0                0            0   \n",
       "4118                  0  ...                1                0            0   \n",
       "\n",
       "      euribor3m_5  euribor3m_4  euribor3m_2  nr.employed_3  nr.employed_5  \\\n",
       "0               0            0            0              1              0   \n",
       "1               1            0            0              0              1   \n",
       "2               1            0            0              0              1   \n",
       "3               1            0            0              0              1   \n",
       "4               1            0            0              0              1   \n",
       "...           ...          ...          ...            ...            ...   \n",
       "4114            1            0            0              0              1   \n",
       "4115            1            0            0              0              1   \n",
       "4116            0            0            0              1              0   \n",
       "4117            1            0            0              0              1   \n",
       "4118            0            1            0              0              1   \n",
       "\n",
       "      nr.employed_1  nr.employed_2  \n",
       "0                 0              0  \n",
       "1                 0              0  \n",
       "2                 0              0  \n",
       "3                 0              0  \n",
       "4                 0              0  \n",
       "...             ...            ...  \n",
       "4114              0              0  \n",
       "4115              0              0  \n",
       "4116              0              0  \n",
       "4117              0              0  \n",
       "4118              0              0  \n",
       "\n",
       "[4116 rows x 88 columns]"
      ]
     },
     "execution_count": 63,
     "metadata": {},
     "output_type": "execute_result"
    }
   ],
   "source": [
    "data"
   ]
  },
  {
   "cell_type": "code",
   "execution_count": 64,
   "id": "73809eea",
   "metadata": {},
   "outputs": [
    {
     "data": {
      "text/plain": [
       "(4116, 88)"
      ]
     },
     "execution_count": 64,
     "metadata": {},
     "output_type": "execute_result"
    }
   ],
   "source": [
    "data.shape"
   ]
  },
  {
   "cell_type": "markdown",
   "id": "03420033",
   "metadata": {},
   "source": [
    "#### Train Test Splitting"
   ]
  },
  {
   "cell_type": "code",
   "execution_count": 65,
   "id": "b485eb66",
   "metadata": {},
   "outputs": [
    {
     "name": "stderr",
     "output_type": "stream",
     "text": [
      "C:\\Users\\Shruthi\\AppData\\Local\\Temp\\ipykernel_25580\\1533897084.py:2: FutureWarning: In a future version of pandas all arguments of DataFrame.drop except for the argument 'labels' will be keyword-only.\n",
      "  X=data.drop('approved',1)\n"
     ]
    }
   ],
   "source": [
    "from sklearn.model_selection import train_test_split\n",
    "X=data.drop('approved',1)\n",
    "y=data['approved']\n",
    "X_train, X_test,y_train, y_test = train_test_split(X,y ,random_state=104,test_size=0.3,shuffle=True)"
   ]
  },
  {
   "cell_type": "code",
   "execution_count": 66,
   "id": "ec30a964",
   "metadata": {},
   "outputs": [
    {
     "name": "stdout",
     "output_type": "stream",
     "text": [
      "(2881, 87)\n",
      "(1235, 87)\n",
      "(2881,)\n",
      "(1235,)\n"
     ]
    }
   ],
   "source": [
    "print(X_train.shape)\n",
    "print(X_test.shape)\n",
    "print(y_train.shape)\n",
    "print(y_test.shape)"
   ]
  },
  {
   "cell_type": "markdown",
   "id": "86ef55d5",
   "metadata": {},
   "source": [
    "#### Model Building function for CHAID Algorithm"
   ]
  },
  {
   "cell_type": "code",
   "execution_count": 67,
   "id": "f81a68c8",
   "metadata": {},
   "outputs": [],
   "source": [
    "from scipy.stats import chi2_contingency\n",
    "\n",
    "class decision:\n",
    "    def __init__(self, max_depth=None, alpha=0.05):\n",
    "        self.tree = {}\n",
    "        self.route = []\n",
    "        self.max_depth = max_depth\n",
    "        self.alpha = alpha\n",
    "\n",
    "    def chisquare(self, x, column1, y):\n",
    "        df = x.copy()\n",
    "        df['target'] = y\n",
    "        target = 'target'\n",
    "        ct = pd.crosstab(df[f'{column1}'], df['target'])\n",
    "        chi2, p, dof, expected = chi2_contingency(ct)\n",
    "        return p\n",
    "\n",
    "    def best_feature(self, x, y, bf=''):\n",
    "        df = x.copy()\n",
    "        df['target'] = y\n",
    "        target = 'target'\n",
    "        p_values = {}\n",
    "        listofcolumns = list(df.columns)\n",
    "        listofcolumns.remove(target)\n",
    "        if bf not in listofcolumns:\n",
    "            listofcolumns = listofcolumns\n",
    "        elif bf in listofcolumns:\n",
    "            listofcolumns.remove(bf)\n",
    "        for i in listofcolumns:\n",
    "            p = self.chisquare(x, i, y)\n",
    "            if p <= self.alpha:\n",
    "                p_values[i] = p\n",
    "        if not p_values:\n",
    "            return None\n",
    "        feature = pd.DataFrame(p_values, index=['p_value']).T\n",
    "        return feature['p_value'].idxmin()\n",
    "\n",
    "    def hypothesis_testing(self, x, y, bf):\n",
    "        df = x.copy()\n",
    "        df['target'] = y\n",
    "        target = 'target'\n",
    "        ct = pd.crosstab(df[f'{bf}'], df['target'])\n",
    "        chi2, p, dof, expected = chi2_contingency(ct)\n",
    "        if p <= self.alpha:\n",
    "            return True  # reject null hypothesis\n",
    "        else:\n",
    "            return False  # fail to reject null hypothesis\n",
    "        \n",
    "    def split(self, x, y, path=None, depth=0):\n",
    "        df = x.copy()\n",
    "        df['target'] = y\n",
    "        target = 'target'\n",
    "        if path is None:\n",
    "            path = []\n",
    "        bf = self.best_feature(x, y)\n",
    "        if bf is None or (self.max_depth is not None and depth >= self.max_depth):\n",
    "            # If no best feature is found or the max depth is reached, return the majority class of the parent node\n",
    "            majority_class = df[target].mode()[0]\n",
    "            self.route.append((path, majority_class))\n",
    "            print(f\"{path} => {majority_class}\")\n",
    "            return None\n",
    "        else:\n",
    "            node = {'feature': bf, 'children': {}}\n",
    "            path.append(bf)\n",
    "            for val in df[bf].unique():\n",
    "                node['children'][val] = self.split(df[df[bf] == val].drop(columns=[bf, target]), \n",
    "                                                    df[df[bf] == val][target],\n",
    "                                                    path=path,\n",
    "                                                    depth=depth+1)\n",
    "            path.pop()\n",
    "            return node\n",
    "        \n",
    "    def predict(self, x):\n",
    "        predictions = []\n",
    "        for i, row in x.iterrows():\n",
    "            for path, decision in self.route:\n",
    "                a = 0\n",
    "                for branch in path:\n",
    "                    col, val = branch.split('->')\n",
    "                    if str(row[col]) != val:\n",
    "                        a = 1\n",
    "                        break\n",
    "                if a == 0:\n",
    "                    predictions.append(decision)\n",
    "                    break\n",
    "            else:\n",
    "                counts = {}\n",
    "                for path, decision in self.route:\n",
    "                    last_branch = path[-1]\n",
    "                    _, last_val = last_branch.split('->')\n",
    "                    if last_val not in counts:\n",
    "                        counts[last_val] = 0\n",
    "                    counts[last_val] += 1\n",
    "                mode = max(counts, key=counts.get)\n",
    "                predictions.append(mode)\n",
    "        return predictions"
   ]
  },
  {
   "cell_type": "markdown",
   "id": "ab53eaa7",
   "metadata": {},
   "source": [
    "#### The decision tree built using the model building function"
   ]
  },
  {
   "cell_type": "code",
   "execution_count": 68,
   "id": "6039f0a0",
   "metadata": {},
   "outputs": [
    {
     "name": "stdout",
     "output_type": "stream",
     "text": [
      "['pdays_more than 2yrs', 'duration_less than 15mins', 'emp.var.rate_3', 'month_oct', 'age_Middle_age', 'month_may'] => 0\n",
      "['pdays_more than 2yrs', 'duration_less than 15mins', 'emp.var.rate_3', 'month_oct', 'age_Middle_age', 'month_may'] => 0\n",
      "['pdays_more than 2yrs', 'duration_less than 15mins', 'emp.var.rate_3', 'month_oct', 'age_Middle_age', 'marital_unknown'] => 0\n",
      "['pdays_more than 2yrs', 'duration_less than 15mins', 'emp.var.rate_3', 'month_oct', 'age_Middle_age', 'marital_unknown'] => 1\n",
      "['pdays_more than 2yrs', 'duration_less than 15mins', 'emp.var.rate_3', 'month_oct'] => 1\n",
      "['pdays_more than 2yrs', 'duration_less than 15mins', 'emp.var.rate_3', 'cons.conf.idx_1', 'euribor3m_1', 'job_retired', 'emp.var.rate_1', 'job_admin.'] => 0\n",
      "['pdays_more than 2yrs', 'duration_less than 15mins', 'emp.var.rate_3', 'cons.conf.idx_1', 'euribor3m_1', 'job_retired', 'emp.var.rate_1', 'job_admin.', 'month_may'] => 0\n",
      "['pdays_more than 2yrs', 'duration_less than 15mins', 'emp.var.rate_3', 'cons.conf.idx_1', 'euribor3m_1', 'job_retired', 'emp.var.rate_1', 'job_admin.', 'month_may'] => 0\n",
      "['pdays_more than 2yrs', 'duration_less than 15mins', 'emp.var.rate_3', 'cons.conf.idx_1', 'euribor3m_1', 'job_retired', 'emp.var.rate_1'] => 0\n",
      "['pdays_more than 2yrs', 'duration_less than 15mins', 'emp.var.rate_3', 'cons.conf.idx_1', 'euribor3m_1', 'job_retired'] => 0\n",
      "['pdays_more than 2yrs', 'duration_less than 15mins', 'emp.var.rate_3', 'cons.conf.idx_1', 'euribor3m_1'] => 1\n",
      "['pdays_more than 2yrs', 'duration_less than 15mins', 'emp.var.rate_3', 'cons.conf.idx_1', 'contact_cellular', 'job_unemployed'] => 0\n",
      "['pdays_more than 2yrs', 'duration_less than 15mins', 'emp.var.rate_3', 'cons.conf.idx_1', 'contact_cellular', 'job_unemployed'] => 1\n",
      "['pdays_more than 2yrs', 'duration_less than 15mins', 'emp.var.rate_3', 'cons.conf.idx_1', 'contact_cellular'] => 0\n",
      "['pdays_more than 2yrs', 'duration_less than 15mins'] => 1\n",
      "['pdays_more than 2yrs', 'month_mar'] => 1\n",
      "['pdays_more than 2yrs', 'month_mar'] => 1\n"
     ]
    },
    {
     "data": {
      "text/plain": [
       "{'feature': 'pdays_more than 2yrs',\n",
       " 'children': {1: {'feature': 'duration_less than 15mins',\n",
       "   'children': {1: {'feature': 'emp.var.rate_3',\n",
       "     'children': {1: {'feature': 'month_oct',\n",
       "       'children': {0: {'feature': 'age_Middle_age',\n",
       "         'children': {0: {'feature': 'month_may',\n",
       "           'children': {1: None, 0: None}},\n",
       "          1: {'feature': 'marital_unknown', 'children': {0: None, 1: None}}}},\n",
       "        1: None}},\n",
       "      0: {'feature': 'cons.conf.idx_1',\n",
       "       'children': {1: {'feature': 'euribor3m_1',\n",
       "         'children': {1: {'feature': 'job_retired',\n",
       "           'children': {0: {'feature': 'emp.var.rate_1',\n",
       "             'children': {1: {'feature': 'job_admin.',\n",
       "               'children': {0: None,\n",
       "                1: {'feature': 'month_may', 'children': {1: None, 0: None}}}},\n",
       "              0: None}},\n",
       "            1: None}},\n",
       "          0: None}},\n",
       "        0: {'feature': 'contact_cellular',\n",
       "         'children': {0: {'feature': 'job_unemployed',\n",
       "           'children': {0: None, 1: None}},\n",
       "          1: None}}}}}},\n",
       "    0: None}},\n",
       "  0: {'feature': 'month_mar', 'children': {0: None, 1: None}}}}"
      ]
     },
     "execution_count": 68,
     "metadata": {},
     "output_type": "execute_result"
    }
   ],
   "source": [
    "a=decision()\n",
    "a.split(x=X_train,y=y_train)"
   ]
  },
  {
   "cell_type": "markdown",
   "id": "97ef89e6",
   "metadata": {},
   "source": [
    "#### Predictions"
   ]
  },
  {
   "cell_type": "code",
   "execution_count": 69,
   "id": "16e111ea",
   "metadata": {},
   "outputs": [],
   "source": [
    "y_pred=a.predict(X_train)\n",
    "\n",
    "y_test_pred=a.predict(X_test)"
   ]
  },
  {
   "cell_type": "markdown",
   "id": "e127d58b",
   "metadata": {},
   "source": [
    "#### Model evaluation "
   ]
  },
  {
   "cell_type": "code",
   "execution_count": 70,
   "id": "6f8d1966",
   "metadata": {},
   "outputs": [
    {
     "name": "stdout",
     "output_type": "stream",
     "text": [
      "train Accuracy: 89.38%\n"
     ]
    }
   ],
   "source": [
    "train_accuracy = np.mean(y_pred == y_train)\n",
    "print(f\"train Accuracy: {train_accuracy:.2%}\")"
   ]
  },
  {
   "cell_type": "code",
   "execution_count": 71,
   "id": "bad5f8d8",
   "metadata": {},
   "outputs": [
    {
     "name": "stdout",
     "output_type": "stream",
     "text": [
      "test Accuracy: 88.42%\n"
     ]
    }
   ],
   "source": [
    "test_accuracy = np.mean(y_test_pred == y_test)\n",
    "print(f\"test Accuracy: {test_accuracy:.2%}\")"
   ]
  },
  {
   "cell_type": "code",
   "execution_count": null,
   "id": "0c38ea3e",
   "metadata": {},
   "outputs": [],
   "source": []
  }
 ],
 "metadata": {
  "kernelspec": {
   "display_name": "Python 3 (ipykernel)",
   "language": "python",
   "name": "python3"
  },
  "language_info": {
   "codemirror_mode": {
    "name": "ipython",
    "version": 3
   },
   "file_extension": ".py",
   "mimetype": "text/x-python",
   "name": "python",
   "nbconvert_exporter": "python",
   "pygments_lexer": "ipython3",
   "version": "3.9.12"
  }
 },
 "nbformat": 4,
 "nbformat_minor": 5
}
