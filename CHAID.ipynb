{
 "cells": [
  {
   "cell_type": "code",
   "execution_count": 1,
   "id": "d2f3b8f4",
   "metadata": {},
   "outputs": [],
   "source": [
    "import pandas as pd"
   ]
  },
  {
   "cell_type": "code",
   "execution_count": 2,
   "id": "cf9e46e0",
   "metadata": {},
   "outputs": [],
   "source": [
    "book=pd.read_csv(\"Decision.csv\",usecols=[\"Outlook\",\"Temperature\",\"Humidity\",\"Wind\",\"Decision\"])"
   ]
  },
  {
   "cell_type": "code",
   "execution_count": 3,
   "id": "f419346b",
   "metadata": {
    "scrolled": true
   },
   "outputs": [],
   "source": [
    "from sklearn import preprocessing\n",
    "le = preprocessing.LabelEncoder()\n",
    "for i in book.columns:\n",
    "    book[f'{i}']=le.fit_transform(book[f'{i}'])"
   ]
  },
  {
   "cell_type": "code",
   "execution_count": 4,
   "id": "48c450df",
   "metadata": {},
   "outputs": [],
   "source": [
    "import numpy as np\n",
    "# import matplotlib.pyplot as plt \n",
    "# import pandas as pd\n",
    "# from sklearn.tree import export_graphviz\n",
    "# from sklearn.externals.six import StringIO  \n",
    "# from IPython.display import Image  \n",
    "# import pydotplusdot_data = StringIO()\n",
    "# export_graphviz(classifier, out_file=dot_data,  \n",
    "#                 filled=True, rounded=True,\n",
    "#                 special_characters=True,feature_names = feature_cols,class_names=['0','1'])\n",
    "# graph = pydotplus.graph_from_dot_data(dot_data.getvalue())  \n",
    "# Image(graph.create_png())"
   ]
  },
  {
   "cell_type": "code",
   "execution_count": 5,
   "id": "b5507fe5",
   "metadata": {},
   "outputs": [
    {
     "data": {
      "text/plain": [
       "Outlook        int32\n",
       "Temperature    int32\n",
       "Humidity       int32\n",
       "Wind           int32\n",
       "Decision       int32\n",
       "dtype: object"
      ]
     },
     "execution_count": 5,
     "metadata": {},
     "output_type": "execute_result"
    }
   ],
   "source": [
    "book.dtypes"
   ]
  },
  {
   "cell_type": "code",
   "execution_count": 6,
   "id": "3022e56e",
   "metadata": {},
   "outputs": [],
   "source": [
    "ct={}\n",
    "for i in book[\"Humidity\"].unique():\n",
    "    ct[i]=book[book.Humidity==i][\"Decision\"].value_counts()"
   ]
  },
  {
   "cell_type": "code",
   "execution_count": 7,
   "id": "70a43fc7",
   "metadata": {},
   "outputs": [],
   "source": [
    "ct=pd.DataFrame(ct).T\n",
    "ct['total']=ct[0]+ct[1]\n",
    "ct[\"expected\"]=ct['total']/2\n",
    "ct[\"chisquare_0\"]=np.sqrt(((ct[0]-ct['expected'])**2)/ct['expected'])\n",
    "ct[\"chisquare_1\"]=np.sqrt(((ct[1]-ct['expected'])**2)/ct['expected'])"
   ]
  },
  {
   "cell_type": "code",
   "execution_count": 8,
   "id": "71a760ad",
   "metadata": {},
   "outputs": [
    {
     "data": {
      "text/html": [
       "<div>\n",
       "<style scoped>\n",
       "    .dataframe tbody tr th:only-of-type {\n",
       "        vertical-align: middle;\n",
       "    }\n",
       "\n",
       "    .dataframe tbody tr th {\n",
       "        vertical-align: top;\n",
       "    }\n",
       "\n",
       "    .dataframe thead th {\n",
       "        text-align: right;\n",
       "    }\n",
       "</style>\n",
       "<table border=\"1\" class=\"dataframe\">\n",
       "  <thead>\n",
       "    <tr style=\"text-align: right;\">\n",
       "      <th></th>\n",
       "      <th>0</th>\n",
       "      <th>1</th>\n",
       "      <th>total</th>\n",
       "      <th>expected</th>\n",
       "      <th>chisquare_0</th>\n",
       "      <th>chisquare_1</th>\n",
       "    </tr>\n",
       "  </thead>\n",
       "  <tbody>\n",
       "    <tr>\n",
       "      <th>0</th>\n",
       "      <td>4</td>\n",
       "      <td>3</td>\n",
       "      <td>7</td>\n",
       "      <td>3.5</td>\n",
       "      <td>0.267261</td>\n",
       "      <td>0.267261</td>\n",
       "    </tr>\n",
       "    <tr>\n",
       "      <th>1</th>\n",
       "      <td>1</td>\n",
       "      <td>6</td>\n",
       "      <td>7</td>\n",
       "      <td>3.5</td>\n",
       "      <td>1.336306</td>\n",
       "      <td>1.336306</td>\n",
       "    </tr>\n",
       "  </tbody>\n",
       "</table>\n",
       "</div>"
      ],
      "text/plain": [
       "   0  1  total  expected  chisquare_0  chisquare_1\n",
       "0  4  3      7       3.5     0.267261     0.267261\n",
       "1  1  6      7       3.5     1.336306     1.336306"
      ]
     },
     "execution_count": 8,
     "metadata": {},
     "output_type": "execute_result"
    }
   ],
   "source": [
    "ct"
   ]
  },
  {
   "cell_type": "code",
   "execution_count": 19,
   "id": "1581bb56",
   "metadata": {},
   "outputs": [],
   "source": [
    "def chisquare(column1):\n",
    "    ct={}\n",
    "    for i in book[column1].unique():\n",
    "        ct[i]=book[book[column1]==i][\"Decision\"].value_counts()\n",
    "    ct=pd.DataFrame(ct).T\n",
    "    ct=ct.fillna(0)\n",
    "    ct['total']=ct[0]+ct[1]\n",
    "    ct[\"expected\"]=ct['total']/2\n",
    "    ct[\"chisquare_0\"]=np.sqrt(((ct[0]-ct['expected'])**2)/ct['expected'])\n",
    "    ct[\"chisquare_1\"]=np.sqrt(((ct[1]-ct['expected'])**2)/ct['expected'])\n",
    "    return ct  "
   ]
  },
  {
   "cell_type": "code",
   "execution_count": 21,
   "id": "847af62b",
   "metadata": {},
   "outputs": [
    {
     "name": "stdout",
     "output_type": "stream",
     "text": [
      "     0    1  total  expected  chisquare_0  chisquare_1\n",
      "2  3.0  2.0    5.0       2.5     0.316228     0.316228\n",
      "0  0.0  4.0    4.0       2.0     1.414214     1.414214\n",
      "1  2.0  3.0    5.0       2.5     0.316228     0.316228\n",
      "   0  1  total  expected  chisquare_0  chisquare_1\n",
      "1  2  2      4       2.0     0.000000     0.000000\n",
      "2  2  4      6       3.0     0.577350     0.577350\n",
      "0  1  3      4       2.0     0.707107     0.707107\n",
      "   0  1  total  expected  chisquare_0  chisquare_1\n",
      "0  4  3      7       3.5     0.267261     0.267261\n",
      "1  1  6      7       3.5     1.336306     1.336306\n",
      "   0  1  total  expected  chisquare_0  chisquare_1\n",
      "1  2  6      8       4.0          1.0          1.0\n",
      "0  3  3      6       3.0          0.0          0.0\n",
      "     0    1  total  expected  chisquare_0  chisquare_1\n",
      "0  5.0  0.0    5.0       2.5     1.581139     1.581139\n",
      "1  0.0  9.0    9.0       4.5     2.121320     2.121320\n"
     ]
    }
   ],
   "source": [
    "for i in book.columns:\n",
    "    print(chisquare(i))"
   ]
  },
  {
   "cell_type": "code",
   "execution_count": 24,
   "id": "6d869988",
   "metadata": {},
   "outputs": [
    {
     "data": {
      "text/html": [
       "<div>\n",
       "<style scoped>\n",
       "    .dataframe tbody tr th:only-of-type {\n",
       "        vertical-align: middle;\n",
       "    }\n",
       "\n",
       "    .dataframe tbody tr th {\n",
       "        vertical-align: top;\n",
       "    }\n",
       "\n",
       "    .dataframe thead th {\n",
       "        text-align: right;\n",
       "    }\n",
       "</style>\n",
       "<table border=\"1\" class=\"dataframe\">\n",
       "  <thead>\n",
       "    <tr style=\"text-align: right;\">\n",
       "      <th></th>\n",
       "      <th>0</th>\n",
       "      <th>1</th>\n",
       "      <th>total</th>\n",
       "      <th>expected</th>\n",
       "      <th>chisquare_0</th>\n",
       "      <th>chisquare_1</th>\n",
       "    </tr>\n",
       "  </thead>\n",
       "  <tbody>\n",
       "    <tr>\n",
       "      <th>0</th>\n",
       "      <td>5.0</td>\n",
       "      <td>0.0</td>\n",
       "      <td>5.0</td>\n",
       "      <td>2.5</td>\n",
       "      <td>1.581139</td>\n",
       "      <td>1.581139</td>\n",
       "    </tr>\n",
       "    <tr>\n",
       "      <th>1</th>\n",
       "      <td>0.0</td>\n",
       "      <td>9.0</td>\n",
       "      <td>9.0</td>\n",
       "      <td>4.5</td>\n",
       "      <td>2.121320</td>\n",
       "      <td>2.121320</td>\n",
       "    </tr>\n",
       "  </tbody>\n",
       "</table>\n",
       "</div>"
      ],
      "text/plain": [
       "     0    1  total  expected  chisquare_0  chisquare_1\n",
       "0  5.0  0.0    5.0       2.5     1.581139     1.581139\n",
       "1  0.0  9.0    9.0       4.5     2.121320     2.121320"
      ]
     },
     "execution_count": 24,
     "metadata": {},
     "output_type": "execute_result"
    }
   ],
   "source": [
    "chisquare(book,i)"
   ]
  },
  {
   "cell_type": "code",
   "execution_count": 12,
   "id": "8a24cd19",
   "metadata": {},
   "outputs": [
    {
     "data": {
      "text/plain": [
       "0              float64\n",
       "1              float64\n",
       "total          float64\n",
       "expected       float64\n",
       "chisquare_0    float64\n",
       "chisquare_1    float64\n",
       "dtype: object"
      ]
     },
     "execution_count": 12,
     "metadata": {},
     "output_type": "execute_result"
    }
   ],
   "source": [
    "chisquare(i).dtypes"
   ]
  },
  {
   "cell_type": "code",
   "execution_count": 28,
   "id": "6f2df69c",
   "metadata": {},
   "outputs": [],
   "source": [
    "def best_feature(listofcolumns):\n",
    "    chi2={}\n",
    "    for i in listofcolumns:\n",
    "        a=pd.DataFrame(chisquare(i))\n",
    "        chi2[i]=np.sum(a['chisquare_0']+a['chisquare_1'])  \n",
    "    feature=pd.DataFrame(chi2,index=['chi2']).T\n",
    "    return(feature['chi2'].idxmax())"
   ]
  },
  {
   "cell_type": "code",
   "execution_count": 29,
   "id": "49370a90",
   "metadata": {},
   "outputs": [
    {
     "data": {
      "text/plain": [
       "'Outlook'"
      ]
     },
     "execution_count": 29,
     "metadata": {},
     "output_type": "execute_result"
    }
   ],
   "source": [
    "best_feature(['Outlook', 'Temperature', 'Humidity', 'Wind'])"
   ]
  },
  {
   "cell_type": "code",
   "execution_count": 18,
   "id": "551d0273",
   "metadata": {},
   "outputs": [
    {
     "name": "stdout",
     "output_type": "stream",
     "text": [
      "    Temperature  Humidity  Wind  Decision\n",
      "3             2         0     1         1\n",
      "4             0         1     1         1\n",
      "5             0         1     0         0\n",
      "9             2         1     1         1\n",
      "13            2         0     0         0\n",
      "Outlook\n",
      "Outlook\n",
      "Outlook\n",
      "Outlook\n"
     ]
    }
   ],
   "source": [
    "# def tree(column1):\n",
    "#     st={}\n",
    "#     for i in book[column1].unique():\n",
    "#         st[i]=book[book[column1]==i][\"Decision\"].value_counts()\n",
    "#     st=pd.DataFrame(st).T\n",
    "#     st=ct.fillna(0)\n",
    "#     ct['total']=ct[0]+ct[1]\n",
    "#     ct[\"expected\"]=ct['total']/2\n",
    "#     ct[\"chisquare_0\"]=np.sqrt(((ct[0]-ct['expected'])**2)/ct['expected'])\n",
    "#     ct[\"chisquare_1\"]=np.sqrt(((ct[1]-ct['expected'])**2)/ct['expected'])\n",
    "values=book[best_feature].unique()\n",
    "best_attr=best_feature(['Outlook', 'Temperature', 'Humidity', 'Wind'])\n",
    "for value in values:\n",
    "    st=book[book[best_attr]==value].drop(best_attr,axis=1)\n",
    "    st=pd.DataFrame(st)\n",
    "print(st) \n",
    "for i in st:\n",
    "    print(best_attr)"
   ]
  },
  {
   "cell_type": "code",
   "execution_count": 30,
   "id": "b8b08df3",
   "metadata": {},
   "outputs": [
    {
     "data": {
      "text/plain": [
       "'Wind'"
      ]
     },
     "execution_count": 30,
     "metadata": {},
     "output_type": "execute_result"
    }
   ],
   "source": [
    "best_feature(st,st.columns)"
   ]
  },
  {
   "cell_type": "code",
   "execution_count": 36,
   "id": "36ace47b",
   "metadata": {},
   "outputs": [
    {
     "ename": "KeyError",
     "evalue": "'Decision'",
     "output_type": "error",
     "traceback": [
      "\u001b[1;31m---------------------------------------------------------------------------\u001b[0m",
      "\u001b[1;31mKeyError\u001b[0m                                  Traceback (most recent call last)",
      "File \u001b[1;32m~\\Anaconda3\\lib\\site-packages\\pandas\\core\\indexes\\base.py:3621\u001b[0m, in \u001b[0;36mIndex.get_loc\u001b[1;34m(self, key, method, tolerance)\u001b[0m\n\u001b[0;32m   3620\u001b[0m \u001b[38;5;28;01mtry\u001b[39;00m:\n\u001b[1;32m-> 3621\u001b[0m     \u001b[38;5;28;01mreturn\u001b[39;00m \u001b[38;5;28;43mself\u001b[39;49m\u001b[38;5;241;43m.\u001b[39;49m\u001b[43m_engine\u001b[49m\u001b[38;5;241;43m.\u001b[39;49m\u001b[43mget_loc\u001b[49m\u001b[43m(\u001b[49m\u001b[43mcasted_key\u001b[49m\u001b[43m)\u001b[49m\n\u001b[0;32m   3622\u001b[0m \u001b[38;5;28;01mexcept\u001b[39;00m \u001b[38;5;167;01mKeyError\u001b[39;00m \u001b[38;5;28;01mas\u001b[39;00m err:\n",
      "File \u001b[1;32m~\\Anaconda3\\lib\\site-packages\\pandas\\_libs\\index.pyx:136\u001b[0m, in \u001b[0;36mpandas._libs.index.IndexEngine.get_loc\u001b[1;34m()\u001b[0m\n",
      "File \u001b[1;32m~\\Anaconda3\\lib\\site-packages\\pandas\\_libs\\index.pyx:163\u001b[0m, in \u001b[0;36mpandas._libs.index.IndexEngine.get_loc\u001b[1;34m()\u001b[0m\n",
      "File \u001b[1;32mpandas\\_libs\\hashtable_class_helper.pxi:5198\u001b[0m, in \u001b[0;36mpandas._libs.hashtable.PyObjectHashTable.get_item\u001b[1;34m()\u001b[0m\n",
      "File \u001b[1;32mpandas\\_libs\\hashtable_class_helper.pxi:5206\u001b[0m, in \u001b[0;36mpandas._libs.hashtable.PyObjectHashTable.get_item\u001b[1;34m()\u001b[0m\n",
      "\u001b[1;31mKeyError\u001b[0m: 'Decision'",
      "\nThe above exception was the direct cause of the following exception:\n",
      "\u001b[1;31mKeyError\u001b[0m                                  Traceback (most recent call last)",
      "Input \u001b[1;32mIn [36]\u001b[0m, in \u001b[0;36m<cell line: 1>\u001b[1;34m()\u001b[0m\n\u001b[1;32m----> 1\u001b[0m values\u001b[38;5;241m=\u001b[39mst[\u001b[43mbest_feature\u001b[49m\u001b[43m(\u001b[49m\u001b[43mst\u001b[49m\u001b[43m,\u001b[49m\u001b[43mst\u001b[49m\u001b[38;5;241;43m.\u001b[39;49m\u001b[43mcolumns\u001b[49m\u001b[43m)\u001b[49m]\u001b[38;5;241m.\u001b[39munique()\n\u001b[0;32m      2\u001b[0m best_attr\u001b[38;5;241m=\u001b[39mbest_feature(st,[\u001b[38;5;124m'\u001b[39m\u001b[38;5;124mTemperature\u001b[39m\u001b[38;5;124m'\u001b[39m, \u001b[38;5;124m'\u001b[39m\u001b[38;5;124mHumidity\u001b[39m\u001b[38;5;124m'\u001b[39m])\n\u001b[0;32m      3\u001b[0m \u001b[38;5;28;01mfor\u001b[39;00m value \u001b[38;5;129;01min\u001b[39;00m values:\n",
      "Input \u001b[1;32mIn [28]\u001b[0m, in \u001b[0;36mbest_feature\u001b[1;34m(df, listofcolumns)\u001b[0m\n\u001b[0;32m      2\u001b[0m chi2\u001b[38;5;241m=\u001b[39m{}\n\u001b[0;32m      3\u001b[0m \u001b[38;5;28;01mfor\u001b[39;00m i \u001b[38;5;129;01min\u001b[39;00m listofcolumns:\n\u001b[1;32m----> 4\u001b[0m     a\u001b[38;5;241m=\u001b[39mpd\u001b[38;5;241m.\u001b[39mDataFrame(\u001b[43mchisquare\u001b[49m\u001b[43m(\u001b[49m\u001b[43mdf\u001b[49m\u001b[43m,\u001b[49m\u001b[43mi\u001b[49m\u001b[43m)\u001b[49m)\n\u001b[0;32m      5\u001b[0m     chi2[i]\u001b[38;5;241m=\u001b[39mnp\u001b[38;5;241m.\u001b[39msum(a[\u001b[38;5;124m'\u001b[39m\u001b[38;5;124mchisquare_0\u001b[39m\u001b[38;5;124m'\u001b[39m]\u001b[38;5;241m+\u001b[39ma[\u001b[38;5;124m'\u001b[39m\u001b[38;5;124mchisquare_1\u001b[39m\u001b[38;5;124m'\u001b[39m])  \n\u001b[0;32m      6\u001b[0m feature\u001b[38;5;241m=\u001b[39mpd\u001b[38;5;241m.\u001b[39mDataFrame(chi2,index\u001b[38;5;241m=\u001b[39m[\u001b[38;5;124m'\u001b[39m\u001b[38;5;124mchi2\u001b[39m\u001b[38;5;124m'\u001b[39m])\u001b[38;5;241m.\u001b[39mT\n",
      "Input \u001b[1;32mIn [19]\u001b[0m, in \u001b[0;36mchisquare\u001b[1;34m(df, column1)\u001b[0m\n\u001b[0;32m      2\u001b[0m ct\u001b[38;5;241m=\u001b[39m{}\n\u001b[0;32m      3\u001b[0m \u001b[38;5;28;01mfor\u001b[39;00m i \u001b[38;5;129;01min\u001b[39;00m df[column1]\u001b[38;5;241m.\u001b[39munique():\n\u001b[1;32m----> 4\u001b[0m     ct[i]\u001b[38;5;241m=\u001b[39m\u001b[43mdf\u001b[49m\u001b[43m[\u001b[49m\u001b[43mdf\u001b[49m\u001b[43m[\u001b[49m\u001b[43mcolumn1\u001b[49m\u001b[43m]\u001b[49m\u001b[38;5;241;43m==\u001b[39;49m\u001b[43mi\u001b[49m\u001b[43m]\u001b[49m\u001b[43m[\u001b[49m\u001b[38;5;124;43m\"\u001b[39;49m\u001b[38;5;124;43mDecision\u001b[39;49m\u001b[38;5;124;43m\"\u001b[39;49m\u001b[43m]\u001b[49m\u001b[38;5;241m.\u001b[39mvalue_counts()\n\u001b[0;32m      5\u001b[0m ct\u001b[38;5;241m=\u001b[39mpd\u001b[38;5;241m.\u001b[39mDataFrame(ct)\u001b[38;5;241m.\u001b[39mT\n\u001b[0;32m      6\u001b[0m ct\u001b[38;5;241m=\u001b[39mct\u001b[38;5;241m.\u001b[39mfillna(\u001b[38;5;241m0\u001b[39m)\n",
      "File \u001b[1;32m~\\Anaconda3\\lib\\site-packages\\pandas\\core\\frame.py:3505\u001b[0m, in \u001b[0;36mDataFrame.__getitem__\u001b[1;34m(self, key)\u001b[0m\n\u001b[0;32m   3503\u001b[0m \u001b[38;5;28;01mif\u001b[39;00m \u001b[38;5;28mself\u001b[39m\u001b[38;5;241m.\u001b[39mcolumns\u001b[38;5;241m.\u001b[39mnlevels \u001b[38;5;241m>\u001b[39m \u001b[38;5;241m1\u001b[39m:\n\u001b[0;32m   3504\u001b[0m     \u001b[38;5;28;01mreturn\u001b[39;00m \u001b[38;5;28mself\u001b[39m\u001b[38;5;241m.\u001b[39m_getitem_multilevel(key)\n\u001b[1;32m-> 3505\u001b[0m indexer \u001b[38;5;241m=\u001b[39m \u001b[38;5;28;43mself\u001b[39;49m\u001b[38;5;241;43m.\u001b[39;49m\u001b[43mcolumns\u001b[49m\u001b[38;5;241;43m.\u001b[39;49m\u001b[43mget_loc\u001b[49m\u001b[43m(\u001b[49m\u001b[43mkey\u001b[49m\u001b[43m)\u001b[49m\n\u001b[0;32m   3506\u001b[0m \u001b[38;5;28;01mif\u001b[39;00m is_integer(indexer):\n\u001b[0;32m   3507\u001b[0m     indexer \u001b[38;5;241m=\u001b[39m [indexer]\n",
      "File \u001b[1;32m~\\Anaconda3\\lib\\site-packages\\pandas\\core\\indexes\\base.py:3623\u001b[0m, in \u001b[0;36mIndex.get_loc\u001b[1;34m(self, key, method, tolerance)\u001b[0m\n\u001b[0;32m   3621\u001b[0m     \u001b[38;5;28;01mreturn\u001b[39;00m \u001b[38;5;28mself\u001b[39m\u001b[38;5;241m.\u001b[39m_engine\u001b[38;5;241m.\u001b[39mget_loc(casted_key)\n\u001b[0;32m   3622\u001b[0m \u001b[38;5;28;01mexcept\u001b[39;00m \u001b[38;5;167;01mKeyError\u001b[39;00m \u001b[38;5;28;01mas\u001b[39;00m err:\n\u001b[1;32m-> 3623\u001b[0m     \u001b[38;5;28;01mraise\u001b[39;00m \u001b[38;5;167;01mKeyError\u001b[39;00m(key) \u001b[38;5;28;01mfrom\u001b[39;00m \u001b[38;5;21;01merr\u001b[39;00m\n\u001b[0;32m   3624\u001b[0m \u001b[38;5;28;01mexcept\u001b[39;00m \u001b[38;5;167;01mTypeError\u001b[39;00m:\n\u001b[0;32m   3625\u001b[0m     \u001b[38;5;66;03m# If we have a listlike key, _check_indexing_error will raise\u001b[39;00m\n\u001b[0;32m   3626\u001b[0m     \u001b[38;5;66;03m#  InvalidIndexError. Otherwise we fall through and re-raise\u001b[39;00m\n\u001b[0;32m   3627\u001b[0m     \u001b[38;5;66;03m#  the TypeError.\u001b[39;00m\n\u001b[0;32m   3628\u001b[0m     \u001b[38;5;28mself\u001b[39m\u001b[38;5;241m.\u001b[39m_check_indexing_error(key)\n",
      "\u001b[1;31mKeyError\u001b[0m: 'Decision'"
     ]
    }
   ],
   "source": []
  },
  {
   "cell_type": "code",
   "execution_count": null,
   "id": "97f5871e",
   "metadata": {},
   "outputs": [],
   "source": [
    "sub_tree={}\n",
    "values=book[best_feature].unique()\n",
    "best_attr=best_feature(['Outlook', 'Temperature', 'Humidity', 'Wind'])\n",
    "for value in values:\n",
    "    sub_tree=book[book[best_attr]==value].drop(best_attr,axis=1)\n",
    "    sub_tree=pd.DataFrame(sub_tree).T"
   ]
  },
  {
   "cell_type": "code",
   "execution_count": null,
   "id": "1a14eaf8",
   "metadata": {},
   "outputs": [],
   "source": [
    "tree={}\n",
    "sub_tree={}\n",
    "values=book[best_feature].unique()\n",
    "best_attr=best_feature(['Outlook', 'Temperature', 'Humidity', 'Wind'])\n",
    "for value in tree:\n",
    "    sub_tree=book[book[best_attr]==value].drop(best_attr,axis=1)\n",
    "    sub_tree=pd.DataFrame(sub_tree).T\n",
    "    print(sub_tree)"
   ]
  },
  {
   "cell_type": "code",
   "execution_count": null,
   "id": "6d4f41b1",
   "metadata": {},
   "outputs": [],
   "source": [
    "sub_tree"
   ]
  },
  {
   "cell_type": "code",
   "execution_count": null,
   "id": "e1155275",
   "metadata": {},
   "outputs": [],
   "source": [
    "for i in book.columns:\n",
    "    print(best_feature)\n",
    "    "
   ]
  },
  {
   "cell_type": "code",
   "execution_count": null,
   "id": "3a053c0d",
   "metadata": {},
   "outputs": [],
   "source": [
    "best_feature"
   ]
  },
  {
   "cell_type": "code",
   "execution_count": null,
   "id": "24a0e5b4",
   "metadata": {},
   "outputs": [],
   "source": [
    "#tree={best_attr:{}}\n",
    "best_attr=best_feature(['Outlook', 'Temperature', 'Humidity', 'Wind'])\n",
    "for i in best_attr:\n",
    "    values=book[best_att].unique()\n",
    "    sub_data=book[book[best_att]==value].drop(best_att,axis=1)\n"
   ]
  },
  {
   "cell_type": "code",
   "execution_count": null,
   "id": "9c0e56bb",
   "metadata": {},
   "outputs": [],
   "source": [
    "best_attr"
   ]
  },
  {
   "cell_type": "code",
   "execution_count": null,
   "id": "d30cc455",
   "metadata": {},
   "outputs": [],
   "source": [
    "def create_tree(book):\n",
    "    \n",
    "    if len(book['Decision'].unique())==1:\n",
    "        return book['Decision'].iloc[0]\n",
    "    if len(book.columns)==1:\n",
    "        return book['Decision'].value_counts().index[0]\n",
    "    best_att=best_feature(book)\n",
    "    tree = {best_att:{}}\n",
    "    values=book[best_att].unique()\n",
    "    for value in values:\n",
    "        sub_data=book[book[best_att]==value].drop(best_att,axis=1)\n",
    "        subtree=create_tree(sub_data)"
   ]
  },
  {
   "cell_type": "code",
   "execution_count": null,
   "id": "c2623f66",
   "metadata": {},
   "outputs": [],
   "source": [
    "create_tree(book)"
   ]
  },
  {
   "cell_type": "code",
   "execution_count": null,
   "id": "714d19fc",
   "metadata": {},
   "outputs": [],
   "source": [
    "if len(book.columns)==1:\n",
    "    \n",
    "    book['Decision'].value_counts().index[0]"
   ]
  },
  {
   "cell_type": "code",
   "execution_count": null,
   "id": "bf74270a",
   "metadata": {},
   "outputs": [],
   "source": [
    "book['Decision'].iloc[0]"
   ]
  },
  {
   "cell_type": "code",
   "execution_count": null,
   "id": "ab1cb529",
   "metadata": {},
   "outputs": [],
   "source": [
    " book['Decision'].value_counts().index[0]"
   ]
  },
  {
   "cell_type": "code",
   "execution_count": null,
   "id": "b1fdd1f8",
   "metadata": {},
   "outputs": [],
   "source": [
    "# for value in values:\n",
    "#         sub_data=book[book[best_att]==value].drop(best_att,axis=1)\n",
    "#         subtree=create_tree(sub_data)\n",
    "#         tree[best_att][value]=subtree\n",
    "# return tree"
   ]
  },
  {
   "cell_type": "code",
   "execution_count": null,
   "id": "1a857621",
   "metadata": {},
   "outputs": [],
   "source": [
    "#  subtree"
   ]
  },
  {
   "cell_type": "code",
   "execution_count": null,
   "id": "32f37f97",
   "metadata": {},
   "outputs": [],
   "source": [
    "# tree[best_att][value]=subtree"
   ]
  },
  {
   "cell_type": "code",
   "execution_count": null,
   "id": "c4aed92e",
   "metadata": {},
   "outputs": [],
   "source": [
    "book.columns"
   ]
  },
  {
   "cell_type": "code",
   "execution_count": null,
   "id": "8dc33ff2",
   "metadata": {},
   "outputs": [],
   "source": [
    "best_att=best_feature(['Outlook', 'Temperature', 'Humidity', 'Wind'])"
   ]
  },
  {
   "cell_type": "code",
   "execution_count": null,
   "id": "8c6ba8c0",
   "metadata": {},
   "outputs": [],
   "source": [
    "tree[best_attr]=best_feature(['Outlook', 'Temperature', 'Humidity', 'Wind'])"
   ]
  },
  {
   "cell_type": "code",
   "execution_count": null,
   "id": "59b2c956",
   "metadata": {},
   "outputs": [],
   "source": [
    "tree = {best_att:{}}"
   ]
  },
  {
   "cell_type": "code",
   "execution_count": null,
   "id": "f3516aa5",
   "metadata": {},
   "outputs": [],
   "source": [
    "values=book[best_att].unique()"
   ]
  },
  {
   "cell_type": "code",
   "execution_count": null,
   "id": "0bb99676",
   "metadata": {},
   "outputs": [],
   "source": []
  },
  {
   "cell_type": "code",
   "execution_count": null,
   "id": "a934fe3e",
   "metadata": {},
   "outputs": [],
   "source": [
    "tree"
   ]
  },
  {
   "cell_type": "code",
   "execution_count": null,
   "id": "ca068421",
   "metadata": {},
   "outputs": [],
   "source": [
    "values"
   ]
  },
  {
   "cell_type": "code",
   "execution_count": null,
   "id": "2f867934",
   "metadata": {},
   "outputs": [],
   "source": [
    "best_att"
   ]
  },
  {
   "cell_type": "code",
   "execution_count": null,
   "id": "5f58e489",
   "metadata": {},
   "outputs": [],
   "source": [
    "def create_tree(data):\n",
    "    best_att=best_feature(['Outlook', 'Temperature', 'Humidity', 'Wind'])\n",
    "    tree = {best_att:{}}\n",
    "    values=book[best_att].unique()\n",
    "    for value in values.items():\n",
    "        sub_data=book[book[best_att]==value].drop(best_att,axis=1)\n",
    "        tree=sub_data\n",
    "    "
   ]
  },
  {
   "cell_type": "code",
   "execution_count": null,
   "id": "07469473",
   "metadata": {},
   "outputs": [],
   "source": [
    "tree"
   ]
  },
  {
   "cell_type": "code",
   "execution_count": null,
   "id": "73a5e435",
   "metadata": {},
   "outputs": [],
   "source": [
    "sub_tree"
   ]
  },
  {
   "cell_type": "code",
   "execution_count": null,
   "id": "943e0ab3",
   "metadata": {},
   "outputs": [],
   "source": [
    "sub_data=book[book[best_att]==value].drop(best_att,axis=1)"
   ]
  },
  {
   "cell_type": "code",
   "execution_count": null,
   "id": "cb185b41",
   "metadata": {},
   "outputs": [],
   "source": [
    "sub_data"
   ]
  },
  {
   "cell_type": "code",
   "execution_count": null,
   "id": "52267e34",
   "metadata": {},
   "outputs": [],
   "source": [
    "def create_tree(data):\n",
    "     for value in values:\n",
    "        tree=create_tree(data)\n",
    "        return tree"
   ]
  },
  {
   "cell_type": "code",
   "execution_count": null,
   "id": "1f4484cc",
   "metadata": {},
   "outputs": [],
   "source": [
    "create_tree(book)"
   ]
  },
  {
   "cell_type": "code",
   "execution_count": null,
   "id": "d8ec7776",
   "metadata": {},
   "outputs": [],
   "source": [
    "# def create_tree(book):\n",
    "#     for value in values:\n",
    "#         sub_data=book[book[best_att]==value].drop(best_att,axis=1)\n",
    "#         subtree=create_tree(sub_data)\n",
    "#         tree[best_att][value]=subtree\n",
    "#     return tree    "
   ]
  },
  {
   "cell_type": "code",
   "execution_count": null,
   "id": "23099a81",
   "metadata": {},
   "outputs": [],
   "source": [
    "# tree={}\n",
    "# for i in book.column:\n",
    "#     best_feature"
   ]
  },
  {
   "cell_type": "code",
   "execution_count": null,
   "id": "97a7b29a",
   "metadata": {},
   "outputs": [],
   "source": [
    "# def split_data(data, feature, value):\n",
    "#     subset1 = data[data[feature] == value]\n",
    "#     subset2 = data[data[feature] != value]\n",
    "# #     for datapoint in data:\n",
    "# #         if datapoint[feature] == value:\n",
    "# #             subset1.append(datapoint)\n",
    "# #         else:\n",
    "# #             subset2.append(datapoint)\n",
    "#     return subset1, subset2"
   ]
  },
  {
   "cell_type": "code",
   "execution_count": null,
   "id": "1dfafcc6",
   "metadata": {},
   "outputs": [],
   "source": [
    "# book.dtypes"
   ]
  },
  {
   "cell_type": "code",
   "execution_count": null,
   "id": "e413dbf6",
   "metadata": {},
   "outputs": [],
   "source": [
    "# i=0\n",
    "# subset1 = book[[book.Outlook==i][\"Decision\"] == 1]\n",
    "# subset2 = book[[book.Outlook==i][\"Decision\"] != 1]"
   ]
  },
  {
   "cell_type": "code",
   "execution_count": null,
   "id": "81bfbb6d",
   "metadata": {},
   "outputs": [],
   "source": [
    "# for datapoint in book:\n",
    "#         if datapoint[\"Decision\"] == 1:\n",
    "#             subset1.append(datapoint)\n",
    "#         else:\n",
    "#             subset2.append(datapoint)"
   ]
  },
  {
   "cell_type": "code",
   "execution_count": null,
   "id": "d55b4ec2",
   "metadata": {},
   "outputs": [],
   "source": [
    "# va=book[book.Humidity==i][\"Decision\"] == 1"
   ]
  },
  {
   "cell_type": "code",
   "execution_count": null,
   "id": "70d3c035",
   "metadata": {},
   "outputs": [],
   "source": [
    "# va"
   ]
  },
  {
   "cell_type": "code",
   "execution_count": null,
   "id": "fa2cacb0",
   "metadata": {},
   "outputs": [],
   "source": [
    "# book[book.Humidity==i][\"Decision\"].value_counts()"
   ]
  },
  {
   "cell_type": "code",
   "execution_count": null,
   "id": "dcb12c70",
   "metadata": {},
   "outputs": [],
   "source": [
    "# ct[i]"
   ]
  },
  {
   "cell_type": "code",
   "execution_count": null,
   "id": "e5edd632",
   "metadata": {},
   "outputs": [],
   "source": []
  },
  {
   "cell_type": "code",
   "execution_count": null,
   "id": "76a7246e",
   "metadata": {},
   "outputs": [],
   "source": []
  },
  {
   "cell_type": "code",
   "execution_count": null,
   "id": "e9eb7cdd",
   "metadata": {},
   "outputs": [],
   "source": []
  },
  {
   "cell_type": "code",
   "execution_count": null,
   "id": "57e9d7c8",
   "metadata": {},
   "outputs": [],
   "source": []
  },
  {
   "cell_type": "code",
   "execution_count": null,
   "id": "5300b63c",
   "metadata": {},
   "outputs": [],
   "source": []
  },
  {
   "cell_type": "code",
   "execution_count": null,
   "id": "0404b524",
   "metadata": {},
   "outputs": [],
   "source": []
  },
  {
   "cell_type": "code",
   "execution_count": null,
   "id": "0bc2aeb8",
   "metadata": {},
   "outputs": [],
   "source": []
  },
  {
   "cell_type": "code",
   "execution_count": null,
   "id": "36ba68da",
   "metadata": {},
   "outputs": [],
   "source": []
  },
  {
   "cell_type": "code",
   "execution_count": null,
   "id": "bb61ca0c",
   "metadata": {},
   "outputs": [],
   "source": []
  },
  {
   "cell_type": "markdown",
   "id": "667bfe79",
   "metadata": {},
   "source": [
    "# ---------------------------------------------------------------------------------------------------------------"
   ]
  },
  {
   "cell_type": "code",
   "execution_count": 37,
   "id": "c696453c",
   "metadata": {},
   "outputs": [],
   "source": [
    "def chisquare(df,column1):\n",
    "    ct={}\n",
    "    for i in df[column1].unique():\n",
    "        ct[i]=df[df[column1]==i][\"Decision\"].value_counts()\n",
    "    ct=pd.DataFrame(ct).T\n",
    "    ct=ct.fillna(0)\n",
    "    ct['total']=ct[0]+ct[1]\n",
    "    ct[\"expected\"]=ct['total']/2\n",
    "    ct[\"chisquare_0\"]=np.sqrt(((ct[0]-ct['expected'])**2)/ct['expected'])\n",
    "    ct[\"chisquare_1\"]=np.sqrt(((ct[1]-ct['expected'])**2)/ct['expected'])\n",
    "    return ct  "
   ]
  },
  {
   "cell_type": "code",
   "execution_count": 59,
   "id": "90093b11",
   "metadata": {},
   "outputs": [],
   "source": [
    "def best_feature(df,target):\n",
    "    chi2={}\n",
    "    listofcolumns=list(df.columns)\n",
    "    listofcolumns.remove(target)\n",
    "    for i in listofcolumns:\n",
    "        a=pd.DataFrame(chisquare(df,i))\n",
    "        chi2[i]=np.sum(a['chisquare_0']+a['chisquare_1'])  \n",
    "    feature=pd.DataFrame(chi2,index=['chi2']).T\n",
    "    return(feature['chi2'].idxmax())"
   ]
  },
  {
   "cell_type": "code",
   "execution_count": 56,
   "id": "20465179",
   "metadata": {},
   "outputs": [],
   "source": [
    "listofcolumns=a.remove(\"Decision\")"
   ]
  },
  {
   "cell_type": "code",
   "execution_count": 53,
   "id": "6d02efef",
   "metadata": {},
   "outputs": [],
   "source": [
    "list(book.columns).remove(\"Decision\")"
   ]
  },
  {
   "cell_type": "code",
   "execution_count": 58,
   "id": "f747a542",
   "metadata": {},
   "outputs": [
    {
     "data": {
      "text/plain": [
       "['Outlook', 'Temperature', 'Humidity', 'Wind']"
      ]
     },
     "execution_count": 58,
     "metadata": {},
     "output_type": "execute_result"
    }
   ],
   "source": [
    "a"
   ]
  },
  {
   "cell_type": "code",
   "execution_count": 55,
   "id": "686dfc6b",
   "metadata": {},
   "outputs": [],
   "source": [
    "a=list(book.columns)"
   ]
  },
  {
   "cell_type": "code",
   "execution_count": 57,
   "id": "a1c38020",
   "metadata": {},
   "outputs": [],
   "source": [
    "listofcolumns"
   ]
  },
  {
   "cell_type": "code",
   "execution_count": 40,
   "id": "6160d5a8",
   "metadata": {},
   "outputs": [
    {
     "data": {
      "text/html": [
       "<div>\n",
       "<style scoped>\n",
       "    .dataframe tbody tr th:only-of-type {\n",
       "        vertical-align: middle;\n",
       "    }\n",
       "\n",
       "    .dataframe tbody tr th {\n",
       "        vertical-align: top;\n",
       "    }\n",
       "\n",
       "    .dataframe thead th {\n",
       "        text-align: right;\n",
       "    }\n",
       "</style>\n",
       "<table border=\"1\" class=\"dataframe\">\n",
       "  <thead>\n",
       "    <tr style=\"text-align: right;\">\n",
       "      <th></th>\n",
       "      <th>0</th>\n",
       "      <th>1</th>\n",
       "      <th>total</th>\n",
       "      <th>expected</th>\n",
       "      <th>chisquare_0</th>\n",
       "      <th>chisquare_1</th>\n",
       "    </tr>\n",
       "  </thead>\n",
       "  <tbody>\n",
       "    <tr>\n",
       "      <th>0</th>\n",
       "      <td>4</td>\n",
       "      <td>3</td>\n",
       "      <td>7</td>\n",
       "      <td>3.5</td>\n",
       "      <td>0.267261</td>\n",
       "      <td>0.267261</td>\n",
       "    </tr>\n",
       "    <tr>\n",
       "      <th>1</th>\n",
       "      <td>1</td>\n",
       "      <td>6</td>\n",
       "      <td>7</td>\n",
       "      <td>3.5</td>\n",
       "      <td>1.336306</td>\n",
       "      <td>1.336306</td>\n",
       "    </tr>\n",
       "  </tbody>\n",
       "</table>\n",
       "</div>"
      ],
      "text/plain": [
       "   0  1  total  expected  chisquare_0  chisquare_1\n",
       "0  4  3      7       3.5     0.267261     0.267261\n",
       "1  1  6      7       3.5     1.336306     1.336306"
      ]
     },
     "execution_count": 40,
     "metadata": {},
     "output_type": "execute_result"
    }
   ],
   "source": [
    "chisquare(book,'Humidity')"
   ]
  },
  {
   "cell_type": "code",
   "execution_count": 42,
   "id": "86978640",
   "metadata": {},
   "outputs": [
    {
     "data": {
      "text/plain": [
       "Index(['Outlook', 'Temperature', 'Humidity', 'Wind', 'Decision'], dtype='object')"
      ]
     },
     "execution_count": 42,
     "metadata": {},
     "output_type": "execute_result"
    }
   ],
   "source": [
    "book.columns"
   ]
  },
  {
   "cell_type": "code",
   "execution_count": 60,
   "id": "2c67a93c",
   "metadata": {},
   "outputs": [
    {
     "data": {
      "text/plain": [
       "'Outlook'"
      ]
     },
     "execution_count": 60,
     "metadata": {},
     "output_type": "execute_result"
    }
   ],
   "source": [
    "best_feature(book,'Decision')"
   ]
  },
  {
   "cell_type": "code",
   "execution_count": 87,
   "id": "d13e4383",
   "metadata": {},
   "outputs": [],
   "source": [
    "target=\"Decision\""
   ]
  },
  {
   "cell_type": "code",
   "execution_count": 90,
   "id": "107c565e",
   "metadata": {},
   "outputs": [],
   "source": [
    "def tree(bestf):\n",
    "    tree={}\n",
    "    values={}\n",
    "    for i in book[f'{bestf}'].unique():\n",
    "        tree[f'{bestf}_{i}']=book[book[f'{bestf}']==i]    \n",
    "    for i in list(tree.keys()):\n",
    "        if tree[i].Decision.nunique()==1:\n",
    "            values[f'{bestf}_{i}']=tree[i][f\"{target}\"].unique()\n",
    "        else:\n",
    "             best_feature(tree[i],target)\n",
    "        \n",
    "    "
   ]
  },
  {
   "cell_type": "code",
   "execution_count": 91,
   "id": "e9392ec7",
   "metadata": {},
   "outputs": [],
   "source": [
    "tree(\"Outlook\")"
   ]
  },
  {
   "cell_type": "code",
   "execution_count": 93,
   "id": "6197463d",
   "metadata": {},
   "outputs": [
    {
     "data": {
      "text/plain": [
       "array([0, 1])"
      ]
     },
     "execution_count": 93,
     "metadata": {},
     "output_type": "execute_result"
    }
   ],
   "source": []
  },
  {
   "cell_type": "code",
   "execution_count": 92,
   "id": "42fb7868",
   "metadata": {},
   "outputs": [],
   "source": [
    "tree={}\n",
    "for i in book.Outlook.unique():\n",
    "    tree[f'Outlook_{i}']=book[book.Outlook==i]    "
   ]
  },
  {
   "cell_type": "code",
   "execution_count": 76,
   "id": "f6906132",
   "metadata": {},
   "outputs": [
    {
     "data": {
      "text/plain": [
       "{'Outlook_2':     Outlook  Temperature  Humidity  Wind  Decision\n",
       " 0         2            1         0     1         0\n",
       " 1         2            1         0     0         0\n",
       " 7         2            2         0     1         0\n",
       " 8         2            0         1     1         1\n",
       " 10        2            2         1     0         1,\n",
       " 'Outlook_0':     Outlook  Temperature  Humidity  Wind  Decision\n",
       " 2         0            1         0     1         1\n",
       " 6         0            0         1     0         1\n",
       " 11        0            2         0     0         1\n",
       " 12        0            1         1     1         1,\n",
       " 'Outlook_1':     Outlook  Temperature  Humidity  Wind  Decision\n",
       " 3         1            2         0     1         1\n",
       " 4         1            0         1     1         1\n",
       " 5         1            0         1     0         0\n",
       " 9         1            2         1     1         1\n",
       " 13        1            2         0     0         0}"
      ]
     },
     "execution_count": 76,
     "metadata": {},
     "output_type": "execute_result"
    }
   ],
   "source": [
    "tree"
   ]
  },
  {
   "cell_type": "code",
   "execution_count": 68,
   "id": "ac6bf0bd",
   "metadata": {},
   "outputs": [
    {
     "name": "stdout",
     "output_type": "stream",
     "text": [
      "dict_keys([2, 0, 1])\n"
     ]
    }
   ],
   "source": [
    "print(list(tree.keys())"
   ]
  },
  {
   "cell_type": "code",
   "execution_count": 77,
   "id": "74b4fa7d",
   "metadata": {},
   "outputs": [
    {
     "name": "stdout",
     "output_type": "stream",
     "text": [
      "Outlook_2continue\n",
      "Outlook_0Done\n",
      "Outlook_1continue\n"
     ]
    }
   ],
   "source": [
    "for i in list(tree.keys()):\n",
    "    if tree[i].Decision.nunique()==1:\n",
    "        print(f\"{i}Done\")\n",
    "    else:\n",
    "        print(f\"{i}continue\")"
   ]
  },
  {
   "cell_type": "code",
   "execution_count": 98,
   "id": "80c5e8cd",
   "metadata": {},
   "outputs": [],
   "source": [
    "def chaid(df,target):\n",
    "    def chisquare(df,column1):\n",
    "        ct={}\n",
    "        for i in df[column1].unique():\n",
    "            ct[i]=df[df[column1]==i][\"Decision\"].value_counts()\n",
    "            ct=pd.DataFrame(ct).T\n",
    "            ct=ct.fillna(0)\n",
    "            ct['total']=ct[0]+ct[1]\n",
    "            ct[\"expected\"]=ct['total']/2\n",
    "            ct[\"chisquare_0\"]=np.sqrt(((ct[0]-ct['expected'])**2)/ct['expected'])\n",
    "            ct[\"chisquare_1\"]=np.sqrt(((ct[1]-ct['expected'])**2)/ct['expected'])\n",
    "            return ct \n",
    "    def best_feature(df,target,prebf):\n",
    "        chi2={}\n",
    "        listofcolumns=list(df.columns)\n",
    "        listofcolumns.remove(target)\n",
    "        if prebf == None:\n",
    "            listofcolumns==listofcolumns\n",
    "        elif prebf in listofcolumns:\n",
    "            listofcolumns.remove(prebf)\n",
    "        for i in listofcolumns:\n",
    "            a=pd.DataFrame(chisquare(df,i))\n",
    "            chi2[i]=np.sum(a['chisquare_0']+a['chisquare_1'])  \n",
    "        feature=pd.DataFrame(chi2,index=['chi2']).T\n",
    "        return(feature['chi2'].idxmax())\n",
    "    \n",
    "    def tree(df,target):\n",
    "        tree={}\n",
    "        bf=best_feature(data,target,prebf)\n",
    "        if df[f'{bf}'][f'{target}'].nunique()==1:\n",
    "            print(\"done\")\n",
    "        else:\n",
    "            for i in df[f'bf'].unique():\n",
    "                tree[f'{bf}_{i}']=df[df[f\"{bf}\"]==i]\n",
    "            for i in list(tree.keys()):\n",
    "                tree(tree[i],target,bf)\n",
    "    return tree  \n",
    "                \n",
    "                \n",
    "            "
   ]
  },
  {
   "cell_type": "code",
   "execution_count": 188,
   "id": "1c855c7c",
   "metadata": {},
   "outputs": [],
   "source": []
  },
  {
   "cell_type": "code",
   "execution_count": 198,
   "id": "3949e192",
   "metadata": {},
   "outputs": [],
   "source": [
    "    def best_feature(df,target):\n",
    "        chi2={}\n",
    "        listofcolumns=list(df.columns)\n",
    "        if bf not in listofcolumns:\n",
    "            listofcolumns=listofcolumns\n",
    "        else:\n",
    "            listofcolumns.remove(bf)\n",
    "        listofcolumns.remove(target)\n",
    "        for i in listofcolumns:\n",
    "            a=pd.DataFrame(chisquare(df,i))\n",
    "            chi2[i]=np.sum(a['chisquare_0']+a['chisquare_1'])  \n",
    "        feature=pd.DataFrame(chi2,index=['chi2']).T\n",
    "        return(feature['chi2'].idxmax())"
   ]
  },
  {
   "cell_type": "code",
   "execution_count": 199,
   "id": "cf839ada",
   "metadata": {},
   "outputs": [
    {
     "data": {
      "text/plain": [
       "<function __main__.chaid.<locals>.tree(df, target)>"
      ]
     },
     "execution_count": 199,
     "metadata": {},
     "output_type": "execute_result"
    }
   ],
   "source": [
    "chaid(book,'Decision')"
   ]
  },
  {
   "cell_type": "code",
   "execution_count": 203,
   "id": "f7fde689",
   "metadata": {},
   "outputs": [],
   "source": [
    "def tree(df,target):\n",
    "        tree1={}\n",
    "        bf=best_feature(df,target)\n",
    "        print(bf)\n",
    "        for i in df[f\"{bf}\"].unique():\n",
    "            if df[df[f'{bf}']==i][f'{target}'].nunique()==1:\n",
    "                print(\"done\")\n",
    "                print(bf)\n",
    "            else:\n",
    "                for i in df[f'{bf}'].unique():\n",
    "                    tree1[f'{bf}_{i}']=df[df[f\"{bf}\"]==i]\n",
    "                    print(tree1[f'{bf}_{i}'])\n",
    "                for i in list(tree1.keys()):\n",
    "                    tree(tree1[i],target)"
   ]
  },
  {
   "cell_type": "code",
   "execution_count": 204,
   "id": "1a82150c",
   "metadata": {},
   "outputs": [
    {
     "data": {
      "text/plain": [
       "{}"
      ]
     },
     "execution_count": 204,
     "metadata": {},
     "output_type": "execute_result"
    }
   ],
   "source": [
    "def tree(df,target):\n",
    "    tree1={}\n",
    "    bf=best_feature(df,target)\n",
    "    print(bf)\n",
    "    for i in df[f'{bf}'].unique():\n",
    "        tree1[i]==df[df[f\"{bf}\"]==i]\n",
    "        if tree1[i]['target'].nunique()==1:\n",
    "            print(tree1[f'{bf}_{i}'])\n",
    "        else:\n",
    "            for i in tree1[f'{bf}'].unique()\n",
    "            \n",
    "        \n",
    "    "
   ]
  },
  {
   "cell_type": "code",
   "execution_count": 205,
   "id": "de464d1d",
   "metadata": {},
   "outputs": [
    {
     "name": "stdout",
     "output_type": "stream",
     "text": [
      "Outlook\n",
      "    Outlook  Temperature  Humidity  Wind  Decision\n",
      "0         2            1         0     1         0\n",
      "1         2            1         0     0         0\n",
      "7         2            2         0     1         0\n",
      "8         2            0         1     1         1\n",
      "10        2            2         1     0         1\n",
      "    Outlook  Temperature  Humidity  Wind  Decision\n",
      "2         0            1         0     1         1\n",
      "6         0            0         1     0         1\n",
      "11        0            2         0     0         1\n",
      "12        0            1         1     1         1\n",
      "    Outlook  Temperature  Humidity  Wind  Decision\n",
      "3         1            2         0     1         1\n",
      "4         1            0         1     1         1\n",
      "5         1            0         1     0         0\n",
      "9         1            2         1     1         1\n",
      "13        1            2         0     0         0\n",
      "Humidity\n",
      "done\n",
      "Humidity\n",
      "done\n",
      "Humidity\n"
     ]
    },
    {
     "ename": "KeyError",
     "evalue": "0",
     "output_type": "error",
     "traceback": [
      "\u001b[1;31m---------------------------------------------------------------------------\u001b[0m",
      "\u001b[1;31mKeyError\u001b[0m                                  Traceback (most recent call last)",
      "File \u001b[1;32m~\\Anaconda3\\lib\\site-packages\\pandas\\core\\indexes\\base.py:3621\u001b[0m, in \u001b[0;36mIndex.get_loc\u001b[1;34m(self, key, method, tolerance)\u001b[0m\n\u001b[0;32m   3620\u001b[0m \u001b[38;5;28;01mtry\u001b[39;00m:\n\u001b[1;32m-> 3621\u001b[0m     \u001b[38;5;28;01mreturn\u001b[39;00m \u001b[38;5;28;43mself\u001b[39;49m\u001b[38;5;241;43m.\u001b[39;49m\u001b[43m_engine\u001b[49m\u001b[38;5;241;43m.\u001b[39;49m\u001b[43mget_loc\u001b[49m\u001b[43m(\u001b[49m\u001b[43mcasted_key\u001b[49m\u001b[43m)\u001b[49m\n\u001b[0;32m   3622\u001b[0m \u001b[38;5;28;01mexcept\u001b[39;00m \u001b[38;5;167;01mKeyError\u001b[39;00m \u001b[38;5;28;01mas\u001b[39;00m err:\n",
      "File \u001b[1;32m~\\Anaconda3\\lib\\site-packages\\pandas\\_libs\\index.pyx:136\u001b[0m, in \u001b[0;36mpandas._libs.index.IndexEngine.get_loc\u001b[1;34m()\u001b[0m\n",
      "File \u001b[1;32m~\\Anaconda3\\lib\\site-packages\\pandas\\_libs\\index.pyx:163\u001b[0m, in \u001b[0;36mpandas._libs.index.IndexEngine.get_loc\u001b[1;34m()\u001b[0m\n",
      "File \u001b[1;32mpandas\\_libs\\hashtable_class_helper.pxi:2131\u001b[0m, in \u001b[0;36mpandas._libs.hashtable.Int64HashTable.get_item\u001b[1;34m()\u001b[0m\n",
      "File \u001b[1;32mpandas\\_libs\\hashtable_class_helper.pxi:2140\u001b[0m, in \u001b[0;36mpandas._libs.hashtable.Int64HashTable.get_item\u001b[1;34m()\u001b[0m\n",
      "\u001b[1;31mKeyError\u001b[0m: 0",
      "\nThe above exception was the direct cause of the following exception:\n",
      "\u001b[1;31mKeyError\u001b[0m                                  Traceback (most recent call last)",
      "Input \u001b[1;32mIn [205]\u001b[0m, in \u001b[0;36m<cell line: 1>\u001b[1;34m()\u001b[0m\n\u001b[1;32m----> 1\u001b[0m \u001b[43mtree\u001b[49m\u001b[43m(\u001b[49m\u001b[43mbook\u001b[49m\u001b[43m,\u001b[49m\u001b[38;5;124;43m'\u001b[39;49m\u001b[38;5;124;43mDecision\u001b[39;49m\u001b[38;5;124;43m'\u001b[39;49m\u001b[43m)\u001b[49m\n",
      "Input \u001b[1;32mIn [203]\u001b[0m, in \u001b[0;36mtree\u001b[1;34m(df, target)\u001b[0m\n\u001b[0;32m     12\u001b[0m     \u001b[38;5;28mprint\u001b[39m(tree1[\u001b[38;5;124mf\u001b[39m\u001b[38;5;124m'\u001b[39m\u001b[38;5;132;01m{\u001b[39;00mbf\u001b[38;5;132;01m}\u001b[39;00m\u001b[38;5;124m_\u001b[39m\u001b[38;5;132;01m{\u001b[39;00mi\u001b[38;5;132;01m}\u001b[39;00m\u001b[38;5;124m'\u001b[39m])\n\u001b[0;32m     13\u001b[0m \u001b[38;5;28;01mfor\u001b[39;00m i \u001b[38;5;129;01min\u001b[39;00m \u001b[38;5;28mlist\u001b[39m(tree1\u001b[38;5;241m.\u001b[39mkeys()):\n\u001b[1;32m---> 14\u001b[0m     \u001b[43mtree\u001b[49m\u001b[43m(\u001b[49m\u001b[43mtree1\u001b[49m\u001b[43m[\u001b[49m\u001b[43mi\u001b[49m\u001b[43m]\u001b[49m\u001b[43m,\u001b[49m\u001b[43mtarget\u001b[49m\u001b[43m)\u001b[49m\n",
      "Input \u001b[1;32mIn [203]\u001b[0m, in \u001b[0;36mtree\u001b[1;34m(df, target)\u001b[0m\n\u001b[0;32m      1\u001b[0m \u001b[38;5;28;01mdef\u001b[39;00m \u001b[38;5;21mtree\u001b[39m(df,target):\n\u001b[0;32m      2\u001b[0m         tree1\u001b[38;5;241m=\u001b[39m{}\n\u001b[1;32m----> 3\u001b[0m         bf\u001b[38;5;241m=\u001b[39m\u001b[43mbest_feature\u001b[49m\u001b[43m(\u001b[49m\u001b[43mdf\u001b[49m\u001b[43m,\u001b[49m\u001b[43mtarget\u001b[49m\u001b[43m)\u001b[49m\n\u001b[0;32m      4\u001b[0m         \u001b[38;5;28mprint\u001b[39m(bf)\n\u001b[0;32m      5\u001b[0m         \u001b[38;5;28;01mfor\u001b[39;00m i \u001b[38;5;129;01min\u001b[39;00m df[\u001b[38;5;124mf\u001b[39m\u001b[38;5;124m\"\u001b[39m\u001b[38;5;132;01m{\u001b[39;00mbf\u001b[38;5;132;01m}\u001b[39;00m\u001b[38;5;124m\"\u001b[39m]\u001b[38;5;241m.\u001b[39munique():\n",
      "Input \u001b[1;32mIn [198]\u001b[0m, in \u001b[0;36mbest_feature\u001b[1;34m(df, target)\u001b[0m\n\u001b[0;32m      8\u001b[0m listofcolumns\u001b[38;5;241m.\u001b[39mremove(target)\n\u001b[0;32m      9\u001b[0m \u001b[38;5;28;01mfor\u001b[39;00m i \u001b[38;5;129;01min\u001b[39;00m listofcolumns:\n\u001b[1;32m---> 10\u001b[0m     a\u001b[38;5;241m=\u001b[39mpd\u001b[38;5;241m.\u001b[39mDataFrame(\u001b[43mchisquare\u001b[49m\u001b[43m(\u001b[49m\u001b[43mdf\u001b[49m\u001b[43m,\u001b[49m\u001b[43mi\u001b[49m\u001b[43m)\u001b[49m)\n\u001b[0;32m     11\u001b[0m     chi2[i]\u001b[38;5;241m=\u001b[39mnp\u001b[38;5;241m.\u001b[39msum(a[\u001b[38;5;124m'\u001b[39m\u001b[38;5;124mchisquare_0\u001b[39m\u001b[38;5;124m'\u001b[39m]\u001b[38;5;241m+\u001b[39ma[\u001b[38;5;124m'\u001b[39m\u001b[38;5;124mchisquare_1\u001b[39m\u001b[38;5;124m'\u001b[39m])  \n\u001b[0;32m     12\u001b[0m feature\u001b[38;5;241m=\u001b[39mpd\u001b[38;5;241m.\u001b[39mDataFrame(chi2,index\u001b[38;5;241m=\u001b[39m[\u001b[38;5;124m'\u001b[39m\u001b[38;5;124mchi2\u001b[39m\u001b[38;5;124m'\u001b[39m])\u001b[38;5;241m.\u001b[39mT\n",
      "Input \u001b[1;32mIn [37]\u001b[0m, in \u001b[0;36mchisquare\u001b[1;34m(df, column1)\u001b[0m\n\u001b[0;32m      5\u001b[0m ct\u001b[38;5;241m=\u001b[39mpd\u001b[38;5;241m.\u001b[39mDataFrame(ct)\u001b[38;5;241m.\u001b[39mT\n\u001b[0;32m      6\u001b[0m ct\u001b[38;5;241m=\u001b[39mct\u001b[38;5;241m.\u001b[39mfillna(\u001b[38;5;241m0\u001b[39m)\n\u001b[1;32m----> 7\u001b[0m ct[\u001b[38;5;124m'\u001b[39m\u001b[38;5;124mtotal\u001b[39m\u001b[38;5;124m'\u001b[39m]\u001b[38;5;241m=\u001b[39m\u001b[43mct\u001b[49m\u001b[43m[\u001b[49m\u001b[38;5;241;43m0\u001b[39;49m\u001b[43m]\u001b[49m\u001b[38;5;241m+\u001b[39mct[\u001b[38;5;241m1\u001b[39m]\n\u001b[0;32m      8\u001b[0m ct[\u001b[38;5;124m\"\u001b[39m\u001b[38;5;124mexpected\u001b[39m\u001b[38;5;124m\"\u001b[39m]\u001b[38;5;241m=\u001b[39mct[\u001b[38;5;124m'\u001b[39m\u001b[38;5;124mtotal\u001b[39m\u001b[38;5;124m'\u001b[39m]\u001b[38;5;241m/\u001b[39m\u001b[38;5;241m2\u001b[39m\n\u001b[0;32m      9\u001b[0m ct[\u001b[38;5;124m\"\u001b[39m\u001b[38;5;124mchisquare_0\u001b[39m\u001b[38;5;124m\"\u001b[39m]\u001b[38;5;241m=\u001b[39mnp\u001b[38;5;241m.\u001b[39msqrt(((ct[\u001b[38;5;241m0\u001b[39m]\u001b[38;5;241m-\u001b[39mct[\u001b[38;5;124m'\u001b[39m\u001b[38;5;124mexpected\u001b[39m\u001b[38;5;124m'\u001b[39m])\u001b[38;5;241m*\u001b[39m\u001b[38;5;241m*\u001b[39m\u001b[38;5;241m2\u001b[39m)\u001b[38;5;241m/\u001b[39mct[\u001b[38;5;124m'\u001b[39m\u001b[38;5;124mexpected\u001b[39m\u001b[38;5;124m'\u001b[39m])\n",
      "File \u001b[1;32m~\\Anaconda3\\lib\\site-packages\\pandas\\core\\frame.py:3505\u001b[0m, in \u001b[0;36mDataFrame.__getitem__\u001b[1;34m(self, key)\u001b[0m\n\u001b[0;32m   3503\u001b[0m \u001b[38;5;28;01mif\u001b[39;00m \u001b[38;5;28mself\u001b[39m\u001b[38;5;241m.\u001b[39mcolumns\u001b[38;5;241m.\u001b[39mnlevels \u001b[38;5;241m>\u001b[39m \u001b[38;5;241m1\u001b[39m:\n\u001b[0;32m   3504\u001b[0m     \u001b[38;5;28;01mreturn\u001b[39;00m \u001b[38;5;28mself\u001b[39m\u001b[38;5;241m.\u001b[39m_getitem_multilevel(key)\n\u001b[1;32m-> 3505\u001b[0m indexer \u001b[38;5;241m=\u001b[39m \u001b[38;5;28;43mself\u001b[39;49m\u001b[38;5;241;43m.\u001b[39;49m\u001b[43mcolumns\u001b[49m\u001b[38;5;241;43m.\u001b[39;49m\u001b[43mget_loc\u001b[49m\u001b[43m(\u001b[49m\u001b[43mkey\u001b[49m\u001b[43m)\u001b[49m\n\u001b[0;32m   3506\u001b[0m \u001b[38;5;28;01mif\u001b[39;00m is_integer(indexer):\n\u001b[0;32m   3507\u001b[0m     indexer \u001b[38;5;241m=\u001b[39m [indexer]\n",
      "File \u001b[1;32m~\\Anaconda3\\lib\\site-packages\\pandas\\core\\indexes\\base.py:3623\u001b[0m, in \u001b[0;36mIndex.get_loc\u001b[1;34m(self, key, method, tolerance)\u001b[0m\n\u001b[0;32m   3621\u001b[0m     \u001b[38;5;28;01mreturn\u001b[39;00m \u001b[38;5;28mself\u001b[39m\u001b[38;5;241m.\u001b[39m_engine\u001b[38;5;241m.\u001b[39mget_loc(casted_key)\n\u001b[0;32m   3622\u001b[0m \u001b[38;5;28;01mexcept\u001b[39;00m \u001b[38;5;167;01mKeyError\u001b[39;00m \u001b[38;5;28;01mas\u001b[39;00m err:\n\u001b[1;32m-> 3623\u001b[0m     \u001b[38;5;28;01mraise\u001b[39;00m \u001b[38;5;167;01mKeyError\u001b[39;00m(key) \u001b[38;5;28;01mfrom\u001b[39;00m \u001b[38;5;21;01merr\u001b[39;00m\n\u001b[0;32m   3624\u001b[0m \u001b[38;5;28;01mexcept\u001b[39;00m \u001b[38;5;167;01mTypeError\u001b[39;00m:\n\u001b[0;32m   3625\u001b[0m     \u001b[38;5;66;03m# If we have a listlike key, _check_indexing_error will raise\u001b[39;00m\n\u001b[0;32m   3626\u001b[0m     \u001b[38;5;66;03m#  InvalidIndexError. Otherwise we fall through and re-raise\u001b[39;00m\n\u001b[0;32m   3627\u001b[0m     \u001b[38;5;66;03m#  the TypeError.\u001b[39;00m\n\u001b[0;32m   3628\u001b[0m     \u001b[38;5;28mself\u001b[39m\u001b[38;5;241m.\u001b[39m_check_indexing_error(key)\n",
      "\u001b[1;31mKeyError\u001b[0m: 0"
     ]
    }
   ],
   "source": [
    "tree(book,'Decision')"
   ]
  },
  {
   "cell_type": "code",
   "execution_count": 158,
   "id": "d5bd4260",
   "metadata": {},
   "outputs": [
    {
     "name": "stdout",
     "output_type": "stream",
     "text": [
      "done\n",
      "Outlook\n"
     ]
    }
   ],
   "source": [
    "tree1={}\n",
    "bf=best_feature(df,target)\n",
    "for i in df[f\"{bf}\"].unique():\n",
    "    if df[df[f'{bf}']==i][f'{target}'].nunique()==1:\n",
    "        print(\"done\")\n",
    "        print(bf)\n",
    "    else:\n",
    "        for i in df[f'{bf}'].unique():\n",
    "            tree[f'{bf}_{i}']=df[df[f\"{bf}\"]==i]\n",
    "        for i in list(tree1.keys()):\n",
    "            tree(tree1[i],target,bf)"
   ]
  },
  {
   "cell_type": "code",
   "execution_count": 157,
   "id": "cd6a712d",
   "metadata": {},
   "outputs": [
    {
     "data": {
      "text/html": [
       "<div>\n",
       "<style scoped>\n",
       "    .dataframe tbody tr th:only-of-type {\n",
       "        vertical-align: middle;\n",
       "    }\n",
       "\n",
       "    .dataframe tbody tr th {\n",
       "        vertical-align: top;\n",
       "    }\n",
       "\n",
       "    .dataframe thead th {\n",
       "        text-align: right;\n",
       "    }\n",
       "</style>\n",
       "<table border=\"1\" class=\"dataframe\">\n",
       "  <thead>\n",
       "    <tr style=\"text-align: right;\">\n",
       "      <th></th>\n",
       "      <th>Outlook</th>\n",
       "      <th>Temperature</th>\n",
       "      <th>Humidity</th>\n",
       "      <th>Wind</th>\n",
       "      <th>Decision</th>\n",
       "    </tr>\n",
       "  </thead>\n",
       "  <tbody>\n",
       "    <tr>\n",
       "      <th>0</th>\n",
       "      <td>2</td>\n",
       "      <td>1</td>\n",
       "      <td>0</td>\n",
       "      <td>1</td>\n",
       "      <td>0</td>\n",
       "    </tr>\n",
       "    <tr>\n",
       "      <th>1</th>\n",
       "      <td>2</td>\n",
       "      <td>1</td>\n",
       "      <td>0</td>\n",
       "      <td>0</td>\n",
       "      <td>0</td>\n",
       "    </tr>\n",
       "    <tr>\n",
       "      <th>7</th>\n",
       "      <td>2</td>\n",
       "      <td>2</td>\n",
       "      <td>0</td>\n",
       "      <td>1</td>\n",
       "      <td>0</td>\n",
       "    </tr>\n",
       "    <tr>\n",
       "      <th>8</th>\n",
       "      <td>2</td>\n",
       "      <td>0</td>\n",
       "      <td>1</td>\n",
       "      <td>1</td>\n",
       "      <td>1</td>\n",
       "    </tr>\n",
       "    <tr>\n",
       "      <th>10</th>\n",
       "      <td>2</td>\n",
       "      <td>2</td>\n",
       "      <td>1</td>\n",
       "      <td>0</td>\n",
       "      <td>1</td>\n",
       "    </tr>\n",
       "  </tbody>\n",
       "</table>\n",
       "</div>"
      ],
      "text/plain": [
       "    Outlook  Temperature  Humidity  Wind  Decision\n",
       "0         2            1         0     1         0\n",
       "1         2            1         0     0         0\n",
       "7         2            2         0     1         0\n",
       "8         2            0         1     1         1\n",
       "10        2            2         1     0         1"
      ]
     },
     "execution_count": 157,
     "metadata": {},
     "output_type": "execute_result"
    }
   ],
   "source": [
    "tree[i]"
   ]
  },
  {
   "cell_type": "code",
   "execution_count": 144,
   "id": "1cc85ba7",
   "metadata": {},
   "outputs": [
    {
     "name": "stdout",
     "output_type": "stream",
     "text": [
      "done\n",
      "Outlook\n"
     ]
    }
   ],
   "source": [
    " for i in book[f\"{bf}\"].unique():\n",
    "            if book[book[f'{bf}']==i][f'{target}'].nunique()==1:\n",
    "                print(\"done\")\n",
    "                print(bf)"
   ]
  },
  {
   "cell_type": "code",
   "execution_count": 145,
   "id": "872f528b",
   "metadata": {},
   "outputs": [],
   "source": [
    "bf='Outlook'"
   ]
  },
  {
   "cell_type": "code",
   "execution_count": 147,
   "id": "d139cb74",
   "metadata": {},
   "outputs": [
    {
     "ename": "TypeError",
     "evalue": "'dict' object is not callable",
     "output_type": "error",
     "traceback": [
      "\u001b[1;31m---------------------------------------------------------------------------\u001b[0m",
      "\u001b[1;31mTypeError\u001b[0m                                 Traceback (most recent call last)",
      "Input \u001b[1;32mIn [147]\u001b[0m, in \u001b[0;36m<cell line: 1>\u001b[1;34m()\u001b[0m\n\u001b[1;32m----> 1\u001b[0m \u001b[43mtree\u001b[49m\u001b[43m(\u001b[49m\u001b[43mbook\u001b[49m\u001b[43m,\u001b[49m\u001b[38;5;124;43m'\u001b[39;49m\u001b[38;5;124;43mDecision\u001b[39;49m\u001b[38;5;124;43m'\u001b[39;49m\u001b[43m)\u001b[49m\n",
      "Input \u001b[1;32mIn [143]\u001b[0m, in \u001b[0;36mtree\u001b[1;34m(df, target)\u001b[0m\n\u001b[0;32m     10\u001b[0m     tree[\u001b[38;5;124mf\u001b[39m\u001b[38;5;124m'\u001b[39m\u001b[38;5;132;01m{\u001b[39;00mbf\u001b[38;5;132;01m}\u001b[39;00m\u001b[38;5;124m_\u001b[39m\u001b[38;5;132;01m{\u001b[39;00mi\u001b[38;5;132;01m}\u001b[39;00m\u001b[38;5;124m'\u001b[39m]\u001b[38;5;241m=\u001b[39mdf[df[\u001b[38;5;124mf\u001b[39m\u001b[38;5;124m\"\u001b[39m\u001b[38;5;132;01m{\u001b[39;00mbf\u001b[38;5;132;01m}\u001b[39;00m\u001b[38;5;124m\"\u001b[39m]\u001b[38;5;241m==\u001b[39mi]\n\u001b[0;32m     11\u001b[0m \u001b[38;5;28;01mfor\u001b[39;00m i \u001b[38;5;129;01min\u001b[39;00m \u001b[38;5;28mlist\u001b[39m(tree\u001b[38;5;241m.\u001b[39mkeys()):\n\u001b[1;32m---> 12\u001b[0m     \u001b[43mtree\u001b[49m\u001b[43m(\u001b[49m\u001b[38;5;241;43m*\u001b[39;49m\u001b[43mtree\u001b[49m\u001b[43m[\u001b[49m\u001b[43mi\u001b[49m\u001b[43m]\u001b[49m\u001b[43m,\u001b[49m\u001b[43mtarget\u001b[49m\u001b[43m,\u001b[49m\u001b[43mbf\u001b[49m\u001b[43m)\u001b[49m\n",
      "\u001b[1;31mTypeError\u001b[0m: 'dict' object is not callable"
     ]
    }
   ],
   "source": [
    "tree(book,'Decision')"
   ]
  },
  {
   "cell_type": "code",
   "execution_count": null,
   "id": "1f19a23e",
   "metadata": {},
   "outputs": [],
   "source": []
  }
 ],
 "metadata": {
  "kernelspec": {
   "display_name": "Python 3 (ipykernel)",
   "language": "python",
   "name": "python3"
  },
  "language_info": {
   "codemirror_mode": {
    "name": "ipython",
    "version": 3
   },
   "file_extension": ".py",
   "mimetype": "text/x-python",
   "name": "python",
   "nbconvert_exporter": "python",
   "pygments_lexer": "ipython3",
   "version": "3.9.12"
  }
 },
 "nbformat": 4,
 "nbformat_minor": 5
}
